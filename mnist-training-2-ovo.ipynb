{
 "cells": [
  {
   "cell_type": "code",
   "execution_count": 1,
   "metadata": {
    "collapsed": true
   },
   "outputs": [],
   "source": [
    "%matplotlib notebook\n",
    "from matplotlib import pyplot as plt\n",
    "import numpy as np"
   ]
  },
  {
   "cell_type": "code",
   "execution_count": 15,
   "metadata": {
    "collapsed": true
   },
   "outputs": [],
   "source": [
    "from torchvision import datasets, transforms\n",
    "from torch.autograd import Variable\n",
    "import torchvision,torch\n",
    "import torch.nn as nn\n",
    "root = '/rawdata'\n",
    "trans = transforms.Compose([transforms.ToTensor(), transforms.Normalize((0.5,), (0.5,))])\n",
    "train_set = torchvision.datasets.MNIST(root=root, train=True, transform=trans, download=True)\n",
    "test_set = torchvision.datasets.MNIST(root=root, train=False, transform=trans, download=True)\n",
    "kwargs = {'num_workers': 0, 'pin_memory': True}\n",
    "train_loader = torch.utils.data.DataLoader(\n",
    "             dataset=train_set,\n",
    "             batch_size=65536,\n",
    "             shuffle=False, **kwargs)\n",
    "test_loader = torch.utils.data.DataLoader(\n",
    "            dataset=test_set,\n",
    "            batch_size=65536,\n",
    "            shuffle=False, **kwargs)\n",
    "import random\n",
    "def randomize(a,b):\n",
    "    c = list(zip(a,b))\n",
    "    random.shuffle(c)\n",
    "    a,b = zip(*c)\n",
    "    return np.array(a).astype(np.float32),np.array(b).astype(np.float32)"
   ]
  },
  {
   "cell_type": "code",
   "execution_count": 16,
   "metadata": {
    "collapsed": true
   },
   "outputs": [],
   "source": [
    "for batch_idx, (data, target) in enumerate(train_loader):\n",
    "    train_input = data.numpy()\n",
    "    train_targets = target.numpy()\n",
    "for batch_idx, (data, target) in enumerate(test_loader):\n",
    "    test_input = data.numpy()\n",
    "    test_targets = target.numpy()"
   ]
  },
  {
   "cell_type": "code",
   "execution_count": 17,
   "metadata": {
    "collapsed": true
   },
   "outputs": [],
   "source": [
    "import torch.nn.functional as F\n",
    "def torchDiffWMW( target,pred, gamma=0.5, p = 2):    \n",
    "    mask = target.type(torch.cuda.ByteTensor)\n",
    "    x = torch.masked_select(pred, 1+(-1)*mask).view(1,-1)\n",
    "    y = torch.masked_select(pred, mask).view(-1,1)\n",
    "    xn = x.expand(y.size(0), x.size(1))\n",
    "    yn = y.expand(y.size(0), x.size(1))\n",
    "    mask = (xn-yn) < gamma\n",
    "    ur = torch.pow((xn-yn-gamma),p)*mask.type(torch.cuda.FloatTensor)\n",
    "    return torch.sum(ur) / torch.sum(target) / torch.sum(1-target)\n",
    "\n",
    "def torchSigWMW( target,pred, beta=2):    \n",
    "    mask = target.type(torch.cuda.ByteTensor)\n",
    "    x = torch.masked_select(pred, 1+(-1)*mask).view(1,-1)\n",
    "    y = torch.masked_select(pred, mask).view(-1,1)\n",
    "    xn = x.expand(y.size(0), x.size(1))\n",
    "    yn = y.expand(y.size(0), x.size(1))\n",
    "    ur = F.sigmoid(-beta*(xn-yn))\n",
    "    return torch.sum(ur) / torch.sum(target) / torch.sum(1-target)\n",
    "def torchPairSigWMW( target,pred, pred_class, other_class,beta=2):    \n",
    "    mask = target.type(torch.cuda.ByteTensor)\n",
    "    oc = (target == other_class)\n",
    "    pc = (target == pred_class)\n",
    "    x = torch.masked_select(pred, oc).view(1,-1)\n",
    "    y = torch.masked_select(pred, pc).view(-1,1)\n",
    "    xn = x.expand(y.size(0), x.size(1))\n",
    "    yn = y.expand(y.size(0), x.size(1))\n",
    "    ur = F.sigmoid(-beta*(xn-yn))\n",
    "    return torch.sum(ur) / torch.sum(oc).float() / torch.sum(pc).float()\n",
    "def npSigWMW( target,pred, beta=2):\n",
    "    \n",
    "    x = pred[target == 0.0].reshape((1,-1))\n",
    "    y = pred[target == 1.0].reshape((-1,1))    \n",
    "    xn = np.repeat(x, y.shape[0], 0)\n",
    "    yn = np.repeat(y, x.shape[1], 1)\n",
    "    ur = 1.0 / (1.0 + np.exp(beta*(xn-yn)))\n",
    "    \n",
    "    return ur.sum() / float(np.sum(target)) / float(np.sum(1.0 - target))\n",
    "\n",
    "\n",
    "\n",
    "def npDiffWMW(target,pred, gamma=0.5, p = 2): \n",
    "    \n",
    "    x = pred[target == 0.0].reshape((1,-1))\n",
    "    y = pred[target == 1.0].reshape((-1,1))    \n",
    "    xn = np.repeat(x, y.shape[0], 0)\n",
    "    yn = np.repeat(y, x.shape[1], 1)\n",
    "    mask = (xn-yn) < gamma    \n",
    "    ur = np.power((xn-yn-gamma),p)*mask\n",
    "    return ur.sum() / float(np.sum(target)) / float(np.sum(1.0 - target))\n",
    "def npAUC(target,pred, gamma=0.0, p = 2): \n",
    "    \n",
    "    x = pred[target == 0.0].reshape((1,-1))\n",
    "    y = pred[target == 1.0].reshape((-1,1))    \n",
    "    xn = np.repeat(x, y.shape[0], 0)\n",
    "    yn = np.repeat(y, x.shape[1], 1)\n",
    "    mask = (xn-yn) < gamma    \n",
    "    ur = mask\n",
    "    return ur.sum() / float(np.sum(target)) / float(np.sum(1.0 - target))\n",
    "class StratifiedSampler(torch.utils.data.sampler.Sampler):\n",
    "    def __init__(self, class_vector, target_frequencies=None,random_seed=0):\n",
    "        \"\"\"\n",
    "        Arguments\n",
    "        ---------\n",
    "        class_vector : torch tensor\n",
    "            a vector of class labels\n",
    "        target_frequencies : a list\n",
    "            a list of desired frequencies for each class\n",
    "            this should be a list of floats or None \n",
    "        \"\"\"\n",
    "        self.class_vector = class_vector\n",
    "        self.target_frequencies = target_frequencies\n",
    "        np.random.seed(random_seed)\n",
    "        random.seed(random_seed)\n",
    "\n",
    "    def gen_sample_array(self):\n",
    "        y = self.class_vector.numpy().astype(int)\n",
    "        classes = np.unique(y)\n",
    "        if self.target_frequencies == None: self.target_frequencies = [1.0] * len(classes)\n",
    "        class_draw = []      \n",
    "        max_num_in_class = max(np.bincount(y))\n",
    "        for c in classes:\n",
    "            class_indices = np.where(y == c)[0]\n",
    "            repeats = max_num_in_class * self.target_frequencies[c] // len(class_indices) + 1\n",
    "            class_indices = class_indices.repeat(repeats)\n",
    "            np.random.shuffle(class_indices)\n",
    "            class_draw.append(class_indices[:max_num_in_class])\n",
    "\n",
    "        class_draw = np.array(class_draw)\n",
    "        class_draw = np.transpose(class_draw).flatten()   \n",
    "        return class_draw[:len(y)]\n",
    "\n",
    "    def __iter__(self):\n",
    "        return iter(self.gen_sample_array())\n",
    "\n",
    "    def __len__(self):\n",
    "        return len(self.class_vector)\n",
    "class Flatten(nn.Module):\n",
    "    def forward(self, input):\n",
    "        return input.view(input.size(0), -1)\n",
    "def makeLenet(softmax = True):\n",
    "    if softmax:\n",
    "        return nn.Sequential(\n",
    "                nn.Conv2d(in_channels=1,out_channels=20,kernel_size=5),\n",
    "                nn.MaxPool2d(2),\n",
    "                nn.Conv2d(in_channels=20,out_channels=50,kernel_size=5),\n",
    "                nn.MaxPool2d(2),\n",
    "                Flatten(),\n",
    "                nn.Linear(4*4*50,500),\n",
    "                nn.ReLU(inplace=True),\n",
    "                nn.Linear(500,10),\n",
    "                nn.Softmax()            \n",
    "            ).cuda()\n",
    "    else:\n",
    "        return nn.Sequential(\n",
    "                nn.Conv2d(in_channels=1,out_channels=20,kernel_size=5),\n",
    "                nn.MaxPool2d(2),\n",
    "                nn.Conv2d(in_channels=20,out_channels=50,kernel_size=5),\n",
    "                nn.MaxPool2d(2),\n",
    "                Flatten(),\n",
    "                nn.Linear(4*4*50,500),\n",
    "                nn.ReLU(inplace=True),\n",
    "                nn.Linear(500,10),    \n",
    "            ).cuda()\n",
    "MNIST_lenet = makeLenet()"
   ]
  },
  {
   "cell_type": "code",
   "execution_count": 18,
   "metadata": {},
   "outputs": [],
   "source": [
    "from tqdm import tqdm_notebook as tqdm\n",
    "import torch.optim as optim\n",
    "from sklearn import metrics\n",
    "def adjust_learning_rate(optimizer, lr):\n",
    "    for param_group in optimizer.param_groups:\n",
    "        param_group['lr'] = lr\n",
    "\n",
    "num_classes = 10       \n",
    "iterations = 10000\n",
    "u = 0.9\n",
    "\n",
    "gamma_lr = 0.0001\n",
    "alpha = 0.75\n",
    "def ovoWMWLoss(pred, target, beta):\n",
    "    ret = 0\n",
    "    for i in range(num_classes):\n",
    "        for k in range(num_classes):\n",
    "            if i!=k:\n",
    "                ret += torchPairSigWMW(target, pred[:,i], i, k, beta)\n",
    "    return -ret / (float(num_classes) * (float(num_classes) - 1.0) )\n",
    "\n",
    "def WMWLoss(pred, target, beta):\n",
    "    ret = 0\n",
    "    for i in range(num_classes):\n",
    "        ret += torchSigWMW((target == i).long().float(), pred[:,i], beta)\n",
    "    return -ret / float(num_classes)\n",
    "def npWMWLoss(pred, target, beta):\n",
    "    ret = 0\n",
    "    for i in range(num_classes):\n",
    "        t = npSigWMW((target == i).astype(np.float32), pred[:,i], beta)\n",
    "        ret += t\n",
    "    return -ret / float(num_classes)\n",
    "def makeSig(beta):\n",
    "    return lambda x,y : WMWLoss(x,y,beta)\n",
    "def makeOvoSig(beta):\n",
    "    return lambda x,y : ovoWMWLoss(x,y,beta)\n",
    "def train(loss_function, iterations=10000,lr = 0.001,decay=0.0005): # nn.CrossEntropyLoss(size_average = True)\n",
    "    MNIST_lenet = makeLenet()\n",
    "    iteration = 0\n",
    "    optimizer = optim.Adam(MNIST_lenet.parameters(), lr=lr, weight_decay=decay)    \n",
    "    finish = False\n",
    "    pbar = tqdm(total=iterations)\n",
    "    ll_losses = []\n",
    "    all_test_auc=[]\n",
    "    ret = []\n",
    "    while not finish:\n",
    "        # train \n",
    "        for data,labels in train_loader:\n",
    "            data = Variable(data.cuda())\n",
    "            labels = Variable(labels.cuda()).long()          \n",
    "            #djust_learning_rate(optimizer, lr * np.power((1 + gamma_lr * iteration) , (-alpha)))\n",
    "            optimizer.zero_grad()            \n",
    "            output = MNIST_lenet(data)\n",
    "            loss = loss_function(output, labels)\n",
    "            loss.backward() \n",
    "            ll_losses.append(loss.cpu().data.numpy()[0])\n",
    "            optimizer.step()\n",
    "            iteration += 1\n",
    "            pbar.update(1)\n",
    "            \n",
    "            # test\n",
    "            if iteration % 100 == 0:\n",
    "                test_output_torch = MNIST_lenet(test_input_balanced)\n",
    "                test_output = test_output_torch.cpu().data.numpy()\n",
    "                aucs = []\n",
    "                for i in range(num_classes):\n",
    "                    for k in range(num_classes):\n",
    "                        if i != k:\n",
    "                            fpr, tpr, thresholds = metrics.roc_curve(test_targets_balanced_np[np.logical_or(test_targets_balanced_np == i, test_targets_balanced_np == k)],\n",
    "                                                                     test_output[np.logical_or(test_targets_balanced_np == i, test_targets_balanced_np == k),i], pos_label=i)   \n",
    "                            auc = metrics.auc(fpr, tpr)  \n",
    "                            #auc2 = npDiffWMW((test_targets_balanced_np == i).astype(int), test_output[:,i], gamma=0)\n",
    "                            #print (auc,auc2)\n",
    "                            aucs.append(auc)    \n",
    "                all_test_auc.append(np.mean(aucs))    \n",
    "                accuracy = metrics.accuracy_score(test_targets_balanced_np, np.argmax(test_output, axis=1)) \n",
    "                ret.append([np.mean(aucs), accuracy, loss.cpu().data.numpy()[0]])\n",
    "                print ('Multiclass ROC', np.mean(aucs), 'Accuracy', accuracy, 'loss', loss.cpu().data.numpy()[0])\n",
    "            if iteration >= iterations: \n",
    "                finish = True\n",
    "                break\n",
    "        \n",
    "        #print ('Multiclass ROC', np.mean(aucs), 'Accuracy', accuracy, 'loss', loss.cpu().data.numpy()[0])\n",
    "    return ret, MNIST_lenet"
   ]
  },
  {
   "cell_type": "code",
   "execution_count": 19,
   "metadata": {
    "collapsed": true
   },
   "outputs": [],
   "source": [
    "def makeTestSet(mu, p,seed=0):\n",
    "    \n",
    "    test_nums = []\n",
    "    for i in range(10):\n",
    "        n = 500\n",
    "        if i >= mu*10:\n",
    "            n /= p\n",
    "        test_nums.append(int(n))\n",
    "    print (test_nums)\n",
    "    test_input_r, test_targets_r = randomize(test_input, test_targets)\n",
    "    test_input_balanced = flatten([test_input_r[test_targets_r == i][:test_nums[int(i)]] for i in range(10)])\n",
    "    test_targets_balanced = flatten([test_targets_r[test_targets_r == i][:test_nums[int(i)]] for i in range(10)])\n",
    "   \n",
    "    test_input_balanced_np, test_targets_balanced_np = randomize(test_input_balanced, test_targets_balanced)\n",
    "    test_input_balanced = torch.utils.data.TensorDataset(torch.from_numpy(test_input_balanced_np), \n",
    "                                                      torch.from_numpy(test_targets_balanced_np))\n",
    "    test_loader = torch.utils.data.DataLoader(\n",
    "             dataset=test_input_balanced,batch_size=65536,\n",
    "             shuffle=False, num_workers=int(0), pin_memory=True, drop_last=True)\n",
    "    test_input_balanced = Variable(torch.from_numpy(test_input_balanced_np).cuda(), volatile=True)\n",
    "    test_targets_balanced = Variable(torch.from_numpy(test_targets_balanced_np).cuda(), volatile=True)\n",
    "    return test_input_balanced,test_targets_balanced,test_input_balanced_np, test_targets_balanced_np,test_loader\n"
   ]
  },
  {
   "cell_type": "code",
   "execution_count": 20,
   "metadata": {},
   "outputs": [
    {
     "name": "stdout",
     "output_type": "stream",
     "text": [
      "[500, 500, 500, 500, 500, 500, 500, 500, 1, 1]\n"
     ]
    }
   ],
   "source": [
    "test_input_balanced,test_targets_balanced,test_input_balanced_np, test_targets_balanced_np,test_loader = makeTestSet(0.8, 500)"
   ]
  },
  {
   "cell_type": "code",
   "execution_count": 21,
   "metadata": {
    "scrolled": false
   },
   "outputs": [
    {
     "name": "stdout",
     "output_type": "stream",
     "text": [
      "[2, 2, 2, 2, 2, 2, 2, 2, 5000, 5000]\n"
     ]
    },
    {
     "data": {
      "application/vnd.jupyter.widget-view+json": {
       "model_id": "28df0c914e5744e8a2402b821208eded",
       "version_major": 2,
       "version_minor": 0
      },
      "text/plain": [
       "A Jupyter Widget"
      ]
     },
     "metadata": {},
     "output_type": "display_data"
    },
    {
     "name": "stdout",
     "output_type": "stream",
     "text": [
      "Multiclass ROC 0.927342533333 Accuracy 0.410794602699 loss -0.880116\n",
      "Multiclass ROC 0.908127866667 Accuracy 0.359820089955 loss -0.88052\n",
      "Multiclass ROC 0.914326977778 Accuracy 0.385807096452 loss -0.879411\n",
      "Multiclass ROC 0.9117168 Accuracy 0.388305847076 loss -0.880286\n",
      "Multiclass ROC 0.902752844444 Accuracy 0.422788605697 loss -0.880222\n",
      "Multiclass ROC 0.908108466667 Accuracy 0.425037481259 loss -0.880104\n",
      "Multiclass ROC 0.911352222222 Accuracy 0.408295852074 loss -0.879223\n",
      "Multiclass ROC 0.903527911111 Accuracy 0.372813593203 loss -0.880449\n",
      "Multiclass ROC 0.937811333333 Accuracy 0.558220889555 loss -0.879539\n",
      "Multiclass ROC 0.917889733333 Accuracy 0.463768115942 loss -0.879804\n",
      "Multiclass ROC 0.907927422222 Accuracy 0.466266866567 loss -0.874294\n",
      "Multiclass ROC 0.898056177778 Accuracy 0.383308345827 loss -0.88055\n",
      "Multiclass ROC 0.916755422222 Accuracy 0.486256871564 loss -0.880562\n",
      "Multiclass ROC 0.8910664 Accuracy 0.337831084458 loss -0.879732\n",
      "Multiclass ROC 0.8977692 Accuracy 0.415792103948 loss -0.879156\n",
      "Multiclass ROC 0.913502266667 Accuracy 0.387056471764 loss -0.880495\n",
      "Multiclass ROC 0.892706355556 Accuracy 0.36231884058 loss -0.880588\n",
      "Multiclass ROC 0.929663466667 Accuracy 0.456271864068 loss -0.880659\n",
      "Multiclass ROC 0.905959333333 Accuracy 0.411544227886 loss -0.880619\n",
      "Multiclass ROC 0.914873866667 Accuracy 0.431284357821 loss -0.874545\n"
     ]
    },
    {
     "data": {
      "application/vnd.jupyter.widget-view+json": {
       "model_id": "cd7ec9f2a2d041979e70bfe39f413588",
       "version_major": 2,
       "version_minor": 0
      },
      "text/plain": [
       "A Jupyter Widget"
      ]
     },
     "metadata": {},
     "output_type": "display_data"
    },
    {
     "name": "stdout",
     "output_type": "stream",
     "text": [
      "Multiclass ROC 0.927780311111 Accuracy 0.301849075462 loss 1.46377\n",
      "Multiclass ROC 0.939983422222 Accuracy 0.403048475762 loss 1.46127\n",
      "Multiclass ROC 0.916961244444 Accuracy 0.244627686157 loss 1.46202\n",
      "Multiclass ROC 0.909785111111 Accuracy 0.306596701649 loss 1.46274\n",
      "Multiclass ROC 0.908577244444 Accuracy 0.28135932034 loss 1.46155\n",
      "Multiclass ROC 0.923586 Accuracy 0.364317841079 loss 1.46182\n",
      "Multiclass ROC 0.891572177778 Accuracy 0.278610694653 loss 1.46236\n",
      "Multiclass ROC 0.906626933333 Accuracy 0.4007996002 loss 1.46986\n",
      "Multiclass ROC 0.874388444444 Accuracy 0.291854072964 loss 1.46204\n",
      "Multiclass ROC 0.876963333333 Accuracy 0.338830584708 loss 1.46132\n",
      "Multiclass ROC 0.886072222222 Accuracy 0.34007996002 loss 1.46634\n",
      "Multiclass ROC 0.901412755556 Accuracy 0.371564217891 loss 1.46162\n",
      "Multiclass ROC 0.9034012 Accuracy 0.33908045977 loss 1.46168\n",
      "Multiclass ROC 0.896018311111 Accuracy 0.310594702649 loss 1.46136\n",
      "Multiclass ROC 0.902985511111 Accuracy 0.40379810095 loss 1.46134\n",
      "Multiclass ROC 0.892700666667 Accuracy 0.356071964018 loss 1.46227\n",
      "Multiclass ROC 0.897912844444 Accuracy 0.374312843578 loss 1.47583\n",
      "Multiclass ROC 0.899921466667 Accuracy 0.355822088956 loss 1.46121\n",
      "Multiclass ROC 0.8695136 Accuracy 0.28235882059 loss 1.49291\n",
      "Multiclass ROC 0.897204133333 Accuracy 0.387556221889 loss 1.47027\n"
     ]
    }
   ],
   "source": [
    "\n",
    "flatten = lambda l: np.array([item for sublist in l for item in sublist])   \n",
    "\n",
    "mu = 0.8\n",
    "p = 2500 \n",
    "class_nums = []\n",
    "for i in range(10):\n",
    "    n = 5000\n",
    "    if i < mu*10:\n",
    "        n /= p\n",
    "    class_nums.append(int(n))\n",
    "print (class_nums)\n",
    "train_input_balanced = flatten([train_input[train_targets == i][:class_nums[int(i)]] for i in range(10)])\n",
    "train_targets_balanced = flatten([train_targets[train_targets == i][:class_nums[int(i)]] for i in range(10)])\n",
    "\n",
    "\n",
    "\n",
    "train_input_balanced_np, train_targets_balanced_np = randomize(train_input_balanced, train_targets_balanced)\n",
    "\n",
    "\n",
    "from torch.autograd import Variable\n",
    "train_input_balanced = torch.utils.data.TensorDataset(torch.from_numpy(train_input_balanced_np), \n",
    "                                                      torch.from_numpy(train_targets_balanced_np))\n",
    "\n",
    "\n",
    "\n",
    "sampler = StratifiedSampler(torch.from_numpy(train_targets_balanced_np))\n",
    "train_loader = torch.utils.data.DataLoader(\n",
    "             dataset=train_input_balanced,sampler=sampler,batch_size=64,\n",
    "             shuffle=False, num_workers=int(0), pin_memory=True, drop_last=True)\n",
    "\n",
    "\n",
    "\n",
    "_, model = train(makeOvoSig(2.0),2000)\n",
    "_, cemodel = train(nn.CrossEntropyLoss(size_average = True),2000)\n"
   ]
  },
  {
   "cell_type": "code",
   "execution_count": 22,
   "metadata": {
    "scrolled": true
   },
   "outputs": [
    {
     "name": "stdout",
     "output_type": "stream",
     "text": [
      "[5000, 5000, 5000, 5000, 5000, 5000, 5000, 5000, 5000, 5000]\n"
     ]
    },
    {
     "data": {
      "application/vnd.jupyter.widget-view+json": {
       "model_id": "d692789d572c4ff898a10ab4328db24d",
       "version_major": 2,
       "version_minor": 0
      },
      "text/plain": [
       "A Jupyter Widget"
      ]
     },
     "metadata": {},
     "output_type": "display_data"
    },
    {
     "name": "stdout",
     "output_type": "stream",
     "text": [
      "\n",
      "Multiclass ROC 0.993759155556 Accuracy 0.9244 loss -0.858344\n",
      "Multiclass ROC 0.997944666667 Accuracy 0.9552 loss -0.866302\n",
      "Multiclass ROC 0.999111511111 Accuracy 0.969 loss -0.845826\n",
      "Multiclass ROC 0.999173422222 Accuracy 0.9704 loss -0.855452\n",
      "Multiclass ROC 0.999606 Accuracy 0.9808 loss -0.875335\n",
      "Multiclass ROC 0.999585511111 Accuracy 0.9824 loss -0.867202\n",
      "Multiclass ROC 0.999535755556 Accuracy 0.9758 loss -0.864715\n",
      "Multiclass ROC 0.999237444444 Accuracy 0.9636 loss -0.874667\n",
      "Multiclass ROC 0.999401822222 Accuracy 0.9668 loss -0.858192\n",
      "Multiclass ROC 0.999779066667 Accuracy 0.9848 loss -0.863552\n",
      "Multiclass ROC 0.999792311111 Accuracy 0.9868 loss -0.879796\n",
      "Multiclass ROC 0.999785422222 Accuracy 0.9856 loss -0.867634\n",
      "Multiclass ROC 0.999717333333 Accuracy 0.984 loss -0.880228\n",
      "Multiclass ROC 0.999886866667 Accuracy 0.9864 loss -0.873181\n",
      "Multiclass ROC 0.9998056 Accuracy 0.9842 loss -0.868\n",
      "Multiclass ROC 0.9997672 Accuracy 0.9854 loss -0.877417\n",
      "Multiclass ROC 0.999832355556 Accuracy 0.9878 loss -0.876539\n",
      "Multiclass ROC 0.999816133333 Accuracy 0.9904 loss -0.879368\n",
      "Multiclass ROC 0.999763111111 Accuracy 0.9852 loss -0.87277\n",
      "Multiclass ROC 0.999856533333 Accuracy 0.9884 loss -0.871166\n"
     ]
    },
    {
     "data": {
      "application/vnd.jupyter.widget-view+json": {
       "model_id": "b80aa5192ccd499d96c9c7eed5197ca2",
       "version_major": 2,
       "version_minor": 0
      },
      "text/plain": [
       "A Jupyter Widget"
      ]
     },
     "metadata": {},
     "output_type": "display_data"
    },
    {
     "name": "stdout",
     "output_type": "stream",
     "text": [
      "Multiclass ROC 0.993826488889 Accuracy 0.9174 loss 1.51001\n",
      "Multiclass ROC 0.997034266667 Accuracy 0.9476 loss 1.50279\n",
      "Multiclass ROC 0.998389666667 Accuracy 0.9554 loss 1.53798\n",
      "Multiclass ROC 0.999015844444 Accuracy 0.9696 loss 1.49084\n",
      "Multiclass ROC 0.999143666667 Accuracy 0.9688 loss 1.50319\n",
      "Multiclass ROC 0.999300333333 Accuracy 0.9802 loss 1.5009\n",
      "Multiclass ROC 0.9995952 Accuracy 0.98 loss 1.53274\n",
      "Multiclass ROC 0.999708555556 Accuracy 0.988 loss 1.4913\n",
      "Multiclass ROC 0.999721533333 Accuracy 0.9864 loss 1.49441\n",
      "Multiclass ROC 0.999677177778 Accuracy 0.986 loss 1.46243\n",
      "\n",
      "Multiclass ROC 0.999532866667 Accuracy 0.9874 loss 1.46243\n",
      "Multiclass ROC 0.999621311111 Accuracy 0.9858 loss 1.46179\n",
      "Multiclass ROC 0.999828933333 Accuracy 0.9896 loss 1.46993\n",
      "Multiclass ROC 0.999851644444 Accuracy 0.9912 loss 1.48131\n",
      "Multiclass ROC 0.999836755556 Accuracy 0.989 loss 1.46667\n",
      "Multiclass ROC 0.999959066667 Accuracy 0.9946 loss 1.46833\n",
      "Multiclass ROC 0.999896222222 Accuracy 0.9924 loss 1.47797\n",
      "Multiclass ROC 0.999922644444 Accuracy 0.992 loss 1.47995\n",
      "Multiclass ROC 0.999776511111 Accuracy 0.99 loss 1.49293\n",
      "Multiclass ROC 0.999901044444 Accuracy 0.9922 loss 1.46281\n"
     ]
    },
    {
     "data": {
      "application/vnd.jupyter.widget-view+json": {
       "model_id": "2f97d90e3a324579b0661a7f276faebb",
       "version_major": 2,
       "version_minor": 0
      },
      "text/plain": [
       "A Jupyter Widget"
      ]
     },
     "metadata": {},
     "output_type": "display_data"
    },
    {
     "name": "stdout",
     "output_type": "stream",
     "text": [
      "\n",
      "Multiclass ROC 0.9942892 Accuracy 0.9062 loss -0.854679\n",
      "Multiclass ROC 0.997265177778 Accuracy 0.9454 loss -0.870402\n",
      "Multiclass ROC 0.998540177778 Accuracy 0.9628 loss -0.862137\n",
      "Multiclass ROC 0.9992288 Accuracy 0.974 loss -0.856798\n",
      "Multiclass ROC 0.999412 Accuracy 0.9734 loss -0.872545\n",
      "Multiclass ROC 0.9994924 Accuracy 0.9802 loss -0.864718\n",
      "Multiclass ROC 0.999726 Accuracy 0.9858 loss -0.872717\n",
      "Multiclass ROC 0.999602733333 Accuracy 0.982 loss -0.877287\n",
      "Multiclass ROC 0.999670333333 Accuracy 0.9846 loss -0.867607\n",
      "Multiclass ROC 0.999727466667 Accuracy 0.982 loss -0.862516\n",
      "Multiclass ROC 0.999413111111 Accuracy 0.9756 loss -0.875334\n",
      "Multiclass ROC 0.999601911111 Accuracy 0.9838 loss -0.867928\n",
      "Multiclass ROC 0.999821155556 Accuracy 0.9844 loss -0.875934\n",
      "Multiclass ROC 0.999884622222 Accuracy 0.986 loss -0.878716\n",
      "Multiclass ROC 0.999888577778 Accuracy 0.9858 loss -0.871623\n",
      "Multiclass ROC 0.999744 Accuracy 0.9844 loss -0.877929\n",
      "Multiclass ROC 0.999776444444 Accuracy 0.9836 loss -0.865241\n",
      "Multiclass ROC 0.999783955556 Accuracy 0.9874 loss -0.879403\n",
      "Multiclass ROC 0.999825733333 Accuracy 0.9888 loss -0.87311\n",
      "Multiclass ROC 0.999834355556 Accuracy 0.9916 loss -0.8796\n"
     ]
    },
    {
     "data": {
      "application/vnd.jupyter.widget-view+json": {
       "model_id": "0f0dd387acea48c183e3844e68dd8c5e",
       "version_major": 2,
       "version_minor": 0
      },
      "text/plain": [
       "A Jupyter Widget"
      ]
     },
     "metadata": {},
     "output_type": "display_data"
    },
    {
     "name": "stdout",
     "output_type": "stream",
     "text": [
      "Multiclass ROC 0.992419555556 Accuracy 0.896 loss 1.60844\n",
      "Multiclass ROC 0.997315688889 Accuracy 0.9456 loss 1.49678\n",
      "Multiclass ROC 0.998158711111 Accuracy 0.9618 loss 1.47932\n",
      "Multiclass ROC 0.998282511111 Accuracy 0.957 loss 1.5077\n",
      "Multiclass ROC 0.998616266667 Accuracy 0.9638 loss 1.53204\n",
      "Multiclass ROC 0.999238266667 Accuracy 0.9786 loss 1.4642\n",
      "Multiclass ROC 0.999303688889 Accuracy 0.974 loss 1.47205\n",
      "Multiclass ROC 0.999491066667 Accuracy 0.9742 loss 1.46614\n",
      "Multiclass ROC 0.999553155556 Accuracy 0.982 loss 1.47256\n",
      "Multiclass ROC 0.999486955556 Accuracy 0.9826 loss 1.46576\n",
      "Multiclass ROC 0.999624755556 Accuracy 0.9844 loss 1.46202\n",
      "Multiclass ROC 0.999596177778 Accuracy 0.9834 loss 1.46879\n",
      "Multiclass ROC 0.999662555556 Accuracy 0.9812 loss 1.47808\n",
      "\n",
      "Multiclass ROC 0.999750577778 Accuracy 0.9842 loss 1.49155\n",
      "Multiclass ROC 0.999835066667 Accuracy 0.9864 loss 1.4656\n",
      "Multiclass ROC 0.999828488889 Accuracy 0.9872 loss 1.47892\n",
      "Multiclass ROC 0.999928755556 Accuracy 0.9914 loss 1.46678\n",
      "Multiclass ROC 0.999844 Accuracy 0.9898 loss 1.47766\n",
      "Multiclass ROC 0.999839777778 Accuracy 0.9852 loss 1.49207\n",
      "Multiclass ROC 0.999680622222 Accuracy 0.9774 loss 1.47996\n"
     ]
    },
    {
     "data": {
      "application/vnd.jupyter.widget-view+json": {
       "model_id": "783ebfbda8fd401faecb024755fafec9",
       "version_major": 2,
       "version_minor": 0
      },
      "text/plain": [
       "A Jupyter Widget"
      ]
     },
     "metadata": {},
     "output_type": "display_data"
    },
    {
     "name": "stdout",
     "output_type": "stream",
     "text": [
      "\n",
      "Multiclass ROC 0.995031844444 Accuracy 0.9268 loss -0.859221\n",
      "Multiclass ROC 0.998160888889 Accuracy 0.9488 loss -0.858269\n",
      "Multiclass ROC 0.999067911111 Accuracy 0.9648 loss -0.877379\n",
      "Multiclass ROC 0.999124644444 Accuracy 0.9642 loss -0.875452\n",
      "Multiclass ROC 0.999489511111 Accuracy 0.9776 loss -0.867965\n",
      "Multiclass ROC 0.999427911111 Accuracy 0.9656 loss -0.872922\n",
      "Multiclass ROC 0.999699866667 Accuracy 0.9808 loss -0.862709\n",
      "Multiclass ROC 0.999606066667 Accuracy 0.9748 loss -0.87088\n",
      "Multiclass ROC 0.9995136 Accuracy 0.9764 loss -0.861487\n",
      "Multiclass ROC 0.999824311111 Accuracy 0.9868 loss -0.879451\n",
      "Multiclass ROC 0.999774088889 Accuracy 0.9824 loss -0.873422\n",
      "Multiclass ROC 0.999771022222 Accuracy 0.984 loss -0.879613\n",
      "Multiclass ROC 0.999765288889 Accuracy 0.9788 loss -0.879507\n",
      "Multiclass ROC 0.999672222222 Accuracy 0.9778 loss -0.863295\n",
      "Multiclass ROC 0.9998208 Accuracy 0.9866 loss -0.868164\n",
      "Multiclass ROC 0.999799466667 Accuracy 0.982 loss -0.872792\n",
      "Multiclass ROC 0.999800755556 Accuracy 0.9794 loss -0.875181\n",
      "Multiclass ROC 0.999800533333 Accuracy 0.9876 loss -0.88049\n",
      "Multiclass ROC 0.9998384 Accuracy 0.9872 loss -0.872205\n",
      "Multiclass ROC 0.999738 Accuracy 0.9848 loss -0.87556\n"
     ]
    },
    {
     "data": {
      "application/vnd.jupyter.widget-view+json": {
       "model_id": "2ab7407a845441baa99516e84bfaba27",
       "version_major": 2,
       "version_minor": 0
      },
      "text/plain": [
       "A Jupyter Widget"
      ]
     },
     "metadata": {},
     "output_type": "display_data"
    },
    {
     "name": "stdout",
     "output_type": "stream",
     "text": [
      "Multiclass ROC 0.9927766 Accuracy 0.8958 loss 1.52247\n",
      "Multiclass ROC 0.996124511111 Accuracy 0.9306 loss 1.56675\n",
      "Multiclass ROC 0.997780844444 Accuracy 0.9496 loss 1.53685\n",
      "Multiclass ROC 0.998507355556 Accuracy 0.9576 loss 1.51689\n",
      "Multiclass ROC 0.999203333333 Accuracy 0.9758 loss 1.47328\n",
      "Multiclass ROC 0.999135222222 Accuracy 0.9704 loss 1.50909\n",
      "Multiclass ROC 0.999375022222 Accuracy 0.9746 loss 1.48943\n",
      "Multiclass ROC 0.999697466667 Accuracy 0.9872 loss 1.46566\n",
      "Multiclass ROC 0.9995266 Accuracy 0.9816 loss 1.46317\n",
      "Multiclass ROC 0.999582155556 Accuracy 0.9826 loss 1.46886\n",
      "Multiclass ROC 0.999789822222 Accuracy 0.9848 loss 1.47687\n",
      "Multiclass ROC 0.999729911111 Accuracy 0.9842 loss 1.47092\n",
      "Multiclass ROC 0.999786444444 Accuracy 0.9864 loss 1.48803\n",
      "Multiclass ROC 0.999765755556 Accuracy 0.985 loss 1.46365\n",
      "Multiclass ROC 0.999840533333 Accuracy 0.987 loss 1.47232\n",
      "Multiclass ROC 0.999791755556 Accuracy 0.988 loss 1.46602\n",
      "\n",
      "Multiclass ROC 0.999819111111 Accuracy 0.9906 loss 1.49153\n",
      "Multiclass ROC 0.999903822222 Accuracy 0.9904 loss 1.46324\n",
      "Multiclass ROC 0.999847733333 Accuracy 0.9886 loss 1.49452\n",
      "Multiclass ROC 0.999819022222 Accuracy 0.9848 loss 1.50496\n",
      "[10, 10, 5000, 5000, 5000, 5000, 5000, 5000, 5000, 5000]\n"
     ]
    },
    {
     "data": {
      "application/vnd.jupyter.widget-view+json": {
       "model_id": "2a11fa2048f04249af980a84a1866419",
       "version_major": 2,
       "version_minor": 0
      },
      "text/plain": [
       "A Jupyter Widget"
      ]
     },
     "metadata": {},
     "output_type": "display_data"
    },
    {
     "name": "stdout",
     "output_type": "stream",
     "text": [
      "\n",
      "Multiclass ROC 0.994245888889 Accuracy 0.9082 loss -0.853438\n",
      "Multiclass ROC 0.996518244444 Accuracy 0.9268 loss -0.854377\n",
      "Multiclass ROC 0.997644111111 Accuracy 0.923 loss -0.870717\n",
      "Multiclass ROC 0.998519844444 Accuracy 0.943 loss -0.869024\n",
      "Multiclass ROC 0.998944577778 Accuracy 0.9536 loss -0.866788\n",
      "Multiclass ROC 0.999170088889 Accuracy 0.962 loss -0.867886\n",
      "Multiclass ROC 0.998861111111 Accuracy 0.9414 loss -0.87862\n",
      "Multiclass ROC 0.999281066667 Accuracy 0.9502 loss -0.877152\n",
      "Multiclass ROC 0.999275377778 Accuracy 0.9608 loss -0.866137\n",
      "Multiclass ROC 0.999489911111 Accuracy 0.9658 loss -0.870696\n",
      "Multiclass ROC 0.9995088 Accuracy 0.9624 loss -0.879242\n",
      "Multiclass ROC 0.999326044444 Accuracy 0.9596 loss -0.879363\n",
      "Multiclass ROC 0.9995448 Accuracy 0.968 loss -0.880393\n",
      "Multiclass ROC 0.999384755556 Accuracy 0.958 loss -0.876419\n",
      "Multiclass ROC 0.999422133333 Accuracy 0.9644 loss -0.87529\n",
      "Multiclass ROC 0.999441377778 Accuracy 0.9662 loss -0.87434\n",
      "Multiclass ROC 0.999565888889 Accuracy 0.9704 loss -0.868404\n",
      "Multiclass ROC 0.999368311111 Accuracy 0.9702 loss -0.870098\n",
      "Multiclass ROC 0.998858466667 Accuracy 0.9534 loss -0.864138\n",
      "Multiclass ROC 0.999418377778 Accuracy 0.9666 loss -0.871993\n"
     ]
    },
    {
     "data": {
      "application/vnd.jupyter.widget-view+json": {
       "model_id": "f5a37516baab4ccfbb647362e0d474d4",
       "version_major": 2,
       "version_minor": 0
      },
      "text/plain": [
       "A Jupyter Widget"
      ]
     },
     "metadata": {},
     "output_type": "display_data"
    },
    {
     "name": "stdout",
     "output_type": "stream",
     "text": [
      "Multiclass ROC 0.993158044444 Accuracy 0.9016 loss 1.57621\n",
      "Multiclass ROC 0.996209911111 Accuracy 0.9164 loss 1.53859\n",
      "Multiclass ROC 0.9981794 Accuracy 0.9394 loss 1.47938\n",
      "Multiclass ROC 0.998578066667 Accuracy 0.9452 loss 1.54386\n",
      "Multiclass ROC 0.998746755556 Accuracy 0.95 loss 1.50055\n",
      "Multiclass ROC 0.9988114 Accuracy 0.956 loss 1.48161\n",
      "Multiclass ROC 0.9987904 Accuracy 0.9488 loss 1.48608\n",
      "Multiclass ROC 0.999667288889 Accuracy 0.968 loss 1.46241\n",
      "Multiclass ROC 0.999412311111 Accuracy 0.955 loss 1.48747\n",
      "Multiclass ROC 0.9993344 Accuracy 0.9556 loss 1.46364\n",
      "Multiclass ROC 0.999363711111 Accuracy 0.9564 loss 1.46237\n",
      "Multiclass ROC 0.999513 Accuracy 0.9588 loss 1.46511\n",
      "Multiclass ROC 0.999460711111 Accuracy 0.9594 loss 1.46849\n",
      "Multiclass ROC 0.999333933333 Accuracy 0.9612 loss 1.48069\n",
      "Multiclass ROC 0.999721533333 Accuracy 0.9708 loss 1.47234\n",
      "Multiclass ROC 0.999685955556 Accuracy 0.9622 loss 1.46158\n",
      "\n",
      "Multiclass ROC 0.999593355556 Accuracy 0.9734 loss 1.4631\n",
      "Multiclass ROC 0.999603466667 Accuracy 0.9684 loss 1.46386\n",
      "Multiclass ROC 0.999117888889 Accuracy 0.9502 loss 1.4771\n",
      "Multiclass ROC 0.999508422222 Accuracy 0.966 loss 1.46208\n"
     ]
    },
    {
     "data": {
      "application/vnd.jupyter.widget-view+json": {
       "model_id": "e9b129968c524fc4a946aeffd95678ac",
       "version_major": 2,
       "version_minor": 0
      },
      "text/plain": [
       "A Jupyter Widget"
      ]
     },
     "metadata": {},
     "output_type": "display_data"
    },
    {
     "name": "stdout",
     "output_type": "stream",
     "text": [
      "Multiclass ROC 0.992551155556 Accuracy 0.8976 loss -0.834406\n",
      "\n",
      "Multiclass ROC 0.996788066667 Accuracy 0.926 loss -0.853184\n",
      "Multiclass ROC 0.998286844444 Accuracy 0.9388 loss -0.865532\n",
      "Multiclass ROC 0.998692111111 Accuracy 0.9392 loss -0.874058\n",
      "Multiclass ROC 0.999051644444 Accuracy 0.959 loss -0.875778\n",
      "Multiclass ROC 0.999317844444 Accuracy 0.9634 loss -0.859953\n",
      "Multiclass ROC 0.999099866667 Accuracy 0.9482 loss -0.859613\n",
      "Multiclass ROC 0.999170577778 Accuracy 0.9532 loss -0.876959\n",
      "Multiclass ROC 0.999324 Accuracy 0.9574 loss -0.87923\n",
      "Multiclass ROC 0.999452711111 Accuracy 0.9616 loss -0.864428\n",
      "Multiclass ROC 0.999283977778 Accuracy 0.96 loss -0.867218\n",
      "Multiclass ROC 0.999542355556 Accuracy 0.9622 loss -0.879038\n",
      "Multiclass ROC 0.999338333333 Accuracy 0.9604 loss -0.863317\n",
      "Multiclass ROC 0.999404577778 Accuracy 0.9552 loss -0.8753\n",
      "Multiclass ROC 0.999295288889 Accuracy 0.9624 loss -0.879189\n",
      "Multiclass ROC 0.9995744 Accuracy 0.9688 loss -0.861924\n",
      "Multiclass ROC 0.9994492 Accuracy 0.9674 loss -0.873744\n",
      "Multiclass ROC 0.999535777778 Accuracy 0.967 loss -0.875213\n",
      "Multiclass ROC 0.999376044444 Accuracy 0.9622 loss -0.873116\n",
      "Multiclass ROC 0.999458355556 Accuracy 0.968 loss -0.879607\n"
     ]
    },
    {
     "data": {
      "application/vnd.jupyter.widget-view+json": {
       "model_id": "c0313d5c55cf4436a76c35302b6dcb3c",
       "version_major": 2,
       "version_minor": 0
      },
      "text/plain": [
       "A Jupyter Widget"
      ]
     },
     "metadata": {},
     "output_type": "display_data"
    },
    {
     "name": "stdout",
     "output_type": "stream",
     "text": [
      "Multiclass ROC 0.986630733333 Accuracy 0.8462 loss 1.58887\n",
      "Multiclass ROC 0.996019 Accuracy 0.911 loss 1.53723\n",
      "Multiclass ROC 0.996469355556 Accuracy 0.9274 loss 1.50711\n",
      "Multiclass ROC 0.998215888889 Accuracy 0.9458 loss 1.50791\n",
      "Multiclass ROC 0.998518311111 Accuracy 0.9494 loss 1.49187\n",
      "Multiclass ROC 0.999124555556 Accuracy 0.9562 loss 1.48457\n",
      "Multiclass ROC 0.998748666667 Accuracy 0.9522 loss 1.50308\n",
      "Multiclass ROC 0.999181488889 Accuracy 0.9624 loss 1.4991\n",
      "Multiclass ROC 0.999374066667 Accuracy 0.9676 loss 1.47764\n",
      "Multiclass ROC 0.9991838 Accuracy 0.964 loss 1.47611\n",
      "Multiclass ROC 0.999369977778 Accuracy 0.97 loss 1.4712\n",
      "Multiclass ROC 0.999371733333 Accuracy 0.951 loss 1.47976\n",
      "Multiclass ROC 0.999615333333 Accuracy 0.9682 loss 1.46679\n",
      "Multiclass ROC 0.999228844444 Accuracy 0.9562 loss 1.48751\n",
      "Multiclass ROC 0.999404066667 Accuracy 0.969 loss 1.46272\n",
      "Multiclass ROC 0.999133488889 Accuracy 0.9598 loss 1.47654\n",
      "Multiclass ROC 0.999620377778 Accuracy 0.969 loss 1.46632\n",
      "\n",
      "Multiclass ROC 0.999520555556 Accuracy 0.9636 loss 1.46319\n",
      "Multiclass ROC 0.999638688889 Accuracy 0.9752 loss 1.46128\n",
      "Multiclass ROC 0.999681422222 Accuracy 0.9756 loss 1.46121\n"
     ]
    },
    {
     "data": {
      "application/vnd.jupyter.widget-view+json": {
       "model_id": "163ec8e49de34ed8a1f7c40d8b874da6",
       "version_major": 2,
       "version_minor": 0
      },
      "text/plain": [
       "A Jupyter Widget"
      ]
     },
     "metadata": {},
     "output_type": "display_data"
    },
    {
     "name": "stdout",
     "output_type": "stream",
     "text": [
      "2000/|/100%|| 2000/2000 [00:17<00:00, 250.60it/s]\n",
      "Multiclass ROC 0.991449933333 Accuracy 0.877 loss -0.844349\n",
      "Multiclass ROC 0.995846511111 Accuracy 0.922 loss -0.831272\n",
      "Multiclass ROC 0.997964088889 Accuracy 0.9374 loss -0.871273\n",
      "Multiclass ROC 0.998402911111 Accuracy 0.9396 loss -0.855427\n",
      "Multiclass ROC 0.999114577778 Accuracy 0.9576 loss -0.874757\n",
      "Multiclass ROC 0.999090177778 Accuracy 0.9426 loss -0.880504\n",
      "Multiclass ROC 0.998984622222 Accuracy 0.9552 loss -0.870655\n",
      "Multiclass ROC 0.999380577778 Accuracy 0.9608 loss -0.868515\n",
      "Multiclass ROC 0.999182311111 Accuracy 0.9576 loss -0.879909\n",
      "Multiclass ROC 0.999397333333 Accuracy 0.9688 loss -0.864345\n",
      "Multiclass ROC 0.999540533333 Accuracy 0.9704 loss -0.878279\n",
      "Multiclass ROC 0.999411333333 Accuracy 0.9658 loss -0.879509\n",
      "Multiclass ROC 0.999570533333 Accuracy 0.9664 loss -0.879239\n",
      "Multiclass ROC 0.999561333333 Accuracy 0.973 loss -0.875466\n",
      "Multiclass ROC 0.999521511111 Accuracy 0.9722 loss -0.879779\n",
      "Multiclass ROC 0.999616511111 Accuracy 0.9738 loss -0.877669\n",
      "Multiclass ROC 0.999578355556 Accuracy 0.969 loss -0.879999\n",
      "Multiclass ROC 0.999491733333 Accuracy 0.956 loss -0.874974\n",
      "Multiclass ROC 0.999621066667 Accuracy 0.9672 loss -0.879422\n",
      "Multiclass ROC 0.999614933333 Accuracy 0.9704 loss -0.88003\n"
     ]
    },
    {
     "data": {
      "application/vnd.jupyter.widget-view+json": {
       "model_id": "755531b2a8ba44d8b93cd6c266db5e4e",
       "version_major": 2,
       "version_minor": 0
      },
      "text/plain": [
       "A Jupyter Widget"
      ]
     },
     "metadata": {},
     "output_type": "display_data"
    },
    {
     "name": "stdout",
     "output_type": "stream",
     "text": [
      "Multiclass ROC 0.993303288889 Accuracy 0.8894 loss 1.54465\n",
      "Multiclass ROC 0.996811288889 Accuracy 0.9178 loss 1.51872\n",
      "Multiclass ROC 0.997508422222 Accuracy 0.9338 loss 1.50758\n",
      "Multiclass ROC 0.998249377778 Accuracy 0.9414 loss 1.50587\n",
      "Multiclass ROC 0.998270333333 Accuracy 0.9374 loss 1.49023\n",
      "Multiclass ROC 0.998767333333 Accuracy 0.9334 loss 1.47999\n",
      "Multiclass ROC 0.999090444444 Accuracy 0.952 loss 1.47208\n",
      "Multiclass ROC 0.999163733333 Accuracy 0.9518 loss 1.48804\n",
      "Multiclass ROC 0.9993134 Accuracy 0.9444 loss 1.46945\n",
      "Multiclass ROC 0.999619733333 Accuracy 0.964 loss 1.50821\n",
      "Multiclass ROC 0.999313488889 Accuracy 0.9594 loss 1.46963\n",
      "Multiclass ROC 0.999382733333 Accuracy 0.9636 loss 1.46282\n",
      "Multiclass ROC 0.999494044444 Accuracy 0.968 loss 1.46152\n",
      "Multiclass ROC 0.999462688889 Accuracy 0.9684 loss 1.46433\n",
      "Multiclass ROC 0.999424533333 Accuracy 0.9692 loss 1.46169\n",
      "Multiclass ROC 0.999546155556 Accuracy 0.965 loss 1.46157\n",
      "Multiclass ROC 0.999675111111 Accuracy 0.9758 loss 1.47768\n",
      "Multiclass ROC 0.999604666667 Accuracy 0.9744 loss 1.46363\n",
      "Multiclass ROC 0.999415066667 Accuracy 0.961 loss 1.47604\n",
      "Multiclass ROC 0.9996796 Accuracy 0.971 loss 1.46795\n",
      "[5, 5, 5000, 5000, 5000, 5000, 5000, 5000, 5000, 5000]\n"
     ]
    },
    {
     "data": {
      "application/vnd.jupyter.widget-view+json": {
       "model_id": "c7873148862d4066b24152586167d9c8",
       "version_major": 2,
       "version_minor": 0
      },
      "text/plain": [
       "A Jupyter Widget"
      ]
     },
     "metadata": {},
     "output_type": "display_data"
    },
    {
     "name": "stdout",
     "output_type": "stream",
     "text": [
      "\n",
      "Multiclass ROC 0.994384977778 Accuracy 0.9126 loss -0.856509\n",
      "Multiclass ROC 0.996895777778 Accuracy 0.9238 loss -0.84891\n",
      "Multiclass ROC 0.997629888889 Accuracy 0.935 loss -0.863553\n",
      "Multiclass ROC 0.998947377778 Accuracy 0.9532 loss -0.867355\n",
      "Multiclass ROC 0.999039844444 Accuracy 0.9534 loss -0.879197\n",
      "Multiclass ROC 0.999498733333 Accuracy 0.967 loss -0.868928\n",
      "Multiclass ROC 0.999347644444 Accuracy 0.9592 loss -0.879866\n",
      "Multiclass ROC 0.999458355556 Accuracy 0.967 loss -0.870681\n",
      "Multiclass ROC 0.999236111111 Accuracy 0.958 loss -0.869213\n",
      "Multiclass ROC 0.999050644444 Accuracy 0.9542 loss -0.875788\n",
      "Multiclass ROC 0.999244577778 Accuracy 0.9572 loss -0.874445\n",
      "Multiclass ROC 0.999489155556 Accuracy 0.9678 loss -0.875688\n",
      "Multiclass ROC 0.999538155556 Accuracy 0.9664 loss -0.863992\n",
      "Multiclass ROC 0.999465177778 Accuracy 0.967 loss -0.877707\n",
      "Multiclass ROC 0.999526533333 Accuracy 0.9692 loss -0.873751\n",
      "Multiclass ROC 0.999725777778 Accuracy 0.9718 loss -0.871196\n",
      "Multiclass ROC 0.9995346 Accuracy 0.9656 loss -0.871685\n",
      "Multiclass ROC 0.999677644444 Accuracy 0.976 loss -0.863741\n",
      "Multiclass ROC 0.999578822222 Accuracy 0.9682 loss -0.876609\n",
      "Multiclass ROC 0.999656266667 Accuracy 0.9768 loss -0.871335\n"
     ]
    },
    {
     "data": {
      "application/vnd.jupyter.widget-view+json": {
       "model_id": "977f50019a7d411a9dff492c791708c1",
       "version_major": 2,
       "version_minor": 0
      },
      "text/plain": [
       "A Jupyter Widget"
      ]
     },
     "metadata": {},
     "output_type": "display_data"
    },
    {
     "name": "stdout",
     "output_type": "stream",
     "text": [
      "Multiclass ROC 0.994099377778 Accuracy 0.9144 loss 1.48611\n",
      "Multiclass ROC 0.996099822222 Accuracy 0.9148 loss 1.51937\n",
      "Multiclass ROC 0.997651733333 Accuracy 0.9398 loss 1.49193\n",
      "\n",
      "Multiclass ROC 0.997946022222 Accuracy 0.9252 loss 1.50043\n",
      "Multiclass ROC 0.998721466667 Accuracy 0.9558 loss 1.49113\n",
      "Multiclass ROC 0.999093177778 Accuracy 0.9546 loss 1.47636\n",
      "Multiclass ROC 0.998951311111 Accuracy 0.9464 loss 1.46449\n",
      "Multiclass ROC 0.999218377778 Accuracy 0.9646 loss 1.46775\n",
      "Multiclass ROC 0.999040422222 Accuracy 0.9596 loss 1.47816\n",
      "Multiclass ROC 0.999209 Accuracy 0.9564 loss 1.47751\n",
      "Multiclass ROC 0.998944622222 Accuracy 0.9482 loss 1.46184\n",
      "Multiclass ROC 0.999269444444 Accuracy 0.9476 loss 1.46409\n",
      "Multiclass ROC 0.999505777778 Accuracy 0.9668 loss 1.48634\n",
      "Multiclass ROC 0.999284266667 Accuracy 0.9636 loss 1.46566\n",
      "Multiclass ROC 0.999504088889 Accuracy 0.9682 loss 1.46371\n",
      "Multiclass ROC 0.999638777778 Accuracy 0.9754 loss 1.46275\n",
      "Multiclass ROC 0.999578266667 Accuracy 0.9646 loss 1.48753\n",
      "Multiclass ROC 0.999637622222 Accuracy 0.9668 loss 1.46148\n",
      "Multiclass ROC 0.999554733333 Accuracy 0.9716 loss 1.46147\n",
      "Multiclass ROC 0.999067666667 Accuracy 0.9562 loss 1.47826\n"
     ]
    },
    {
     "data": {
      "application/vnd.jupyter.widget-view+json": {
       "model_id": "8b06de1551f54b1e831dde620b40bca3",
       "version_major": 2,
       "version_minor": 0
      },
      "text/plain": [
       "A Jupyter Widget"
      ]
     },
     "metadata": {},
     "output_type": "display_data"
    },
    {
     "name": "stdout",
     "output_type": "stream",
     "text": [
      "\n",
      "Multiclass ROC 0.991543377778 Accuracy 0.8814 loss -0.82942\n",
      "Multiclass ROC 0.995532466667 Accuracy 0.9244 loss -0.861095\n",
      "Multiclass ROC 0.998013422222 Accuracy 0.94 loss -0.868104\n",
      "Multiclass ROC 0.997652844444 Accuracy 0.9042 loss -0.851853\n",
      "Multiclass ROC 0.998938666667 Accuracy 0.9504 loss -0.871177\n",
      "Multiclass ROC 0.998867177778 Accuracy 0.9444 loss -0.875881\n",
      "Multiclass ROC 0.998740355556 Accuracy 0.942 loss -0.875634\n",
      "Multiclass ROC 0.998432266667 Accuracy 0.9438 loss -0.876685\n",
      "Multiclass ROC 0.998930088889 Accuracy 0.9432 loss -0.852931\n",
      "Multiclass ROC 0.998979333333 Accuracy 0.943 loss -0.875714\n",
      "Multiclass ROC 0.999285622222 Accuracy 0.9596 loss -0.862491\n",
      "Multiclass ROC 0.999235155556 Accuracy 0.9518 loss -0.872136\n",
      "Multiclass ROC 0.999320444444 Accuracy 0.956 loss -0.877096\n",
      "Multiclass ROC 0.999383111111 Accuracy 0.959 loss -0.878382\n",
      "Multiclass ROC 0.999357511111 Accuracy 0.9572 loss -0.87238\n",
      "Multiclass ROC 0.999428933333 Accuracy 0.9576 loss -0.871734\n",
      "Multiclass ROC 0.998949866667 Accuracy 0.9542 loss -0.879504\n",
      "Multiclass ROC 0.9996684 Accuracy 0.9736 loss -0.874658\n",
      "Multiclass ROC 0.999077422222 Accuracy 0.958 loss -0.866833\n",
      "Multiclass ROC 0.9995632 Accuracy 0.9592 loss -0.871619\n"
     ]
    },
    {
     "data": {
      "application/vnd.jupyter.widget-view+json": {
       "model_id": "e312614b162d4bc888bc9966043340ac",
       "version_major": 2,
       "version_minor": 0
      },
      "text/plain": [
       "A Jupyter Widget"
      ]
     },
     "metadata": {},
     "output_type": "display_data"
    },
    {
     "name": "stdout",
     "output_type": "stream",
     "text": [
      "Multiclass ROC 0.992888266667 Accuracy 0.8896 loss 1.49699\n",
      "Multiclass ROC 0.997176511111 Accuracy 0.9322 loss 1.50502\n",
      "Multiclass ROC 0.998099511111 Accuracy 0.9344 loss 1.50164\n",
      "Multiclass ROC 0.998538955556 Accuracy 0.9358 loss 1.49752\n",
      "Multiclass ROC 0.998735022222 Accuracy 0.9396 loss 1.46738\n",
      "Multiclass ROC 0.998338977778 Accuracy 0.9306 loss 1.47888\n",
      "Multiclass ROC 0.9990682 Accuracy 0.9524 loss 1.48133\n",
      "Multiclass ROC 0.998576466667 Accuracy 0.9388 loss 1.48602\n",
      "Multiclass ROC 0.999018288889 Accuracy 0.9436 loss 1.47221\n",
      "Multiclass ROC 0.999234311111 Accuracy 0.945 loss 1.47156\n",
      "Multiclass ROC 0.999455777778 Accuracy 0.9592 loss 1.48756\n",
      "\n",
      "Multiclass ROC 0.999178 Accuracy 0.9546 loss 1.46302\n",
      "Multiclass ROC 0.998909466667 Accuracy 0.9328 loss 1.48163\n",
      "Multiclass ROC 0.999235844444 Accuracy 0.9454 loss 1.46314\n",
      "Multiclass ROC 0.999448888889 Accuracy 0.9536 loss 1.47871\n",
      "Multiclass ROC 0.997926622222 Accuracy 0.932 loss 1.47696\n",
      "Multiclass ROC 0.999408755556 Accuracy 0.9572 loss 1.49233\n",
      "Multiclass ROC 0.999442711111 Accuracy 0.9536 loss 1.4854\n",
      "Multiclass ROC 0.999632666667 Accuracy 0.963 loss 1.4615\n",
      "Multiclass ROC 0.999100244444 Accuracy 0.9528 loss 1.4618\n"
     ]
    },
    {
     "data": {
      "application/vnd.jupyter.widget-view+json": {
       "model_id": "7615ebd7533e4e0f938e459ecb0e96f6",
       "version_major": 2,
       "version_minor": 0
      },
      "text/plain": [
       "A Jupyter Widget"
      ]
     },
     "metadata": {},
     "output_type": "display_data"
    },
    {
     "name": "stdout",
     "output_type": "stream",
     "text": [
      "\n",
      "Multiclass ROC 0.993674044444 Accuracy 0.9028 loss -0.840384\n",
      "Multiclass ROC 0.995502511111 Accuracy 0.9204 loss -0.850687\n",
      "Multiclass ROC 0.996615222222 Accuracy 0.9224 loss -0.854578\n",
      "Multiclass ROC 0.997901644444 Accuracy 0.9424 loss -0.85359\n",
      "Multiclass ROC 0.998566844444 Accuracy 0.9464 loss -0.868154\n",
      "Multiclass ROC 0.999128488889 Accuracy 0.9552 loss -0.870603\n",
      "Multiclass ROC 0.998195711111 Accuracy 0.927 loss -0.867022\n",
      "Multiclass ROC 0.998823533333 Accuracy 0.9524 loss -0.860894\n",
      "Multiclass ROC 0.999129533333 Accuracy 0.9628 loss -0.863203\n",
      "Multiclass ROC 0.999202844444 Accuracy 0.957 loss -0.876955\n",
      "Multiclass ROC 0.9988174 Accuracy 0.9554 loss -0.86457\n",
      "Multiclass ROC 0.999278088889 Accuracy 0.954 loss -0.879366\n",
      "Multiclass ROC 0.999336977778 Accuracy 0.9694 loss -0.874661\n",
      "Multiclass ROC 0.999176844444 Accuracy 0.9626 loss -0.867166\n",
      "Multiclass ROC 0.999343422222 Accuracy 0.958 loss -0.872331\n",
      "Multiclass ROC 0.999492355556 Accuracy 0.9628 loss -0.873062\n",
      "Multiclass ROC 0.999093777778 Accuracy 0.9484 loss -0.876605\n",
      "Multiclass ROC 0.999414844444 Accuracy 0.9702 loss -0.879532\n",
      "Multiclass ROC 0.999471911111 Accuracy 0.9676 loss -0.865968\n",
      "Multiclass ROC 0.999508644444 Accuracy 0.9672 loss -0.877272\n"
     ]
    },
    {
     "data": {
      "application/vnd.jupyter.widget-view+json": {
       "model_id": "8816de671beb4f889ef1a2db52ede79e",
       "version_major": 2,
       "version_minor": 0
      },
      "text/plain": [
       "A Jupyter Widget"
      ]
     },
     "metadata": {},
     "output_type": "display_data"
    },
    {
     "name": "stdout",
     "output_type": "stream",
     "text": [
      "Multiclass ROC 0.992802822222 Accuracy 0.8922 loss 1.5646\n",
      "Multiclass ROC 0.9947744 Accuracy 0.9054 loss 1.53124\n",
      "Multiclass ROC 0.997003377778 Accuracy 0.9272 loss 1.48101\n",
      "Multiclass ROC 0.997581377778 Accuracy 0.9294 loss 1.48413\n",
      "Multiclass ROC 0.998103266667 Accuracy 0.9428 loss 1.49082\n",
      "Multiclass ROC 0.9982612 Accuracy 0.9438 loss 1.49224\n",
      "Multiclass ROC 0.998788333333 Accuracy 0.95 loss 1.46387\n",
      "Multiclass ROC 0.998795711111 Accuracy 0.958 loss 1.47891\n",
      "Multiclass ROC 0.998912822222 Accuracy 0.9522 loss 1.46242\n",
      "Multiclass ROC 0.999211022222 Accuracy 0.9588 loss 1.46326\n",
      "Multiclass ROC 0.999267155556 Accuracy 0.961 loss 1.46132\n",
      "\n",
      "Multiclass ROC 0.999325466667 Accuracy 0.9586 loss 1.46154\n",
      "Multiclass ROC 0.999289644444 Accuracy 0.9588 loss 1.46663\n",
      "Multiclass ROC 0.999486755556 Accuracy 0.9574 loss 1.47253\n",
      "Multiclass ROC 0.999573422222 Accuracy 0.9624 loss 1.46316\n",
      "Multiclass ROC 0.999237222222 Accuracy 0.955 loss 1.49623\n",
      "Multiclass ROC 0.999304755556 Accuracy 0.9586 loss 1.46422\n",
      "Multiclass ROC 0.999574266667 Accuracy 0.9712 loss 1.46132\n",
      "Multiclass ROC 0.999362 Accuracy 0.9626 loss 1.46979\n",
      "Multiclass ROC 0.999143711111 Accuracy 0.9552 loss 1.46406\n",
      "[2, 2, 5000, 5000, 5000, 5000, 5000, 5000, 5000, 5000]\n"
     ]
    },
    {
     "data": {
      "application/vnd.jupyter.widget-view+json": {
       "model_id": "a3a34a37dcd24896b81ae482dfc778a3",
       "version_major": 2,
       "version_minor": 0
      },
      "text/plain": [
       "A Jupyter Widget"
      ]
     },
     "metadata": {},
     "output_type": "display_data"
    },
    {
     "name": "stdout",
     "output_type": "stream",
     "text": [
      "\n",
      "Multiclass ROC 0.988146644444 Accuracy 0.8168 loss -0.847869\n",
      "Multiclass ROC 0.993497977778 Accuracy 0.8752 loss -0.858495\n",
      "Multiclass ROC 0.996287133333 Accuracy 0.8916 loss -0.868911\n",
      "Multiclass ROC 0.997946911111 Accuracy 0.8942 loss -0.870152\n",
      "Multiclass ROC 0.997719755556 Accuracy 0.9006 loss -0.861471\n",
      "Multiclass ROC 0.998117844444 Accuracy 0.9024 loss -0.878725\n",
      "Multiclass ROC 0.997377333333 Accuracy 0.8916 loss -0.875493\n",
      "Multiclass ROC 0.998406622222 Accuracy 0.9292 loss -0.878823\n",
      "Multiclass ROC 0.997620755556 Accuracy 0.9122 loss -0.870428\n",
      "Multiclass ROC 0.998316266667 Accuracy 0.9094 loss -0.873616\n",
      "Multiclass ROC 0.998097511111 Accuracy 0.9076 loss -0.874018\n",
      "Multiclass ROC 0.998853644444 Accuracy 0.9158 loss -0.876291\n",
      "Multiclass ROC 0.998619777778 Accuracy 0.9114 loss -0.872252\n",
      "Multiclass ROC 0.997498844444 Accuracy 0.898 loss -0.876274\n",
      "Multiclass ROC 0.997586933333 Accuracy 0.9262 loss -0.877812\n",
      "Multiclass ROC 0.998772711111 Accuracy 0.9172 loss -0.872035\n",
      "Multiclass ROC 0.998633822222 Accuracy 0.9072 loss -0.878212\n",
      "Multiclass ROC 0.998734355556 Accuracy 0.9212 loss -0.877115\n",
      "Multiclass ROC 0.998718444444 Accuracy 0.9214 loss -0.879508\n",
      "Multiclass ROC 0.9969906 Accuracy 0.9046 loss -0.875961\n"
     ]
    },
    {
     "data": {
      "application/vnd.jupyter.widget-view+json": {
       "model_id": "f0c997453c724f4cb9137fd613e8f829",
       "version_major": 2,
       "version_minor": 0
      },
      "text/plain": [
       "A Jupyter Widget"
      ]
     },
     "metadata": {},
     "output_type": "display_data"
    },
    {
     "name": "stdout",
     "output_type": "stream",
     "text": [
      "Multiclass ROC 0.990053933333 Accuracy 0.836 loss 1.55656\n",
      "Multiclass ROC 0.991745444444 Accuracy 0.8432 loss 1.48527\n",
      "Multiclass ROC 0.995097022222 Accuracy 0.8658 loss 1.51337\n",
      "Multiclass ROC 0.995424688889 Accuracy 0.8598 loss 1.55404\n",
      "Multiclass ROC 0.995523222222 Accuracy 0.866 loss 1.4847\n",
      "Multiclass ROC 0.996179222222 Accuracy 0.8704 loss 1.47077\n",
      "Multiclass ROC 0.997081022222 Accuracy 0.8776 loss 1.48169\n",
      "Multiclass ROC 0.997460888889 Accuracy 0.8822 loss 1.46218\n",
      "Multiclass ROC 0.998066222222 Accuracy 0.894 loss 1.46342\n",
      "Multiclass ROC 0.997489266667 Accuracy 0.8932 loss 1.47588\n",
      "Multiclass ROC 0.997123888889 Accuracy 0.8962 loss 1.47516\n",
      "Multiclass ROC 0.997531177778 Accuracy 0.9036 loss 1.49245\n",
      "Multiclass ROC 0.9971666 Accuracy 0.894 loss 1.46352\n",
      "Multiclass ROC 0.997513488889 Accuracy 0.9122 loss 1.48742\n",
      "Multiclass ROC 0.997254266667 Accuracy 0.901 loss 1.4772\n",
      "Multiclass ROC 0.998943333333 Accuracy 0.9222 loss 1.48127\n",
      "Multiclass ROC 0.9983444 Accuracy 0.9252 loss 1.50293\n",
      "Multiclass ROC 0.998391044444 Accuracy 0.9198 loss 1.46125\n",
      "Multiclass ROC 0.998841577778 Accuracy 0.925 loss 1.46262\n",
      "Multiclass ROC 0.998798977778 Accuracy 0.9138 loss 1.46153\n"
     ]
    },
    {
     "data": {
      "application/vnd.jupyter.widget-view+json": {
       "model_id": "c7a44c45d396462b823a6322fa974e8a",
       "version_major": 2,
       "version_minor": 0
      },
      "text/plain": [
       "A Jupyter Widget"
      ]
     },
     "metadata": {},
     "output_type": "display_data"
    },
    {
     "name": "stdout",
     "output_type": "stream",
     "text": [
      "\n",
      "Multiclass ROC 0.992660533333 Accuracy 0.8624 loss -0.852532\n",
      "Multiclass ROC 0.995980511111 Accuracy 0.901 loss -0.86075\n",
      "Multiclass ROC 0.996992755556 Accuracy 0.895 loss -0.877901\n",
      "Multiclass ROC 0.998119444444 Accuracy 0.9154 loss -0.878861\n",
      "Multiclass ROC 0.9987074 Accuracy 0.9272 loss -0.870344\n",
      "Multiclass ROC 0.998750044444 Accuracy 0.9352 loss -0.866758\n",
      "Multiclass ROC 0.998976 Accuracy 0.9342 loss -0.870852\n",
      "Multiclass ROC 0.999075333333 Accuracy 0.9482 loss -0.873325\n",
      "Multiclass ROC 0.9994368 Accuracy 0.9432 loss -0.864803\n",
      "Multiclass ROC 0.999016977778 Accuracy 0.949 loss -0.867066\n",
      "Multiclass ROC 0.998949311111 Accuracy 0.9304 loss -0.860339\n",
      "Multiclass ROC 0.998524177778 Accuracy 0.9276 loss -0.873397\n",
      "Multiclass ROC 0.999123066667 Accuracy 0.926 loss -0.868402\n",
      "Multiclass ROC 0.998872888889 Accuracy 0.9312 loss -0.868961\n",
      "Multiclass ROC 0.998801111111 Accuracy 0.9368 loss -0.873067\n",
      "Multiclass ROC 0.9988238 Accuracy 0.9292 loss -0.869411\n",
      "Multiclass ROC 0.999299466667 Accuracy 0.9428 loss -0.879376\n",
      "Multiclass ROC 0.998911466667 Accuracy 0.9426 loss -0.870886\n",
      "Multiclass ROC 0.999306533333 Accuracy 0.948 loss -0.87242\n",
      "Multiclass ROC 0.999181777778 Accuracy 0.9476 loss -0.874329\n"
     ]
    },
    {
     "data": {
      "application/vnd.jupyter.widget-view+json": {
       "model_id": "e6168ced08684d38898fae039b709274",
       "version_major": 2,
       "version_minor": 0
      },
      "text/plain": [
       "A Jupyter Widget"
      ]
     },
     "metadata": {},
     "output_type": "display_data"
    },
    {
     "name": "stdout",
     "output_type": "stream",
     "text": [
      "Multiclass ROC 0.990189955556 Accuracy 0.8452 loss 1.58362\n",
      "Multiclass ROC 0.995307755556 Accuracy 0.8798 loss 1.50985\n",
      "Multiclass ROC 0.996406466667 Accuracy 0.9032 loss 1.5298\n",
      "Multiclass ROC 0.997420022222 Accuracy 0.9078 loss 1.48795\n",
      "Multiclass ROC 0.998638133333 Accuracy 0.9432 loss 1.50473\n",
      "Multiclass ROC 0.998091133333 Accuracy 0.9238 loss 1.49621\n",
      "Multiclass ROC 0.9987904 Accuracy 0.9306 loss 1.46483\n",
      "Multiclass ROC 0.998838777778 Accuracy 0.9228 loss 1.49\n",
      "Multiclass ROC 0.998668222222 Accuracy 0.9354 loss 1.49377\n",
      "Multiclass ROC 0.998790422222 Accuracy 0.9222 loss 1.47397\n",
      "Multiclass ROC 0.999147133333 Accuracy 0.9464 loss 1.46599\n",
      "Multiclass ROC 0.998876822222 Accuracy 0.9356 loss 1.47883\n",
      "Multiclass ROC 0.999224511111 Accuracy 0.9308 loss 1.47281\n",
      "Multiclass ROC 0.999148844444 Accuracy 0.93 loss 1.46517\n",
      "Multiclass ROC 0.9983916 Accuracy 0.9316 loss 1.47841\n",
      "Multiclass ROC 0.999115711111 Accuracy 0.9296 loss 1.49299\n",
      "Multiclass ROC 0.998908577778 Accuracy 0.915 loss 1.46247\n",
      "Multiclass ROC 0.998947577778 Accuracy 0.9338 loss 1.47812\n",
      "Multiclass ROC 0.999090755556 Accuracy 0.9268 loss 1.46171\n",
      "Multiclass ROC 0.999095355556 Accuracy 0.9224 loss 1.46781\n"
     ]
    },
    {
     "data": {
      "application/vnd.jupyter.widget-view+json": {
       "model_id": "51271a101f894014b4918b1d9210e3f6",
       "version_major": 2,
       "version_minor": 0
      },
      "text/plain": [
       "A Jupyter Widget"
      ]
     },
     "metadata": {},
     "output_type": "display_data"
    },
    {
     "name": "stdout",
     "output_type": "stream",
     "text": [
      "\n",
      "Multiclass ROC 0.985849555556 Accuracy 0.836 loss -0.833359\n",
      "Multiclass ROC 0.992213311111 Accuracy 0.8742 loss -0.832395\n",
      "Multiclass ROC 0.994389511111 Accuracy 0.8834 loss -0.858357\n",
      "Multiclass ROC 0.995171622222 Accuracy 0.91 loss -0.860031\n",
      "Multiclass ROC 0.995289066667 Accuracy 0.8894 loss -0.861923\n",
      "Multiclass ROC 0.997174688889 Accuracy 0.9182 loss -0.85836\n",
      "Multiclass ROC 0.9969918 Accuracy 0.9108 loss -0.862661\n",
      "Multiclass ROC 0.997616088889 Accuracy 0.924 loss -0.874373\n",
      "Multiclass ROC 0.998634133333 Accuracy 0.929 loss -0.871683\n",
      "Multiclass ROC 0.997470066667 Accuracy 0.9266 loss -0.872308\n",
      "Multiclass ROC 0.998722711111 Accuracy 0.9432 loss -0.875564\n",
      "Multiclass ROC 0.998136644444 Accuracy 0.9246 loss -0.873801\n",
      "Multiclass ROC 0.998810533333 Accuracy 0.9394 loss -0.871237\n",
      "Multiclass ROC 0.997816244444 Accuracy 0.9044 loss -0.876568\n",
      "Multiclass ROC 0.999051222222 Accuracy 0.9392 loss -0.879865\n",
      "Multiclass ROC 0.996596955556 Accuracy 0.9066 loss -0.871474\n",
      "Multiclass ROC 0.999212044444 Accuracy 0.9388 loss -0.879882\n",
      "Multiclass ROC 0.998855444444 Accuracy 0.9308 loss -0.879754\n",
      "Multiclass ROC 0.997840888889 Accuracy 0.9218 loss -0.870268\n",
      "Multiclass ROC 0.998342888889 Accuracy 0.9252 loss -0.870107\n"
     ]
    },
    {
     "data": {
      "application/vnd.jupyter.widget-view+json": {
       "model_id": "a08dd48725304d9fb2b5cb3c8665de22",
       "version_major": 2,
       "version_minor": 0
      },
      "text/plain": [
       "A Jupyter Widget"
      ]
     },
     "metadata": {},
     "output_type": "display_data"
    },
    {
     "name": "stdout",
     "output_type": "stream",
     "text": [
      "Multiclass ROC 0.9871446 Accuracy 0.8442 loss 1.51975\n",
      "Multiclass ROC 0.990587933333 Accuracy 0.8702 loss 1.51584\n",
      "Multiclass ROC 0.996053866667 Accuracy 0.9016 loss 1.50405\n",
      "Multiclass ROC 0.996945622222 Accuracy 0.903 loss 1.48715\n",
      "Multiclass ROC 0.997765066667 Accuracy 0.9208 loss 1.46574\n",
      "Multiclass ROC 0.997652 Accuracy 0.925 loss 1.46314\n",
      "Multiclass ROC 0.997179533333 Accuracy 0.9126 loss 1.48604\n",
      "Multiclass ROC 0.997546133333 Accuracy 0.9184 loss 1.47777\n",
      "Multiclass ROC 0.998382266667 Accuracy 0.9088 loss 1.46592\n",
      "Multiclass ROC 0.998262866667 Accuracy 0.9132 loss 1.48732\n",
      "Multiclass ROC 0.998778866667 Accuracy 0.9242 loss 1.46253\n",
      "Multiclass ROC 0.9980084 Accuracy 0.9126 loss 1.46452\n",
      "Multiclass ROC 0.998596177778 Accuracy 0.931 loss 1.47875\n",
      "Multiclass ROC 0.9981474 Accuracy 0.9246 loss 1.46505\n",
      "Multiclass ROC 0.998896177778 Accuracy 0.9278 loss 1.46134\n",
      "Multiclass ROC 0.997237111111 Accuracy 0.9004 loss 1.47322\n",
      "Multiclass ROC 0.997341088889 Accuracy 0.9066 loss 1.46332\n",
      "\n",
      "Multiclass ROC 0.997999066667 Accuracy 0.9128 loss 1.47341\n",
      "Multiclass ROC 0.998499488889 Accuracy 0.9274 loss 1.46139\n",
      "Multiclass ROC 0.998599488889 Accuracy 0.928 loss 1.46283\n",
      "[1, 1, 5000, 5000, 5000, 5000, 5000, 5000, 5000, 5000]\n"
     ]
    },
    {
     "data": {
      "application/vnd.jupyter.widget-view+json": {
       "model_id": "73fff33d14314e03878b4dc259e0a883",
       "version_major": 2,
       "version_minor": 0
      },
      "text/plain": [
       "A Jupyter Widget"
      ]
     },
     "metadata": {},
     "output_type": "display_data"
    },
    {
     "name": "stdout",
     "output_type": "stream",
     "text": [
      "\n",
      "Multiclass ROC 0.990704688889 Accuracy 0.8224 loss -0.849046\n",
      "Multiclass ROC 0.996062711111 Accuracy 0.8878 loss -0.873279\n",
      "Multiclass ROC 0.9956632 Accuracy 0.8746 loss -0.867412\n",
      "Multiclass ROC 0.997392088889 Accuracy 0.8788 loss -0.870175\n",
      "Multiclass ROC 0.997435155556 Accuracy 0.872 loss -0.866303\n",
      "Multiclass ROC 0.998412577778 Accuracy 0.8986 loss -0.874842\n",
      "Multiclass ROC 0.997942488889 Accuracy 0.9068 loss -0.877432\n",
      "Multiclass ROC 0.998290888889 Accuracy 0.8966 loss -0.875532\n",
      "Multiclass ROC 0.998415955556 Accuracy 0.9014 loss -0.875067\n",
      "Multiclass ROC 0.998668666667 Accuracy 0.894 loss -0.86208\n",
      "Multiclass ROC 0.998532355556 Accuracy 0.894 loss -0.874347\n",
      "Multiclass ROC 0.998773244444 Accuracy 0.9152 loss -0.873969\n",
      "Multiclass ROC 0.998642444444 Accuracy 0.9078 loss -0.878777\n",
      "Multiclass ROC 0.998536311111 Accuracy 0.8964 loss -0.874747\n",
      "Multiclass ROC 0.997536711111 Accuracy 0.8776 loss -0.878641\n",
      "Multiclass ROC 0.998729777778 Accuracy 0.9084 loss -0.876836\n",
      "Multiclass ROC 0.998633733333 Accuracy 0.9018 loss -0.8743\n",
      "Multiclass ROC 0.998542088889 Accuracy 0.9072 loss -0.869536\n",
      "Multiclass ROC 0.998692622222 Accuracy 0.8956 loss -0.879738\n",
      "Multiclass ROC 0.998635155556 Accuracy 0.8964 loss -0.88025\n"
     ]
    },
    {
     "data": {
      "application/vnd.jupyter.widget-view+json": {
       "model_id": "b05d3f801c8e4096bd4d8a88a1df04fe",
       "version_major": 2,
       "version_minor": 0
      },
      "text/plain": [
       "A Jupyter Widget"
      ]
     },
     "metadata": {},
     "output_type": "display_data"
    },
    {
     "name": "stdout",
     "output_type": "stream",
     "text": [
      "Multiclass ROC 0.969588888889 Accuracy 0.7366 loss 1.66129\n",
      "Multiclass ROC 0.972457511111 Accuracy 0.7412 loss 1.60695\n",
      "Multiclass ROC 0.990999822222 Accuracy 0.803 loss 1.50325\n",
      "Multiclass ROC 0.994845755556 Accuracy 0.852 loss 1.49626\n",
      "Multiclass ROC 0.9967552 Accuracy 0.8544 loss 1.47731\n",
      "Multiclass ROC 0.997645711111 Accuracy 0.871 loss 1.47973\n",
      "Multiclass ROC 0.997603622222 Accuracy 0.864 loss 1.48588\n",
      "Multiclass ROC 0.997286511111 Accuracy 0.8864 loss 1.51798\n",
      "Multiclass ROC 0.998361666667 Accuracy 0.9032 loss 1.46169\n",
      "Multiclass ROC 0.998511088889 Accuracy 0.9018 loss 1.47631\n",
      "Multiclass ROC 0.998198666667 Accuracy 0.8924 loss 1.48488\n",
      "Multiclass ROC 0.998102466667 Accuracy 0.896 loss 1.47656\n",
      "\n",
      "Multiclass ROC 0.997914444444 Accuracy 0.8868 loss 1.46335\n",
      "Multiclass ROC 0.998497533333 Accuracy 0.8854 loss 1.47267\n",
      "Multiclass ROC 0.998392533333 Accuracy 0.8978 loss 1.48018\n",
      "Multiclass ROC 0.998652 Accuracy 0.8932 loss 1.47868\n",
      "Multiclass ROC 0.998757977778 Accuracy 0.908 loss 1.48819\n",
      "Multiclass ROC 0.997755533333 Accuracy 0.8822 loss 1.4647\n",
      "Multiclass ROC 0.998671911111 Accuracy 0.8998 loss 1.47632\n",
      "Multiclass ROC 0.998478044444 Accuracy 0.8678 loss 1.46312\n"
     ]
    },
    {
     "data": {
      "application/vnd.jupyter.widget-view+json": {
       "model_id": "a6a7f95090c54321b1f9f3cf86ba00d2",
       "version_major": 2,
       "version_minor": 0
      },
      "text/plain": [
       "A Jupyter Widget"
      ]
     },
     "metadata": {},
     "output_type": "display_data"
    },
    {
     "name": "stdout",
     "output_type": "stream",
     "text": [
      "\n",
      "Multiclass ROC 0.989521066667 Accuracy 0.8004 loss -0.842528\n",
      "Multiclass ROC 0.994523155556 Accuracy 0.8808 loss -0.866352\n",
      "Multiclass ROC 0.996004422222 Accuracy 0.8464 loss -0.873056\n",
      "Multiclass ROC 0.996725688889 Accuracy 0.8556 loss -0.865956\n",
      "Multiclass ROC 0.996595755556 Accuracy 0.8736 loss -0.869605\n",
      "Multiclass ROC 0.9975748 Accuracy 0.896 loss -0.871215\n",
      "Multiclass ROC 0.9984166 Accuracy 0.9056 loss -0.874014\n",
      "Multiclass ROC 0.998165422222 Accuracy 0.923 loss -0.874646\n",
      "Multiclass ROC 0.998126688889 Accuracy 0.9078 loss -0.876108\n",
      "Multiclass ROC 0.998453555556 Accuracy 0.9008 loss -0.880115\n",
      "Multiclass ROC 0.998976177778 Accuracy 0.9094 loss -0.873886\n",
      "Multiclass ROC 0.998453688889 Accuracy 0.8728 loss -0.877331\n",
      "Multiclass ROC 0.998489822222 Accuracy 0.9144 loss -0.872264\n",
      "Multiclass ROC 0.998070488889 Accuracy 0.89 loss -0.866552\n",
      "Multiclass ROC 0.9978604 Accuracy 0.8996 loss -0.869395\n",
      "Multiclass ROC 0.998438733333 Accuracy 0.8916 loss -0.873403\n",
      "Multiclass ROC 0.997886488889 Accuracy 0.8944 loss -0.858884\n",
      "Multiclass ROC 0.998490266667 Accuracy 0.9028 loss -0.876096\n",
      "Multiclass ROC 0.998393511111 Accuracy 0.91 loss -0.877335\n",
      "Multiclass ROC 0.998607977778 Accuracy 0.8948 loss -0.878833\n"
     ]
    },
    {
     "data": {
      "application/vnd.jupyter.widget-view+json": {
       "model_id": "9ef9632e58b249bdbe16e07216e7fe94",
       "version_major": 2,
       "version_minor": 0
      },
      "text/plain": [
       "A Jupyter Widget"
      ]
     },
     "metadata": {},
     "output_type": "display_data"
    },
    {
     "name": "stdout",
     "output_type": "stream",
     "text": [
      "Multiclass ROC 0.986942155556 Accuracy 0.7826 loss 1.54936\n",
      "Multiclass ROC 0.991789355556 Accuracy 0.816 loss 1.51818\n",
      "Multiclass ROC 0.994516666667 Accuracy 0.8394 loss 1.51477\n",
      "Multiclass ROC 0.996278666667 Accuracy 0.8612 loss 1.51058\n",
      "Multiclass ROC 0.996651422222 Accuracy 0.8722 loss 1.46179\n",
      "Multiclass ROC 0.995777488889 Accuracy 0.863 loss 1.4783\n",
      "Multiclass ROC 0.997036711111 Accuracy 0.8792 loss 1.46701\n",
      "Multiclass ROC 0.996624777778 Accuracy 0.8868 loss 1.50314\n",
      "Multiclass ROC 0.998083555556 Accuracy 0.8926 loss 1.48882\n",
      "Multiclass ROC 0.997701711111 Accuracy 0.8762 loss 1.47826\n",
      "Multiclass ROC 0.997391422222 Accuracy 0.886 loss 1.47035\n",
      "Multiclass ROC 0.997481844444 Accuracy 0.8464 loss 1.46194\n",
      "Multiclass ROC 0.997271911111 Accuracy 0.8672 loss 1.48246\n",
      "Multiclass ROC 0.998618977778 Accuracy 0.8814 loss 1.47758\n",
      "Multiclass ROC 0.998313888889 Accuracy 0.881 loss 1.48166\n",
      "Multiclass ROC 0.998234488889 Accuracy 0.8922 loss 1.46191\n",
      "Multiclass ROC 0.998802533333 Accuracy 0.8904 loss 1.46189\n",
      "Multiclass ROC 0.998978822222 Accuracy 0.9234 loss 1.46461\n",
      "Multiclass ROC 0.998696555556 Accuracy 0.8886 loss 1.46229\n",
      "Multiclass ROC 0.998563955556 Accuracy 0.9104 loss 1.46323\n"
     ]
    },
    {
     "data": {
      "application/vnd.jupyter.widget-view+json": {
       "model_id": "e01140eff3b643208b2e3cec994c454e",
       "version_major": 2,
       "version_minor": 0
      },
      "text/plain": [
       "A Jupyter Widget"
      ]
     },
     "metadata": {},
     "output_type": "display_data"
    },
    {
     "name": "stdout",
     "output_type": "stream",
     "text": [
      "2000/|/100%|| 2000/2000 [03:36<00:00, 12.31it/s]\n",
      "Multiclass ROC 0.984981022222 Accuracy 0.785 loss -0.850894\n",
      "Multiclass ROC 0.993538577778 Accuracy 0.8356 loss -0.858672\n",
      "Multiclass ROC 0.993708488889 Accuracy 0.827 loss -0.872168\n",
      "Multiclass ROC 0.992681333333 Accuracy 0.8402 loss -0.872906\n",
      "Multiclass ROC 0.996413911111 Accuracy 0.8594 loss -0.859541\n",
      "Multiclass ROC 0.996650488889 Accuracy 0.845 loss -0.867354\n",
      "Multiclass ROC 0.997556355556 Accuracy 0.8634 loss -0.870773\n",
      "Multiclass ROC 0.996898355556 Accuracy 0.8556 loss -0.877158\n",
      "Multiclass ROC 0.995622044444 Accuracy 0.862 loss -0.866639\n",
      "Multiclass ROC 0.996914533333 Accuracy 0.866 loss -0.872309\n",
      "Multiclass ROC 0.997378888889 Accuracy 0.872 loss -0.877058\n",
      "Multiclass ROC 0.996492933333 Accuracy 0.856 loss -0.875284\n",
      "Multiclass ROC 0.9980732 Accuracy 0.8776 loss -0.879844\n",
      "Multiclass ROC 0.997055422222 Accuracy 0.8706 loss -0.878282\n",
      "Multiclass ROC 0.997166133333 Accuracy 0.865 loss -0.879309\n",
      "Multiclass ROC 0.997204644444 Accuracy 0.8582 loss -0.878843\n",
      "Multiclass ROC 0.9961056 Accuracy 0.8438 loss -0.880371\n",
      "Multiclass ROC 0.997784111111 Accuracy 0.8732 loss -0.877578\n",
      "Multiclass ROC 0.997787955556 Accuracy 0.8582 loss -0.880288\n",
      "Multiclass ROC 0.996829288889 Accuracy 0.866 loss -0.878579\n"
     ]
    },
    {
     "data": {
      "application/vnd.jupyter.widget-view+json": {
       "model_id": "f930872304a84d3cbae37b5cb3254c34",
       "version_major": 2,
       "version_minor": 0
      },
      "text/plain": [
       "A Jupyter Widget"
      ]
     },
     "metadata": {},
     "output_type": "display_data"
    },
    {
     "name": "stdout",
     "output_type": "stream",
     "text": [
      "Multiclass ROC 0.984177844444 Accuracy 0.7918 loss 1.57498\n",
      "Multiclass ROC 0.989760711111 Accuracy 0.8058 loss 1.51851\n",
      "Multiclass ROC 0.993932933333 Accuracy 0.8404 loss 1.52094\n",
      "Multiclass ROC 0.995476444444 Accuracy 0.8454 loss 1.48804\n",
      "Multiclass ROC 0.996032733333 Accuracy 0.8302 loss 1.48315\n",
      "Multiclass ROC 0.997009377778 Accuracy 0.8502 loss 1.49303\n",
      "Multiclass ROC 0.996660066667 Accuracy 0.861 loss 1.49055\n",
      "Multiclass ROC 0.9968366 Accuracy 0.8582 loss 1.46429\n",
      "Multiclass ROC 0.996075133333 Accuracy 0.8514 loss 1.47781\n",
      "Multiclass ROC 0.995609888889 Accuracy 0.8706 loss 1.48142\n",
      "Multiclass ROC 0.996102622222 Accuracy 0.8474 loss 1.50838\n",
      "Multiclass ROC 0.994355333333 Accuracy 0.8256 loss 1.47786\n",
      "Multiclass ROC 0.9965522 Accuracy 0.8506 loss 1.46488\n",
      "Multiclass ROC 0.997285844444 Accuracy 0.8698 loss 1.46284\n",
      "Multiclass ROC 0.996505866667 Accuracy 0.8602 loss 1.46165\n",
      "Multiclass ROC 0.996066933333 Accuracy 0.8634 loss 1.46433\n",
      "Multiclass ROC 0.997074 Accuracy 0.8772 loss 1.4757\n",
      "Multiclass ROC 0.996874422222 Accuracy 0.8514 loss 1.46573\n",
      "Multiclass ROC 0.997347133333 Accuracy 0.8596 loss 1.46353\n",
      "Multiclass ROC 0.998242622222 Accuracy 0.9068 loss 1.46679\n",
      "[5000, 5000, 5000, 5000, 5000, 5000, 5000, 5000, 5000, 5000]\n"
     ]
    },
    {
     "data": {
      "application/vnd.jupyter.widget-view+json": {
       "model_id": "b8d04c4c55354c229c0a8d7a0f30b188",
       "version_major": 2,
       "version_minor": 0
      },
      "text/plain": [
       "A Jupyter Widget"
      ]
     },
     "metadata": {},
     "output_type": "display_data"
    },
    {
     "name": "stdout",
     "output_type": "stream",
     "text": [
      "\n",
      "Multiclass ROC 0.994069444444 Accuracy 0.9184 loss -0.851328\n",
      "Multiclass ROC 0.997207288889 Accuracy 0.9432 loss -0.866778\n",
      "Multiclass ROC 0.998692666667 Accuracy 0.9658 loss -0.842086\n",
      "Multiclass ROC 0.999151155556 Accuracy 0.967 loss -0.857128\n",
      "Multiclass ROC 0.999475111111 Accuracy 0.9742 loss -0.870815\n",
      "Multiclass ROC 0.999619066667 Accuracy 0.9764 loss -0.872826\n",
      "Multiclass ROC 0.999484977778 Accuracy 0.9802 loss -0.857361\n",
      "Multiclass ROC 0.999532955556 Accuracy 0.9752 loss -0.872596\n",
      "Multiclass ROC 0.999663777778 Accuracy 0.9728 loss -0.863452\n",
      "Multiclass ROC 0.9995764 Accuracy 0.9762 loss -0.855759\n",
      "Multiclass ROC 0.999762844444 Accuracy 0.9868 loss -0.879325\n",
      "Multiclass ROC 0.999800711111 Accuracy 0.9842 loss -0.86608\n",
      "Multiclass ROC 0.999460355556 Accuracy 0.9758 loss -0.878604\n",
      "Multiclass ROC 0.999830311111 Accuracy 0.984 loss -0.872648\n",
      "Multiclass ROC 0.999583266667 Accuracy 0.9778 loss -0.862821\n",
      "Multiclass ROC 0.999820933333 Accuracy 0.9876 loss -0.878659\n",
      "Multiclass ROC 0.999872355556 Accuracy 0.9882 loss -0.879506\n",
      "Multiclass ROC 0.999819422222 Accuracy 0.985 loss -0.879781\n",
      "Multiclass ROC 0.999748266667 Accuracy 0.99 loss -0.870699\n",
      "Multiclass ROC 0.999841333333 Accuracy 0.9902 loss -0.877155\n"
     ]
    },
    {
     "data": {
      "application/vnd.jupyter.widget-view+json": {
       "model_id": "7ac373f0c7834c95b00146838df9e79b",
       "version_major": 2,
       "version_minor": 0
      },
      "text/plain": [
       "A Jupyter Widget"
      ]
     },
     "metadata": {},
     "output_type": "display_data"
    },
    {
     "name": "stdout",
     "output_type": "stream",
     "text": [
      "Multiclass ROC 0.992528533333 Accuracy 0.915 loss 1.55459\n",
      "Multiclass ROC 0.996555555556 Accuracy 0.9394 loss 1.49505\n",
      "\n",
      "Multiclass ROC 0.997440333333 Accuracy 0.9508 loss 1.56723\n",
      "Multiclass ROC 0.998922688889 Accuracy 0.9664 loss 1.49028\n",
      "Multiclass ROC 0.999262066667 Accuracy 0.9718 loss 1.48998\n",
      "Multiclass ROC 0.999362911111 Accuracy 0.9738 loss 1.51679\n",
      "Multiclass ROC 0.999275088889 Accuracy 0.9732 loss 1.51617\n",
      "Multiclass ROC 0.999704288889 Accuracy 0.9852 loss 1.50039\n",
      "Multiclass ROC 0.999630311111 Accuracy 0.982 loss 1.49477\n",
      "Multiclass ROC 0.999775422222 Accuracy 0.9858 loss 1.47513\n",
      "Multiclass ROC 0.999661444444 Accuracy 0.9814 loss 1.46959\n",
      "Multiclass ROC 0.999743 Accuracy 0.9858 loss 1.48141\n",
      "Multiclass ROC 0.999835577778 Accuracy 0.9904 loss 1.46954\n",
      "Multiclass ROC 0.999788111111 Accuracy 0.9902 loss 1.46631\n",
      "Multiclass ROC 0.999720177778 Accuracy 0.9836 loss 1.46554\n",
      "Multiclass ROC 0.999715866667 Accuracy 0.982 loss 1.49632\n",
      "Multiclass ROC 0.999820533333 Accuracy 0.993 loss 1.49359\n",
      "Multiclass ROC 0.9998946 Accuracy 0.992 loss 1.48786\n",
      "Multiclass ROC 0.999688044444 Accuracy 0.9892 loss 1.49425\n",
      "Multiclass ROC 0.9997586 Accuracy 0.9906 loss 1.46737\n"
     ]
    },
    {
     "data": {
      "application/vnd.jupyter.widget-view+json": {
       "model_id": "9683b115b072488c99b09096f9ecf599",
       "version_major": 2,
       "version_minor": 0
      },
      "text/plain": [
       "A Jupyter Widget"
      ]
     },
     "metadata": {},
     "output_type": "display_data"
    },
    {
     "name": "stdout",
     "output_type": "stream",
     "text": [
      "\n",
      "Multiclass ROC 0.9940602 Accuracy 0.9128 loss -0.865945\n",
      "Multiclass ROC 0.997582311111 Accuracy 0.9416 loss -0.864803\n",
      "Multiclass ROC 0.998932444444 Accuracy 0.9636 loss -0.868916\n",
      "Multiclass ROC 0.999150444444 Accuracy 0.9624 loss -0.854839\n",
      "Multiclass ROC 0.999398711111 Accuracy 0.9734 loss -0.875466\n",
      "Multiclass ROC 0.999539866667 Accuracy 0.979 loss -0.8682\n",
      "Multiclass ROC 0.999675555556 Accuracy 0.973 loss -0.876528\n",
      "Multiclass ROC 0.999586066667 Accuracy 0.9756 loss -0.876112\n",
      "Multiclass ROC 0.999737733333 Accuracy 0.9858 loss -0.872669\n",
      "Multiclass ROC 0.999776311111 Accuracy 0.9838 loss -0.856007\n",
      "Multiclass ROC 0.999649955556 Accuracy 0.9828 loss -0.873289\n",
      "Multiclass ROC 0.999571666667 Accuracy 0.9768 loss -0.86446\n",
      "Multiclass ROC 0.999827822222 Accuracy 0.983 loss -0.879307\n",
      "Multiclass ROC 0.999770888889 Accuracy 0.9806 loss -0.878465\n",
      "Multiclass ROC 0.999785288889 Accuracy 0.9878 loss -0.867411\n",
      "Multiclass ROC 0.999842666667 Accuracy 0.9878 loss -0.878739\n",
      "Multiclass ROC 0.999709688889 Accuracy 0.9788 loss -0.856765\n",
      "Multiclass ROC 0.999861333333 Accuracy 0.989 loss -0.878493\n",
      "Multiclass ROC 0.999888933333 Accuracy 0.9916 loss -0.876913\n",
      "Multiclass ROC 0.999765733333 Accuracy 0.9844 loss -0.875608\n"
     ]
    },
    {
     "data": {
      "application/vnd.jupyter.widget-view+json": {
       "model_id": "f3cbb55264114bbda92440c2557c2078",
       "version_major": 2,
       "version_minor": 0
      },
      "text/plain": [
       "A Jupyter Widget"
      ]
     },
     "metadata": {},
     "output_type": "display_data"
    },
    {
     "name": "stdout",
     "output_type": "stream",
     "text": [
      "Multiclass ROC 0.993382888889 Accuracy 0.9188 loss 1.54728\n",
      "Multiclass ROC 0.996622888889 Accuracy 0.9392 loss 1.51565\n",
      "Multiclass ROC 0.997979466667 Accuracy 0.9562 loss 1.54102\n",
      "Multiclass ROC 0.999040688889 Accuracy 0.9698 loss 1.50767\n",
      "Multiclass ROC 0.999021288889 Accuracy 0.9688 loss 1.54084\n",
      "Multiclass ROC 0.999385488889 Accuracy 0.9772 loss 1.48301\n",
      "Multiclass ROC 0.999455644444 Accuracy 0.9766 loss 1.46264\n",
      "Multiclass ROC 0.999613644444 Accuracy 0.9722 loss 1.49643\n",
      "Multiclass ROC 0.999580355556 Accuracy 0.98 loss 1.50144\n",
      "Multiclass ROC 0.999692044444 Accuracy 0.9832 loss 1.46835\n",
      "Multiclass ROC 0.999744444444 Accuracy 0.983 loss 1.46573\n",
      "Multiclass ROC 0.999634666667 Accuracy 0.981 loss 1.48668\n",
      "Multiclass ROC 0.999817822222 Accuracy 0.9866 loss 1.47873\n",
      "Multiclass ROC 0.999724088889 Accuracy 0.985 loss 1.51513\n",
      "Multiclass ROC 0.999807911111 Accuracy 0.9874 loss 1.49062\n",
      "Multiclass ROC 0.999795977778 Accuracy 0.992 loss 1.48129\n",
      "Multiclass ROC 0.999838244444 Accuracy 0.9876 loss 1.46253\n",
      "Multiclass ROC 0.9997188 Accuracy 0.9846 loss 1.46443\n",
      "Multiclass ROC 0.999860177778 Accuracy 0.99 loss 1.4628\n",
      "Multiclass ROC 0.999860177778 Accuracy 0.9908 loss 1.46563\n"
     ]
    },
    {
     "data": {
      "application/vnd.jupyter.widget-view+json": {
       "model_id": "4c9b50a05a1b47809d3d69db43a1bb95",
       "version_major": 2,
       "version_minor": 0
      },
      "text/plain": [
       "A Jupyter Widget"
      ]
     },
     "metadata": {},
     "output_type": "display_data"
    },
    {
     "name": "stdout",
     "output_type": "stream",
     "text": [
      "\n",
      "Multiclass ROC 0.993231111111 Accuracy 0.9112 loss -0.842948\n",
      "Multiclass ROC 0.997298111111 Accuracy 0.9402 loss -0.8683\n",
      "Multiclass ROC 0.998733511111 Accuracy 0.9592 loss -0.870545\n",
      "Multiclass ROC 0.998928466667 Accuracy 0.9634 loss -0.869405\n",
      "Multiclass ROC 0.999389555556 Accuracy 0.974 loss -0.871156\n",
      "Multiclass ROC 0.9996096 Accuracy 0.975 loss -0.870116\n",
      "Multiclass ROC 0.999529066667 Accuracy 0.9754 loss -0.868818\n",
      "Multiclass ROC 0.999558488889 Accuracy 0.9744 loss -0.87547\n",
      "Multiclass ROC 0.999381066667 Accuracy 0.9716 loss -0.869023\n",
      "Multiclass ROC 0.999737733333 Accuracy 0.9834 loss -0.87319\n",
      "Multiclass ROC 0.999642755556 Accuracy 0.9822 loss -0.870296\n",
      "Multiclass ROC 0.999772577778 Accuracy 0.982 loss -0.880121\n",
      "Multiclass ROC 0.999677377778 Accuracy 0.9806 loss -0.878777\n",
      "Multiclass ROC 0.999739777778 Accuracy 0.9802 loss -0.863625\n",
      "Multiclass ROC 0.999850222222 Accuracy 0.9858 loss -0.867721\n",
      "Multiclass ROC 0.999803688889 Accuracy 0.989 loss -0.871161\n",
      "Multiclass ROC 0.999840866667 Accuracy 0.988 loss -0.877596\n",
      "Multiclass ROC 0.999797333333 Accuracy 0.9888 loss -0.879715\n",
      "Multiclass ROC 0.999796933333 Accuracy 0.9852 loss -0.868722\n",
      "Multiclass ROC 0.999773111111 Accuracy 0.983 loss -0.873467\n"
     ]
    },
    {
     "data": {
      "application/vnd.jupyter.widget-view+json": {
       "model_id": "3058854a32644e9bb48ead035cc9b58b",
       "version_major": 2,
       "version_minor": 0
      },
      "text/plain": [
       "A Jupyter Widget"
      ]
     },
     "metadata": {},
     "output_type": "display_data"
    },
    {
     "name": "stdout",
     "output_type": "stream",
     "text": [
      "Multiclass ROC 0.9944326 Accuracy 0.9192 loss 1.51533\n",
      "Multiclass ROC 0.997544422222 Accuracy 0.9482 loss 1.55381\n",
      "Multiclass ROC 0.9989068 Accuracy 0.9532 loss 1.51487\n",
      "Multiclass ROC 0.999158133333 Accuracy 0.9686 loss 1.50904\n",
      "Multiclass ROC 0.999623977778 Accuracy 0.981 loss 1.46159\n",
      "Multiclass ROC 0.999659711111 Accuracy 0.9776 loss 1.47082\n",
      "Multiclass ROC 0.999601333333 Accuracy 0.9722 loss 1.47245\n",
      "Multiclass ROC 0.999598755556 Accuracy 0.9792 loss 1.46874\n",
      "Multiclass ROC 0.999690422222 Accuracy 0.9846 loss 1.46484\n",
      "Multiclass ROC 0.999771022222 Accuracy 0.9874 loss 1.46217\n",
      "Multiclass ROC 0.999611088889 Accuracy 0.9794 loss 1.47767\n",
      "Multiclass ROC 0.999798222222 Accuracy 0.9882 loss 1.46533\n",
      "Multiclass ROC 0.999833155556 Accuracy 0.9874 loss 1.46216\n",
      "Multiclass ROC 0.999780955556 Accuracy 0.9822 loss 1.4695\n",
      "Multiclass ROC 0.999894088889 Accuracy 0.9902 loss 1.46127\n",
      "Multiclass ROC 0.999889244444 Accuracy 0.9892 loss 1.46365\n",
      "Multiclass ROC 0.999900066667 Accuracy 0.988 loss 1.48541\n",
      "Multiclass ROC 0.999773066667 Accuracy 0.987 loss 1.46773\n",
      "Multiclass ROC 0.999860111111 Accuracy 0.9872 loss 1.47304\n",
      "Multiclass ROC 0.999882844444 Accuracy 0.9912 loss 1.47555\n",
      "[10, 10, 10, 10, 10, 5000, 5000, 5000, 5000, 5000]\n"
     ]
    },
    {
     "data": {
      "application/vnd.jupyter.widget-view+json": {
       "model_id": "cad60437e87643b8a4a0ddd11b0e2df3",
       "version_major": 2,
       "version_minor": 0
      },
      "text/plain": [
       "A Jupyter Widget"
      ]
     },
     "metadata": {},
     "output_type": "display_data"
    },
    {
     "name": "stdout",
     "output_type": "stream",
     "text": [
      "\n",
      "Multiclass ROC 0.983720422222 Accuracy 0.8524 loss -0.850261\n",
      "Multiclass ROC 0.990146311111 Accuracy 0.8426 loss -0.852313\n",
      "Multiclass ROC 0.992666888889 Accuracy 0.844 loss -0.879721\n",
      "Multiclass ROC 0.993176888889 Accuracy 0.882 loss -0.868208\n",
      "Multiclass ROC 0.993806666667 Accuracy 0.8772 loss -0.872132\n",
      "Multiclass ROC 0.986447444444 Accuracy 0.806 loss -0.868369\n",
      "Multiclass ROC 0.992497 Accuracy 0.8752 loss -0.871257\n",
      "Multiclass ROC 0.993680555556 Accuracy 0.8624 loss -0.879897\n",
      "Multiclass ROC 0.993855377778 Accuracy 0.8858 loss -0.875093\n",
      "Multiclass ROC 0.995021622222 Accuracy 0.8844 loss -0.877604\n",
      "Multiclass ROC 0.995457044444 Accuracy 0.9004 loss -0.880592\n",
      "Multiclass ROC 0.989379733333 Accuracy 0.835 loss -0.87982\n",
      "Multiclass ROC 0.996170022222 Accuracy 0.9074 loss -0.880653\n",
      "Multiclass ROC 0.994656977778 Accuracy 0.877 loss -0.871589\n",
      "Multiclass ROC 0.995955066667 Accuracy 0.9 loss -0.873989\n",
      "Multiclass ROC 0.995608888889 Accuracy 0.8944 loss -0.870545\n",
      "Multiclass ROC 0.995198022222 Accuracy 0.8956 loss -0.8804\n",
      "Multiclass ROC 0.995006844444 Accuracy 0.8862 loss -0.874095\n",
      "Multiclass ROC 0.992309444444 Accuracy 0.87 loss -0.879887\n",
      "Multiclass ROC 0.995076533333 Accuracy 0.877 loss -0.880392\n"
     ]
    },
    {
     "data": {
      "application/vnd.jupyter.widget-view+json": {
       "model_id": "227f0c92b356452193c6106c8ea0e193",
       "version_major": 2,
       "version_minor": 0
      },
      "text/plain": [
       "A Jupyter Widget"
      ]
     },
     "metadata": {},
     "output_type": "display_data"
    },
    {
     "name": "stdout",
     "output_type": "stream",
     "text": [
      "Multiclass ROC 0.988410733333 Accuracy 0.8482 loss 1.50381\n",
      "Multiclass ROC 0.989180133333 Accuracy 0.8446 loss 1.47047\n",
      "Multiclass ROC 0.987993244444 Accuracy 0.8338 loss 1.49789\n",
      "Multiclass ROC 0.990596555556 Accuracy 0.8664 loss 1.47732\n",
      "Multiclass ROC 0.988415644444 Accuracy 0.8442 loss 1.46872\n",
      "Multiclass ROC 0.991352311111 Accuracy 0.8494 loss 1.49814\n",
      "Multiclass ROC 0.991538111111 Accuracy 0.862 loss 1.47988\n",
      "Multiclass ROC 0.987514822222 Accuracy 0.8472 loss 1.47506\n",
      "Multiclass ROC 0.990689866667 Accuracy 0.8546 loss 1.48146\n",
      "Multiclass ROC 0.991138177778 Accuracy 0.857 loss 1.46584\n",
      "Multiclass ROC 0.992938177778 Accuracy 0.8758 loss 1.46155\n",
      "Multiclass ROC 0.992869577778 Accuracy 0.8526 loss 1.46157\n",
      "Multiclass ROC 0.994192577778 Accuracy 0.8794 loss 1.46188\n",
      "Multiclass ROC 0.991077 Accuracy 0.8582 loss 1.47576\n",
      "Multiclass ROC 0.992593333333 Accuracy 0.863 loss 1.47329\n",
      "Multiclass ROC 0.9944344 Accuracy 0.8792 loss 1.46175\n",
      "Multiclass ROC 0.992000733333 Accuracy 0.851 loss 1.46381\n",
      "Multiclass ROC 0.995097288889 Accuracy 0.8866 loss 1.47814\n",
      "Multiclass ROC 0.992756488889 Accuracy 0.8496 loss 1.46156\n",
      "Multiclass ROC 0.993806866667 Accuracy 0.8742 loss 1.47762\n"
     ]
    },
    {
     "data": {
      "application/vnd.jupyter.widget-view+json": {
       "model_id": "09b08a66750944b389e5fe5dfdfa2a67",
       "version_major": 2,
       "version_minor": 0
      },
      "text/plain": [
       "A Jupyter Widget"
      ]
     },
     "metadata": {},
     "output_type": "display_data"
    },
    {
     "name": "stdout",
     "output_type": "stream",
     "text": [
      "\n",
      "Multiclass ROC 0.988045688889 Accuracy 0.8484 loss -0.861623\n",
      "Multiclass ROC 0.992122933333 Accuracy 0.8782 loss -0.872783\n",
      "Multiclass ROC 0.9935134 Accuracy 0.897 loss -0.87557\n",
      "Multiclass ROC 0.994793288889 Accuracy 0.8934 loss -0.878187\n",
      "Multiclass ROC 0.992992644444 Accuracy 0.8704 loss -0.872231\n",
      "Multiclass ROC 0.993624466667 Accuracy 0.8704 loss -0.876948\n",
      "Multiclass ROC 0.995143444444 Accuracy 0.8872 loss -0.866753\n",
      "Multiclass ROC 0.994748777778 Accuracy 0.8916 loss -0.879458\n",
      "Multiclass ROC 0.9945882 Accuracy 0.885 loss -0.88042\n",
      "Multiclass ROC 0.994995933333 Accuracy 0.885 loss -0.871806\n",
      "Multiclass ROC 0.995977644444 Accuracy 0.9024 loss -0.878023\n",
      "Multiclass ROC 0.995161022222 Accuracy 0.8998 loss -0.875266\n",
      "Multiclass ROC 0.994582822222 Accuracy 0.8958 loss -0.871773\n",
      "Multiclass ROC 0.995941666667 Accuracy 0.8906 loss -0.877126\n",
      "Multiclass ROC 0.9945344 Accuracy 0.8828 loss -0.878511\n",
      "Multiclass ROC 0.992406577778 Accuracy 0.8722 loss -0.87015\n",
      "Multiclass ROC 0.996056422222 Accuracy 0.8848 loss -0.879522\n",
      "Multiclass ROC 0.995285488889 Accuracy 0.903 loss -0.87106\n",
      "Multiclass ROC 0.992575177778 Accuracy 0.8836 loss -0.879591\n",
      "Multiclass ROC 0.995063377778 Accuracy 0.8796 loss -0.880331\n"
     ]
    },
    {
     "data": {
      "application/vnd.jupyter.widget-view+json": {
       "model_id": "c22a278747a64d539f1854021cce9d14",
       "version_major": 2,
       "version_minor": 0
      },
      "text/plain": [
       "A Jupyter Widget"
      ]
     },
     "metadata": {},
     "output_type": "display_data"
    },
    {
     "name": "stdout",
     "output_type": "stream",
     "text": [
      "Multiclass ROC 0.987544955556 Accuracy 0.8434 loss 1.49343\n",
      "Multiclass ROC 0.988269088889 Accuracy 0.8446 loss 1.52218\n",
      "Multiclass ROC 0.990617422222 Accuracy 0.8528 loss 1.46479\n",
      "Multiclass ROC 0.991839955556 Accuracy 0.844 loss 1.47076\n",
      "Multiclass ROC 0.990282177778 Accuracy 0.8408 loss 1.49412\n",
      "Multiclass ROC 0.992297222222 Accuracy 0.8738 loss 1.46571\n",
      "Multiclass ROC 0.993501155556 Accuracy 0.894 loss 1.50149\n",
      "Multiclass ROC 0.992928644444 Accuracy 0.8892 loss 1.4643\n",
      "Multiclass ROC 0.993545711111 Accuracy 0.884 loss 1.46766\n",
      "Multiclass ROC 0.993266622222 Accuracy 0.868 loss 1.46154\n",
      "Multiclass ROC 0.993399422222 Accuracy 0.8722 loss 1.46322\n",
      "Multiclass ROC 0.989438888889 Accuracy 0.8554 loss 1.47098\n",
      "Multiclass ROC 0.993828911111 Accuracy 0.8628 loss 1.46443\n",
      "Multiclass ROC 0.992975177778 Accuracy 0.877 loss 1.46159\n",
      "Multiclass ROC 0.994502866667 Accuracy 0.8896 loss 1.47677\n",
      "\n",
      "Multiclass ROC 0.994633777778 Accuracy 0.8966 loss 1.46157\n",
      "Multiclass ROC 0.992873288889 Accuracy 0.8806 loss 1.46988\n",
      "Multiclass ROC 0.994323355556 Accuracy 0.8898 loss 1.46461\n",
      "Multiclass ROC 0.994426288889 Accuracy 0.8816 loss 1.46241\n",
      "Multiclass ROC 0.994128377778 Accuracy 0.8656 loss 1.4622\n"
     ]
    },
    {
     "data": {
      "application/vnd.jupyter.widget-view+json": {
       "model_id": "d2c257dd514242aeb5de63f16b52dce4",
       "version_major": 2,
       "version_minor": 0
      },
      "text/plain": [
       "A Jupyter Widget"
      ]
     },
     "metadata": {},
     "output_type": "display_data"
    },
    {
     "name": "stdout",
     "output_type": "stream",
     "text": [
      "\n",
      "Multiclass ROC 0.987301977778 Accuracy 0.8452 loss -0.876506\n",
      "Multiclass ROC 0.988667755556 Accuracy 0.824 loss -0.856519\n",
      "Multiclass ROC 0.987806533333 Accuracy 0.8318 loss -0.872342\n",
      "Multiclass ROC 0.991666711111 Accuracy 0.8582 loss -0.864421\n",
      "Multiclass ROC 0.989387622222 Accuracy 0.8428 loss -0.873318\n",
      "Multiclass ROC 0.988371911111 Accuracy 0.86 loss -0.86671\n",
      "Multiclass ROC 0.992602955556 Accuracy 0.8722 loss -0.860631\n",
      "Multiclass ROC 0.990184244444 Accuracy 0.8692 loss -0.855525\n",
      "Multiclass ROC 0.991491666667 Accuracy 0.8662 loss -0.842512\n",
      "Multiclass ROC 0.990124844444 Accuracy 0.8336 loss -0.861214\n",
      "Multiclass ROC 0.991916577778 Accuracy 0.8692 loss -0.859811\n",
      "Multiclass ROC 0.991165733333 Accuracy 0.852 loss -0.878754\n",
      "Multiclass ROC 0.991711555556 Accuracy 0.8526 loss -0.852114\n",
      "Multiclass ROC 0.9911306 Accuracy 0.8414 loss -0.84664\n",
      "Multiclass ROC 0.992965222222 Accuracy 0.89 loss -0.856521\n",
      "Multiclass ROC 0.993241444444 Accuracy 0.8698 loss -0.873478\n",
      "Multiclass ROC 0.994548066667 Accuracy 0.8742 loss -0.877622\n",
      "Multiclass ROC 0.995596311111 Accuracy 0.8942 loss -0.87642\n",
      "Multiclass ROC 0.995464088889 Accuracy 0.8942 loss -0.873124\n",
      "Multiclass ROC 0.995169177778 Accuracy 0.8908 loss -0.866709\n"
     ]
    },
    {
     "data": {
      "application/vnd.jupyter.widget-view+json": {
       "model_id": "9c2f0b0dd1c04afdb413e8f2ec92011d",
       "version_major": 2,
       "version_minor": 0
      },
      "text/plain": [
       "A Jupyter Widget"
      ]
     },
     "metadata": {},
     "output_type": "display_data"
    },
    {
     "name": "stdout",
     "output_type": "stream",
     "text": [
      "Multiclass ROC 0.985609977778 Accuracy 0.8382 loss 1.57552\n",
      "Multiclass ROC 0.987974888889 Accuracy 0.8478 loss 1.55206\n",
      "Multiclass ROC 0.985805711111 Accuracy 0.8318 loss 1.51247\n",
      "Multiclass ROC 0.986290488889 Accuracy 0.8178 loss 1.50893\n",
      "Multiclass ROC 0.989161644444 Accuracy 0.8602 loss 1.51079\n",
      "Multiclass ROC 0.990777333333 Accuracy 0.8726 loss 1.49258\n",
      "Multiclass ROC 0.990507866667 Accuracy 0.8482 loss 1.49073\n",
      "Multiclass ROC 0.990603511111 Accuracy 0.8452 loss 1.49308\n",
      "Multiclass ROC 0.989814422222 Accuracy 0.853 loss 1.47796\n",
      "Multiclass ROC 0.988140133333 Accuracy 0.8384 loss 1.47958\n",
      "Multiclass ROC 0.992419533333 Accuracy 0.8546 loss 1.47744\n",
      "Multiclass ROC 0.991625688889 Accuracy 0.863 loss 1.4924\n",
      "Multiclass ROC 0.991788444444 Accuracy 0.841 loss 1.49381\n",
      "Multiclass ROC 0.993216666667 Accuracy 0.864 loss 1.49356\n",
      "\n",
      "Multiclass ROC 0.992357266667 Accuracy 0.8706 loss 1.51974\n",
      "Multiclass ROC 0.993883511111 Accuracy 0.8644 loss 1.46438\n",
      "Multiclass ROC 0.992866555556 Accuracy 0.8642 loss 1.49267\n",
      "Multiclass ROC 0.991852755556 Accuracy 0.852 loss 1.46155\n",
      "Multiclass ROC 0.993834466667 Accuracy 0.8682 loss 1.47859\n",
      "Multiclass ROC 0.994530888889 Accuracy 0.8714 loss 1.47712\n",
      "[5, 5, 5, 5, 5, 5000, 5000, 5000, 5000, 5000]\n"
     ]
    },
    {
     "data": {
      "application/vnd.jupyter.widget-view+json": {
       "model_id": "043fb70cb685442592d1e17a6435ec7c",
       "version_major": 2,
       "version_minor": 0
      },
      "text/plain": [
       "A Jupyter Widget"
      ]
     },
     "metadata": {},
     "output_type": "display_data"
    },
    {
     "name": "stdout",
     "output_type": "stream",
     "text": [
      "\n",
      "Multiclass ROC 0.982986688889 Accuracy 0.7622 loss -0.87283\n",
      "Multiclass ROC 0.983833311111 Accuracy 0.804 loss -0.873738\n",
      "Multiclass ROC 0.988653488889 Accuracy 0.806 loss -0.861689\n",
      "Multiclass ROC 0.985977044444 Accuracy 0.8166 loss -0.869723\n",
      "Multiclass ROC 0.9841484 Accuracy 0.7916 loss -0.867016\n",
      "Multiclass ROC 0.987267422222 Accuracy 0.8032 loss -0.87971\n",
      "Multiclass ROC 0.986769555556 Accuracy 0.8008 loss -0.878621\n",
      "Multiclass ROC 0.986620622222 Accuracy 0.8246 loss -0.871945\n",
      "Multiclass ROC 0.988820666667 Accuracy 0.8314 loss -0.880012\n",
      "Multiclass ROC 0.990481288889 Accuracy 0.8578 loss -0.875406\n",
      "Multiclass ROC 0.9901996 Accuracy 0.829 loss -0.877341\n",
      "Multiclass ROC 0.990964511111 Accuracy 0.805 loss -0.878794\n",
      "Multiclass ROC 0.993029088889 Accuracy 0.8484 loss -0.879872\n",
      "Multiclass ROC 0.985724666667 Accuracy 0.7938 loss -0.879745\n",
      "Multiclass ROC 0.9898468 Accuracy 0.8096 loss -0.880425\n",
      "Multiclass ROC 0.992101933333 Accuracy 0.8512 loss -0.877558\n",
      "Multiclass ROC 0.992333022222 Accuracy 0.846 loss -0.880325\n",
      "Multiclass ROC 0.991772 Accuracy 0.8764 loss -0.879255\n",
      "Multiclass ROC 0.992852488889 Accuracy 0.8512 loss -0.876278\n",
      "Multiclass ROC 0.993575355556 Accuracy 0.855 loss -0.87951\n"
     ]
    },
    {
     "data": {
      "application/vnd.jupyter.widget-view+json": {
       "model_id": "f89921950d7047e28a4a766019aeffc8",
       "version_major": 2,
       "version_minor": 0
      },
      "text/plain": [
       "A Jupyter Widget"
      ]
     },
     "metadata": {},
     "output_type": "display_data"
    },
    {
     "name": "stdout",
     "output_type": "stream",
     "text": [
      "Multiclass ROC 0.9803548 Accuracy 0.785 loss 1.48166\n",
      "Multiclass ROC 0.984127755556 Accuracy 0.8024 loss 1.51685\n",
      "Multiclass ROC 0.984537911111 Accuracy 0.787 loss 1.46353\n",
      "Multiclass ROC 0.984271577778 Accuracy 0.8044 loss 1.46214\n",
      "Multiclass ROC 0.987060644444 Accuracy 0.8 loss 1.46494\n",
      "Multiclass ROC 0.988422044444 Accuracy 0.8226 loss 1.47655\n",
      "Multiclass ROC 0.983237266667 Accuracy 0.7816 loss 1.46142\n",
      "Multiclass ROC 0.985931511111 Accuracy 0.778 loss 1.50125\n",
      "Multiclass ROC 0.986822488889 Accuracy 0.789 loss 1.47212\n",
      "Multiclass ROC 0.982978066667 Accuracy 0.7824 loss 1.46171\n",
      "Multiclass ROC 0.9896436 Accuracy 0.8022 loss 1.47671\n",
      "Multiclass ROC 0.989942822222 Accuracy 0.8232 loss 1.48645\n",
      "Multiclass ROC 0.987522044444 Accuracy 0.7912 loss 1.52014\n",
      "Multiclass ROC 0.990265888889 Accuracy 0.8142 loss 1.47876\n",
      "Multiclass ROC 0.991108911111 Accuracy 0.8246 loss 1.48052\n",
      "Multiclass ROC 0.980589266667 Accuracy 0.769 loss 1.47775\n",
      "Multiclass ROC 0.989337222222 Accuracy 0.8024 loss 1.46287\n",
      "\n",
      "Multiclass ROC 0.992413733333 Accuracy 0.812 loss 1.46265\n",
      "Multiclass ROC 0.988510444444 Accuracy 0.8332 loss 1.49126\n",
      "Multiclass ROC 0.990628044444 Accuracy 0.8278 loss 1.47674\n"
     ]
    },
    {
     "data": {
      "application/vnd.jupyter.widget-view+json": {
       "model_id": "ed7644c5a7a44e83a96941698d7cb8bd",
       "version_major": 2,
       "version_minor": 0
      },
      "text/plain": [
       "A Jupyter Widget"
      ]
     },
     "metadata": {},
     "output_type": "display_data"
    },
    {
     "name": "stdout",
     "output_type": "stream",
     "text": [
      "\n",
      "Multiclass ROC 0.986043355556 Accuracy 0.791 loss -0.857634\n",
      "Multiclass ROC 0.981619711111 Accuracy 0.7772 loss -0.876209\n",
      "Multiclass ROC 0.990007022222 Accuracy 0.8238 loss -0.862847\n",
      "Multiclass ROC 0.989812555556 Accuracy 0.839 loss -0.878475\n",
      "Multiclass ROC 0.990491911111 Accuracy 0.8414 loss -0.875739\n",
      "Multiclass ROC 0.989203911111 Accuracy 0.8326 loss -0.870843\n",
      "Multiclass ROC 0.989330266667 Accuracy 0.829 loss -0.871279\n",
      "Multiclass ROC 0.991619777778 Accuracy 0.8528 loss -0.880268\n",
      "Multiclass ROC 0.991864355556 Accuracy 0.8202 loss -0.869498\n",
      "Multiclass ROC 0.990547711111 Accuracy 0.842 loss -0.877429\n",
      "Multiclass ROC 0.992058377778 Accuracy 0.8458 loss -0.8739\n",
      "Multiclass ROC 0.993798355556 Accuracy 0.8556 loss -0.877187\n",
      "Multiclass ROC 0.993262911111 Accuracy 0.8584 loss -0.880137\n",
      "Multiclass ROC 0.992867911111 Accuracy 0.858 loss -0.87828\n",
      "Multiclass ROC 0.992004088889 Accuracy 0.849 loss -0.875427\n",
      "Multiclass ROC 0.993654466667 Accuracy 0.8652 loss -0.880051\n",
      "Multiclass ROC 0.994495066667 Accuracy 0.8652 loss -0.880129\n",
      "Multiclass ROC 0.990532177778 Accuracy 0.8656 loss -0.880285\n",
      "Multiclass ROC 0.994654711111 Accuracy 0.853 loss -0.880376\n",
      "Multiclass ROC 0.994001355556 Accuracy 0.8452 loss -0.870087\n"
     ]
    },
    {
     "data": {
      "application/vnd.jupyter.widget-view+json": {
       "model_id": "f4b79aac868b42ca8320cc9bbfd5806d",
       "version_major": 2,
       "version_minor": 0
      },
      "text/plain": [
       "A Jupyter Widget"
      ]
     },
     "metadata": {},
     "output_type": "display_data"
    },
    {
     "name": "stdout",
     "output_type": "stream",
     "text": [
      "Multiclass ROC 0.986480088889 Accuracy 0.8092 loss 1.4815\n",
      "Multiclass ROC 0.987732155556 Accuracy 0.7992 loss 1.46195\n",
      "Multiclass ROC 0.987106444444 Accuracy 0.804 loss 1.49439\n",
      "Multiclass ROC 0.991121444444 Accuracy 0.8478 loss 1.47589\n",
      "\n",
      "Multiclass ROC 0.990541444444 Accuracy 0.819 loss 1.47797\n",
      "Multiclass ROC 0.987587133333 Accuracy 0.7902 loss 1.47389\n",
      "Multiclass ROC 0.987877155556 Accuracy 0.833 loss 1.46134\n",
      "Multiclass ROC 0.988536088889 Accuracy 0.8306 loss 1.47689\n",
      "Multiclass ROC 0.987408066667 Accuracy 0.8284 loss 1.47147\n",
      "Multiclass ROC 0.987985733333 Accuracy 0.821 loss 1.4854\n",
      "Multiclass ROC 0.992289111111 Accuracy 0.8588 loss 1.48832\n",
      "Multiclass ROC 0.9894644 Accuracy 0.8166 loss 1.47664\n",
      "Multiclass ROC 0.990167977778 Accuracy 0.8506 loss 1.46173\n",
      "Multiclass ROC 0.993378822222 Accuracy 0.844 loss 1.47537\n",
      "Multiclass ROC 0.9900492 Accuracy 0.8492 loss 1.46156\n",
      "Multiclass ROC 0.992055222222 Accuracy 0.831 loss 1.46156\n",
      "Multiclass ROC 0.990148466667 Accuracy 0.82 loss 1.46261\n",
      "Multiclass ROC 0.989964222222 Accuracy 0.8158 loss 1.46277\n",
      "Multiclass ROC 0.991429311111 Accuracy 0.842 loss 1.46164\n",
      "Multiclass ROC 0.988637866667 Accuracy 0.8504 loss 1.47449\n"
     ]
    },
    {
     "data": {
      "application/vnd.jupyter.widget-view+json": {
       "model_id": "d17d3013cdf24ea1aa26528a860b9ce2",
       "version_major": 2,
       "version_minor": 0
      },
      "text/plain": [
       "A Jupyter Widget"
      ]
     },
     "metadata": {},
     "output_type": "display_data"
    },
    {
     "name": "stdout",
     "output_type": "stream",
     "text": [
      "\n",
      "Multiclass ROC 0.987315222222 Accuracy 0.8266 loss -0.860074\n",
      "Multiclass ROC 0.987617622222 Accuracy 0.8188 loss -0.866855\n",
      "Multiclass ROC 0.988485044444 Accuracy 0.8238 loss -0.872221\n",
      "Multiclass ROC 0.991010177778 Accuracy 0.8436 loss -0.876624\n",
      "Multiclass ROC 0.988863644444 Accuracy 0.83 loss -0.87937\n",
      "Multiclass ROC 0.985531933333 Accuracy 0.8018 loss -0.873827\n",
      "Multiclass ROC 0.987741266667 Accuracy 0.8118 loss -0.872622\n",
      "Multiclass ROC 0.990462333333 Accuracy 0.8306 loss -0.877231\n",
      "Multiclass ROC 0.990884488889 Accuracy 0.8496 loss -0.879811\n",
      "Multiclass ROC 0.989631822222 Accuracy 0.8358 loss -0.873045\n",
      "Multiclass ROC 0.991063066667 Accuracy 0.8546 loss -0.879141\n",
      "Multiclass ROC 0.993378711111 Accuracy 0.863 loss -0.876191\n",
      "Multiclass ROC 0.990033777778 Accuracy 0.8276 loss -0.873986\n",
      "Multiclass ROC 0.987098555556 Accuracy 0.8176 loss -0.8786\n",
      "Multiclass ROC 0.9893264 Accuracy 0.8278 loss -0.879772\n",
      "Multiclass ROC 0.990432288889 Accuracy 0.8442 loss -0.874395\n",
      "Multiclass ROC 0.9910898 Accuracy 0.8262 loss -0.877513\n",
      "Multiclass ROC 0.991308466667 Accuracy 0.8518 loss -0.878489\n",
      "Multiclass ROC 0.990219044444 Accuracy 0.8486 loss -0.880048\n",
      "Multiclass ROC 0.991377311111 Accuracy 0.857 loss -0.8806\n"
     ]
    },
    {
     "data": {
      "application/vnd.jupyter.widget-view+json": {
       "model_id": "2402179ba1da46daa457375c9a63976c",
       "version_major": 2,
       "version_minor": 0
      },
      "text/plain": [
       "A Jupyter Widget"
      ]
     },
     "metadata": {},
     "output_type": "display_data"
    },
    {
     "name": "stdout",
     "output_type": "stream",
     "text": [
      "Multiclass ROC 0.979079044444 Accuracy 0.7566 loss 1.489\n",
      "Multiclass ROC 0.982302866667 Accuracy 0.7884 loss 1.49267\n",
      "Multiclass ROC 0.985924911111 Accuracy 0.795 loss 1.47348\n",
      "Multiclass ROC 0.982120822222 Accuracy 0.7554 loss 1.48114\n",
      "Multiclass ROC 0.988656955556 Accuracy 0.8236 loss 1.49173\n",
      "Multiclass ROC 0.988344977778 Accuracy 0.819 loss 1.47939\n",
      "Multiclass ROC 0.983557155556 Accuracy 0.7836 loss 1.46266\n",
      "Multiclass ROC 0.989197822222 Accuracy 0.8174 loss 1.51931\n",
      "Multiclass ROC 0.989356933333 Accuracy 0.7954 loss 1.46138\n",
      "Multiclass ROC 0.989595866667 Accuracy 0.8268 loss 1.47579\n",
      "Multiclass ROC 0.987503266667 Accuracy 0.819 loss 1.47589\n",
      "Multiclass ROC 0.983801222222 Accuracy 0.7912 loss 1.47784\n",
      "Multiclass ROC 0.987972866667 Accuracy 0.8278 loss 1.46247\n",
      "Multiclass ROC 0.988720244444 Accuracy 0.8194 loss 1.47044\n",
      "Multiclass ROC 0.990742777778 Accuracy 0.834 loss 1.46176\n",
      "Multiclass ROC 0.983063311111 Accuracy 0.7982 loss 1.46162\n",
      "Multiclass ROC 0.989201288889 Accuracy 0.8106 loss 1.4751\n",
      "Multiclass ROC 0.989184244444 Accuracy 0.8236 loss 1.46142\n",
      "Multiclass ROC 0.986743711111 Accuracy 0.7984 loss 1.46192\n",
      "Multiclass ROC 0.9841466 Accuracy 0.796 loss 1.46177\n",
      "[2, 2, 2, 2, 2, 5000, 5000, 5000, 5000, 5000]\n"
     ]
    },
    {
     "data": {
      "application/vnd.jupyter.widget-view+json": {
       "model_id": "f486502f1a5f4ee382c80c4d70ba48bd",
       "version_major": 2,
       "version_minor": 0
      },
      "text/plain": [
       "A Jupyter Widget"
      ]
     },
     "metadata": {},
     "output_type": "display_data"
    },
    {
     "name": "stdout",
     "output_type": "stream",
     "text": [
      "\n",
      "Multiclass ROC 0.957486266667 Accuracy 0.639 loss -0.878349\n",
      "Multiclass ROC 0.967217511111 Accuracy 0.6856 loss -0.869624\n",
      "Multiclass ROC 0.968992488889 Accuracy 0.683 loss -0.87658\n",
      "Multiclass ROC 0.958345866667 Accuracy 0.657 loss -0.871281\n",
      "Multiclass ROC 0.967271266667 Accuracy 0.6938 loss -0.867984\n",
      "Multiclass ROC 0.966219111111 Accuracy 0.6742 loss -0.870577\n",
      "Multiclass ROC 0.964266088889 Accuracy 0.6766 loss -0.873157\n",
      "Multiclass ROC 0.967101533333 Accuracy 0.6996 loss -0.878079\n",
      "Multiclass ROC 0.9731362 Accuracy 0.6974 loss -0.869655\n",
      "Multiclass ROC 0.969146533333 Accuracy 0.6716 loss -0.878328\n",
      "Multiclass ROC 0.971461244444 Accuracy 0.6948 loss -0.879968\n",
      "Multiclass ROC 0.978736844444 Accuracy 0.7414 loss -0.872079\n",
      "Multiclass ROC 0.972147822222 Accuracy 0.7058 loss -0.877608\n",
      "Multiclass ROC 0.970786155556 Accuracy 0.698 loss -0.876921\n",
      "Multiclass ROC 0.972053244444 Accuracy 0.7132 loss -0.879039\n",
      "Multiclass ROC 0.964945333333 Accuracy 0.6926 loss -0.8757\n",
      "Multiclass ROC 0.963270955556 Accuracy 0.7062 loss -0.876972\n",
      "Multiclass ROC 0.9696656 Accuracy 0.7196 loss -0.879545\n",
      "Multiclass ROC 0.963350155556 Accuracy 0.6844 loss -0.879645\n",
      "Multiclass ROC 0.9647066 Accuracy 0.6702 loss -0.87981\n"
     ]
    },
    {
     "data": {
      "application/vnd.jupyter.widget-view+json": {
       "model_id": "8f9873d5962242dab6879d91c5aee006",
       "version_major": 2,
       "version_minor": 0
      },
      "text/plain": [
       "A Jupyter Widget"
      ]
     },
     "metadata": {},
     "output_type": "display_data"
    },
    {
     "name": "stdout",
     "output_type": "stream",
     "text": [
      "Multiclass ROC 0.954488955556 Accuracy 0.6076 loss 1.50637\n",
      "Multiclass ROC 0.963025 Accuracy 0.6702 loss 1.46284\n",
      "Multiclass ROC 0.958348333333 Accuracy 0.648 loss 1.50899\n",
      "Multiclass ROC 0.9690798 Accuracy 0.692 loss 1.49206\n",
      "Multiclass ROC 0.9661814 Accuracy 0.683 loss 1.46126\n",
      "Multiclass ROC 0.967466844444 Accuracy 0.6656 loss 1.48885\n",
      "Multiclass ROC 0.9657872 Accuracy 0.6698 loss 1.46675\n",
      "Multiclass ROC 0.958926755556 Accuracy 0.6518 loss 1.46152\n",
      "Multiclass ROC 0.958817355556 Accuracy 0.6636 loss 1.46146\n",
      "Multiclass ROC 0.967674111111 Accuracy 0.662 loss 1.46142\n",
      "Multiclass ROC 0.962109933333 Accuracy 0.653 loss 1.46879\n",
      "Multiclass ROC 0.973637577778 Accuracy 0.6938 loss 1.46501\n",
      "Multiclass ROC 0.968594977778 Accuracy 0.7068 loss 1.46134\n",
      "Multiclass ROC 0.957594311111 Accuracy 0.6976 loss 1.47908\n",
      "Multiclass ROC 0.968555666667 Accuracy 0.7024 loss 1.46122\n",
      "Multiclass ROC 0.962024711111 Accuracy 0.6782 loss 1.47142\n",
      "Multiclass ROC 0.966563888889 Accuracy 0.7082 loss 1.46162\n",
      "Multiclass ROC 0.966363088889 Accuracy 0.6918 loss 1.46388\n",
      "Multiclass ROC 0.9675346 Accuracy 0.691 loss 1.47305\n",
      "Multiclass ROC 0.969880533333 Accuracy 0.6928 loss 1.46669\n"
     ]
    },
    {
     "data": {
      "application/vnd.jupyter.widget-view+json": {
       "model_id": "154eb54cfddc439e9ed543f3432702c1",
       "version_major": 2,
       "version_minor": 0
      },
      "text/plain": [
       "A Jupyter Widget"
      ]
     },
     "metadata": {},
     "output_type": "display_data"
    },
    {
     "name": "stdout",
     "output_type": "stream",
     "text": [
      "\n",
      "Multiclass ROC 0.969989355556 Accuracy 0.708 loss -0.854354\n",
      "Multiclass ROC 0.963905111111 Accuracy 0.6882 loss -0.880463\n",
      "Multiclass ROC 0.966734777778 Accuracy 0.7208 loss -0.871806\n",
      "Multiclass ROC 0.970530822222 Accuracy 0.7264 loss -0.880185\n",
      "Multiclass ROC 0.974135288889 Accuracy 0.7102 loss -0.868977\n",
      "Multiclass ROC 0.964860777778 Accuracy 0.6706 loss -0.879885\n",
      "Multiclass ROC 0.978428333333 Accuracy 0.7312 loss -0.875281\n",
      "Multiclass ROC 0.980365377778 Accuracy 0.7506 loss -0.874392\n",
      "Multiclass ROC 0.979054711111 Accuracy 0.754 loss -0.879546\n",
      "Multiclass ROC 0.978548822222 Accuracy 0.7606 loss -0.878647\n",
      "Multiclass ROC 0.982807288889 Accuracy 0.7718 loss -0.878999\n",
      "Multiclass ROC 0.969400822222 Accuracy 0.7348 loss -0.879875\n",
      "Multiclass ROC 0.974520111111 Accuracy 0.7176 loss -0.874347\n",
      "Multiclass ROC 0.978599 Accuracy 0.7396 loss -0.879248\n",
      "Multiclass ROC 0.978336822222 Accuracy 0.7436 loss -0.878482\n",
      "Multiclass ROC 0.9810414 Accuracy 0.7602 loss -0.880599\n",
      "Multiclass ROC 0.976121466667 Accuracy 0.718 loss -0.879104\n",
      "Multiclass ROC 0.9727494 Accuracy 0.7304 loss -0.879656\n",
      "Multiclass ROC 0.980860311111 Accuracy 0.7494 loss -0.880538\n",
      "Multiclass ROC 0.9790732 Accuracy 0.7384 loss -0.877136\n"
     ]
    },
    {
     "data": {
      "application/vnd.jupyter.widget-view+json": {
       "model_id": "70be492dbe904ce4ba539102967eb950",
       "version_major": 2,
       "version_minor": 0
      },
      "text/plain": [
       "A Jupyter Widget"
      ]
     },
     "metadata": {},
     "output_type": "display_data"
    },
    {
     "name": "stdout",
     "output_type": "stream",
     "text": [
      "\n",
      "Multiclass ROC 0.967137066667 Accuracy 0.6588 loss 1.51857\n",
      "Multiclass ROC 0.970341644444 Accuracy 0.675 loss 1.48026\n",
      "Multiclass ROC 0.969204577778 Accuracy 0.7174 loss 1.47798\n",
      "Multiclass ROC 0.971100555556 Accuracy 0.7032 loss 1.48167\n",
      "Multiclass ROC 0.977201711111 Accuracy 0.7326 loss 1.51181\n",
      "Multiclass ROC 0.971224777778 Accuracy 0.7078 loss 1.4641\n",
      "Multiclass ROC 0.969498733333 Accuracy 0.6872 loss 1.47728\n",
      "Multiclass ROC 0.973826044444 Accuracy 0.7244 loss 1.46125\n",
      "Multiclass ROC 0.9767738 Accuracy 0.7332 loss 1.46182\n",
      "Multiclass ROC 0.974418822222 Accuracy 0.7228 loss 1.47023\n",
      "Multiclass ROC 0.977865177778 Accuracy 0.7258 loss 1.47868\n",
      "Multiclass ROC 0.975205111111 Accuracy 0.7358 loss 1.46349\n",
      "Multiclass ROC 0.974123688889 Accuracy 0.7132 loss 1.47372\n",
      "Multiclass ROC 0.979413244444 Accuracy 0.7334 loss 1.4726\n",
      "Multiclass ROC 0.978151866667 Accuracy 0.7536 loss 1.46154\n",
      "Multiclass ROC 0.9718214 Accuracy 0.738 loss 1.46134\n",
      "Multiclass ROC 0.979528888889 Accuracy 0.7768 loss 1.46303\n",
      "Multiclass ROC 0.975540555556 Accuracy 0.7412 loss 1.46264\n",
      "Multiclass ROC 0.962429422222 Accuracy 0.7156 loss 1.46495\n",
      "Multiclass ROC 0.970339577778 Accuracy 0.6994 loss 1.46437\n"
     ]
    },
    {
     "data": {
      "application/vnd.jupyter.widget-view+json": {
       "model_id": "b89025b7d67749e885f71a3de295d7b2",
       "version_major": 2,
       "version_minor": 0
      },
      "text/plain": [
       "A Jupyter Widget"
      ]
     },
     "metadata": {},
     "output_type": "display_data"
    },
    {
     "name": "stdout",
     "output_type": "stream",
     "text": [
      "\n",
      "Multiclass ROC 0.975069755556 Accuracy 0.7138 loss -0.852025\n",
      "Multiclass ROC 0.978509 Accuracy 0.745 loss -0.865307\n",
      "Multiclass ROC 0.96836 Accuracy 0.7846 loss -0.879586\n",
      "Multiclass ROC 0.977594133333 Accuracy 0.7628 loss -0.85792\n",
      "Multiclass ROC 0.975337977778 Accuracy 0.6984 loss -0.879214\n",
      "Multiclass ROC 0.980762355556 Accuracy 0.7678 loss -0.876697\n",
      "Multiclass ROC 0.973546377778 Accuracy 0.734 loss -0.875744\n",
      "Multiclass ROC 0.971807955556 Accuracy 0.7036 loss -0.875242\n",
      "Multiclass ROC 0.979043311111 Accuracy 0.7404 loss -0.865063\n",
      "Multiclass ROC 0.974534644444 Accuracy 0.753 loss -0.875284\n",
      "Multiclass ROC 0.9816728 Accuracy 0.768 loss -0.880366\n",
      "Multiclass ROC 0.9841074 Accuracy 0.7882 loss -0.880322\n",
      "Multiclass ROC 0.981890666667 Accuracy 0.7618 loss -0.879698\n",
      "Multiclass ROC 0.982779 Accuracy 0.7602 loss -0.880429\n",
      "Multiclass ROC 0.982086844444 Accuracy 0.7708 loss -0.874563\n",
      "Multiclass ROC 0.976581444444 Accuracy 0.7398 loss -0.878103\n",
      "Multiclass ROC 0.982015866667 Accuracy 0.7444 loss -0.878742\n",
      "Multiclass ROC 0.979525577778 Accuracy 0.7514 loss -0.878803\n",
      "Multiclass ROC 0.985682088889 Accuracy 0.7962 loss -0.865488\n",
      "Multiclass ROC 0.970187466667 Accuracy 0.7312 loss -0.875777\n"
     ]
    },
    {
     "data": {
      "application/vnd.jupyter.widget-view+json": {
       "model_id": "eec39dbd037948eabca677c0d5b6a085",
       "version_major": 2,
       "version_minor": 0
      },
      "text/plain": [
       "A Jupyter Widget"
      ]
     },
     "metadata": {},
     "output_type": "display_data"
    },
    {
     "name": "stdout",
     "output_type": "stream",
     "text": [
      "Multiclass ROC 0.966579266667 Accuracy 0.6992 loss 1.49695\n",
      "Multiclass ROC 0.9662656 Accuracy 0.7012 loss 1.49797\n",
      "Multiclass ROC 0.970230622222 Accuracy 0.7124 loss 1.46364\n",
      "Multiclass ROC 0.967293177778 Accuracy 0.6884 loss 1.47679\n",
      "Multiclass ROC 0.973722355556 Accuracy 0.7404 loss 1.48619\n",
      "Multiclass ROC 0.9698056 Accuracy 0.7144 loss 1.4708\n",
      "Multiclass ROC 0.977948088889 Accuracy 0.7394 loss 1.46182\n",
      "Multiclass ROC 0.969410311111 Accuracy 0.6882 loss 1.47773\n",
      "Multiclass ROC 0.977114733333 Accuracy 0.7502 loss 1.46148\n",
      "Multiclass ROC 0.968615955556 Accuracy 0.731 loss 1.46125\n",
      "Multiclass ROC 0.969113977778 Accuracy 0.7008 loss 1.48015\n",
      "Multiclass ROC 0.970629288889 Accuracy 0.751 loss 1.4796\n",
      "Multiclass ROC 0.972428622222 Accuracy 0.7058 loss 1.46227\n",
      "Multiclass ROC 0.972181688889 Accuracy 0.7226 loss 1.46141\n",
      "Multiclass ROC 0.9787704 Accuracy 0.7464 loss 1.46127\n",
      "Multiclass ROC 0.979416488889 Accuracy 0.7562 loss 1.46898\n",
      "Multiclass ROC 0.973744977778 Accuracy 0.7544 loss 1.46858\n",
      "Multiclass ROC 0.974707666667 Accuracy 0.7346 loss 1.4626\n",
      "Multiclass ROC 0.966929466667 Accuracy 0.6936 loss 1.47337\n",
      "Multiclass ROC 0.979280711111 Accuracy 0.767 loss 1.49686\n",
      "[1, 1, 1, 1, 1, 5000, 5000, 5000, 5000, 5000]\n"
     ]
    },
    {
     "data": {
      "application/vnd.jupyter.widget-view+json": {
       "model_id": "666448cef0a040ebb9f9cd8c2cf0273a",
       "version_major": 2,
       "version_minor": 0
      },
      "text/plain": [
       "A Jupyter Widget"
      ]
     },
     "metadata": {},
     "output_type": "display_data"
    },
    {
     "name": "stdout",
     "output_type": "stream",
     "text": [
      "\n",
      "Multiclass ROC 0.900638133333 Accuracy 0.4816 loss -0.825107\n",
      "Multiclass ROC 0.939992022222 Accuracy 0.583 loss -0.865573\n",
      "Multiclass ROC 0.944931844444 Accuracy 0.6136 loss -0.878487\n",
      "Multiclass ROC 0.940974511111 Accuracy 0.6182 loss -0.879724\n",
      "Multiclass ROC 0.952833 Accuracy 0.6202 loss -0.871231\n",
      "Multiclass ROC 0.948761222222 Accuracy 0.6206 loss -0.8782\n",
      "Multiclass ROC 0.948465244444 Accuracy 0.6184 loss -0.870217\n",
      "Multiclass ROC 0.937373177778 Accuracy 0.6276 loss -0.868714\n",
      "Multiclass ROC 0.934518044444 Accuracy 0.5922 loss -0.872986\n",
      "Multiclass ROC 0.957027311111 Accuracy 0.6424 loss -0.87837\n",
      "Multiclass ROC 0.948055288889 Accuracy 0.6212 loss -0.877889\n",
      "Multiclass ROC 0.941047933333 Accuracy 0.6174 loss -0.878322\n",
      "Multiclass ROC 0.940356377778 Accuracy 0.613 loss -0.872621\n",
      "Multiclass ROC 0.945918022222 Accuracy 0.6492 loss -0.870178\n",
      "Multiclass ROC 0.952532244444 Accuracy 0.6384 loss -0.869275\n",
      "Multiclass ROC 0.950406155556 Accuracy 0.6094 loss -0.879958\n",
      "Multiclass ROC 0.950803555556 Accuracy 0.6564 loss -0.878135\n",
      "Multiclass ROC 0.958232977778 Accuracy 0.6524 loss -0.880512\n",
      "Multiclass ROC 0.951593177778 Accuracy 0.6382 loss -0.880366\n",
      "Multiclass ROC 0.949717444444 Accuracy 0.629 loss -0.879743\n"
     ]
    },
    {
     "data": {
      "application/vnd.jupyter.widget-view+json": {
       "model_id": "124c8413e69d4d6886fff0d91d6b9ed7",
       "version_major": 2,
       "version_minor": 0
      },
      "text/plain": [
       "A Jupyter Widget"
      ]
     },
     "metadata": {},
     "output_type": "display_data"
    },
    {
     "name": "stdout",
     "output_type": "stream",
     "text": [
      "Multiclass ROC 0.926694622222 Accuracy 0.5458 loss 1.47832\n",
      "Multiclass ROC 0.941429088889 Accuracy 0.5768 loss 1.47258\n",
      "Multiclass ROC 0.943068555556 Accuracy 0.592 loss 1.46799\n",
      "Multiclass ROC 0.949395933333 Accuracy 0.6002 loss 1.48297\n",
      "Multiclass ROC 0.929629044444 Accuracy 0.5746 loss 1.477\n",
      "Multiclass ROC 0.941973911111 Accuracy 0.5968 loss 1.46363\n",
      "Multiclass ROC 0.936908488889 Accuracy 0.5976 loss 1.48521\n",
      "Multiclass ROC 0.945630888889 Accuracy 0.6136 loss 1.49158\n",
      "Multiclass ROC 0.951440644444 Accuracy 0.6296 loss 1.4831\n",
      "Multiclass ROC 0.936578311111 Accuracy 0.5912 loss 1.46146\n",
      "Multiclass ROC 0.940549333333 Accuracy 0.6048 loss 1.46135\n",
      "Multiclass ROC 0.950271088889 Accuracy 0.6448 loss 1.47179\n",
      "Multiclass ROC 0.950101155556 Accuracy 0.6194 loss 1.46287\n",
      "Multiclass ROC 0.9461624 Accuracy 0.624 loss 1.47201\n",
      "Multiclass ROC 0.942489866667 Accuracy 0.6254 loss 1.48487\n",
      "Multiclass ROC 0.934396288889 Accuracy 0.6028 loss 1.46145\n",
      "Multiclass ROC 0.927277888889 Accuracy 0.594 loss 1.4613\n",
      "Multiclass ROC 0.923281111111 Accuracy 0.5936 loss 1.46582\n",
      "Multiclass ROC 0.930259622222 Accuracy 0.599 loss 1.46129\n",
      "\n",
      "Multiclass ROC 0.945181555556 Accuracy 0.6186 loss 1.46607\n"
     ]
    },
    {
     "data": {
      "application/vnd.jupyter.widget-view+json": {
       "model_id": "9feed76362764b8dadf02a9f5029fce2",
       "version_major": 2,
       "version_minor": 0
      },
      "text/plain": [
       "A Jupyter Widget"
      ]
     },
     "metadata": {},
     "output_type": "display_data"
    },
    {
     "name": "stdout",
     "output_type": "stream",
     "text": [
      "\n",
      "Multiclass ROC 0.956454733333 Accuracy 0.5794 loss -0.850705\n",
      "Multiclass ROC 0.964790777778 Accuracy 0.601 loss -0.879177\n",
      "Multiclass ROC 0.968784311111 Accuracy 0.6316 loss -0.87374\n",
      "Multiclass ROC 0.969628755556 Accuracy 0.6568 loss -0.856724\n",
      "Multiclass ROC 0.965746311111 Accuracy 0.6052 loss -0.87946\n",
      "Multiclass ROC 0.967050355556 Accuracy 0.6546 loss -0.880131\n",
      "Multiclass ROC 0.970185666667 Accuracy 0.663 loss -0.879003\n",
      "Multiclass ROC 0.972366733333 Accuracy 0.6952 loss -0.880341\n",
      "Multiclass ROC 0.965925577778 Accuracy 0.637 loss -0.872966\n",
      "Multiclass ROC 0.972020822222 Accuracy 0.6644 loss -0.869074\n",
      "Multiclass ROC 0.973395377778 Accuracy 0.694 loss -0.878809\n",
      "Multiclass ROC 0.970555133333 Accuracy 0.6672 loss -0.876056\n",
      "Multiclass ROC 0.964541133333 Accuracy 0.6588 loss -0.867397\n",
      "Multiclass ROC 0.966684777778 Accuracy 0.663 loss -0.876561\n",
      "Multiclass ROC 0.973382622222 Accuracy 0.689 loss -0.879621\n",
      "Multiclass ROC 0.972453844444 Accuracy 0.6522 loss -0.87852\n",
      "Multiclass ROC 0.971998422222 Accuracy 0.6696 loss -0.880253\n",
      "Multiclass ROC 0.9694466 Accuracy 0.6698 loss -0.874268\n",
      "Multiclass ROC 0.959120377778 Accuracy 0.6396 loss -0.873409\n",
      "Multiclass ROC 0.969030488889 Accuracy 0.6606 loss -0.875605\n"
     ]
    },
    {
     "data": {
      "application/vnd.jupyter.widget-view+json": {
       "model_id": "f0fc3e0049534c09a8084a57414545fe",
       "version_major": 2,
       "version_minor": 0
      },
      "text/plain": [
       "A Jupyter Widget"
      ]
     },
     "metadata": {},
     "output_type": "display_data"
    },
    {
     "name": "stdout",
     "output_type": "stream",
     "text": [
      "Multiclass ROC 0.953941555556 Accuracy 0.6298 loss 1.47038\n",
      "Multiclass ROC 0.963463133333 Accuracy 0.6386 loss 1.4763\n",
      "Multiclass ROC 0.958207488889 Accuracy 0.6332 loss 1.47972\n",
      "Multiclass ROC 0.964787444444 Accuracy 0.682 loss 1.46213\n",
      "Multiclass ROC 0.953526444444 Accuracy 0.6434 loss 1.47772\n",
      "Multiclass ROC 0.960749311111 Accuracy 0.5992 loss 1.47789\n",
      "Multiclass ROC 0.964314688889 Accuracy 0.6276 loss 1.46212\n",
      "Multiclass ROC 0.969685622222 Accuracy 0.6468 loss 1.46615\n",
      "Multiclass ROC 0.968344311111 Accuracy 0.6852 loss 1.48638\n",
      "Multiclass ROC 0.963297066667 Accuracy 0.632 loss 1.4614\n",
      "Multiclass ROC 0.968791311111 Accuracy 0.679 loss 1.47744\n",
      "\n",
      "Multiclass ROC 0.964328777778 Accuracy 0.631 loss 1.46213\n",
      "Multiclass ROC 0.971636111111 Accuracy 0.6734 loss 1.47061\n",
      "Multiclass ROC 0.967626822222 Accuracy 0.6488 loss 1.46275\n",
      "Multiclass ROC 0.967662577778 Accuracy 0.6636 loss 1.46392\n",
      "Multiclass ROC 0.965789888889 Accuracy 0.6364 loss 1.48416\n",
      "Multiclass ROC 0.955638955556 Accuracy 0.6322 loss 1.46126\n",
      "Multiclass ROC 0.963901333333 Accuracy 0.6782 loss 1.49175\n",
      "Multiclass ROC 0.966351288889 Accuracy 0.6494 loss 1.46221\n",
      "Multiclass ROC 0.971403933333 Accuracy 0.6728 loss 1.49291\n"
     ]
    },
    {
     "data": {
      "application/vnd.jupyter.widget-view+json": {
       "model_id": "d51890cdb41849628ff6197da3715317",
       "version_major": 2,
       "version_minor": 0
      },
      "text/plain": [
       "A Jupyter Widget"
      ]
     },
     "metadata": {},
     "output_type": "display_data"
    },
    {
     "name": "stdout",
     "output_type": "stream",
     "text": [
      "\n",
      "Multiclass ROC 0.916777066667 Accuracy 0.5168 loss -0.85756\n",
      "Multiclass ROC 0.940393466667 Accuracy 0.5972 loss -0.865022\n",
      "Multiclass ROC 0.951506622222 Accuracy 0.6084 loss -0.872344\n",
      "Multiclass ROC 0.935293711111 Accuracy 0.5838 loss -0.878618\n",
      "Multiclass ROC 0.958082133333 Accuracy 0.6134 loss -0.856206\n",
      "Multiclass ROC 0.939778844444 Accuracy 0.5842 loss -0.873931\n",
      "Multiclass ROC 0.943053977778 Accuracy 0.5996 loss -0.874431\n",
      "Multiclass ROC 0.951060511111 Accuracy 0.5846 loss -0.878751\n",
      "Multiclass ROC 0.941053244444 Accuracy 0.598 loss -0.853822\n",
      "Multiclass ROC 0.938746777778 Accuracy 0.5922 loss -0.868221\n",
      "Multiclass ROC 0.946011688889 Accuracy 0.605 loss -0.878485\n",
      "Multiclass ROC 0.944464755556 Accuracy 0.6064 loss -0.866032\n",
      "Multiclass ROC 0.939705977778 Accuracy 0.5972 loss -0.874445\n",
      "Multiclass ROC 0.944926777778 Accuracy 0.592 loss -0.87174\n",
      "Multiclass ROC 0.941767155556 Accuracy 0.612 loss -0.880499\n",
      "Multiclass ROC 0.954593244444 Accuracy 0.606 loss -0.880052\n",
      "Multiclass ROC 0.945619555556 Accuracy 0.6388 loss -0.880638\n",
      "Multiclass ROC 0.937859533333 Accuracy 0.5998 loss -0.879638\n",
      "Multiclass ROC 0.938582488889 Accuracy 0.626 loss -0.878292\n",
      "Multiclass ROC 0.947175733333 Accuracy 0.6116 loss -0.879373\n"
     ]
    },
    {
     "data": {
      "application/vnd.jupyter.widget-view+json": {
       "model_id": "d662a71a6df9473aa02356f20960cfce",
       "version_major": 2,
       "version_minor": 0
      },
      "text/plain": [
       "A Jupyter Widget"
      ]
     },
     "metadata": {},
     "output_type": "display_data"
    },
    {
     "name": "stdout",
     "output_type": "stream",
     "text": [
      "Multiclass ROC 0.903469333333 Accuracy 0.5206 loss 1.46342\n",
      "Multiclass ROC 0.928300066667 Accuracy 0.5706 loss 1.46403\n",
      "Multiclass ROC 0.933307822222 Accuracy 0.5626 loss 1.46615\n",
      "Multiclass ROC 0.930569511111 Accuracy 0.5902 loss 1.47616\n",
      "Multiclass ROC 0.931991422222 Accuracy 0.5984 loss 1.46308\n",
      "Multiclass ROC 0.944860311111 Accuracy 0.5916 loss 1.4877\n",
      "Multiclass ROC 0.909080777778 Accuracy 0.5888 loss 1.46355\n",
      "Multiclass ROC 0.926181733333 Accuracy 0.5722 loss 1.46135\n",
      "Multiclass ROC 0.942552177778 Accuracy 0.581 loss 1.46318\n",
      "Multiclass ROC 0.938281711111 Accuracy 0.6112 loss 1.46137\n",
      "Multiclass ROC 0.945692044444 Accuracy 0.5882 loss 1.46205\n",
      "Multiclass ROC 0.942445155556 Accuracy 0.5866 loss 1.47447\n",
      "Multiclass ROC 0.935865355556 Accuracy 0.5726 loss 1.46548\n",
      "Multiclass ROC 0.942134844444 Accuracy 0.5862 loss 1.46457\n",
      "Multiclass ROC 0.934291533333 Accuracy 0.5604 loss 1.47287\n",
      "Multiclass ROC 0.941440622222 Accuracy 0.5848 loss 1.46123\n",
      "Multiclass ROC 0.938557888889 Accuracy 0.5962 loss 1.48319\n",
      "Multiclass ROC 0.939815577778 Accuracy 0.6166 loss 1.48742\n",
      "Multiclass ROC 0.930956444444 Accuracy 0.593 loss 1.46126\n",
      "Multiclass ROC 0.932949022222 Accuracy 0.5856 loss 1.46609\n",
      "[5000, 5000, 5000, 5000, 5000, 5000, 5000, 5000, 5000, 5000]\n"
     ]
    },
    {
     "data": {
      "application/vnd.jupyter.widget-view+json": {
       "model_id": "97a0b91bd1714693949cfd2d2d754d12",
       "version_major": 2,
       "version_minor": 0
      },
      "text/plain": [
       "A Jupyter Widget"
      ]
     },
     "metadata": {},
     "output_type": "display_data"
    },
    {
     "name": "stdout",
     "output_type": "stream",
     "text": [
      "\n",
      "Multiclass ROC 0.993629266667 Accuracy 0.9194 loss -0.84331\n",
      "Multiclass ROC 0.997089644444 Accuracy 0.9416 loss -0.860745\n",
      "Multiclass ROC 0.998826555556 Accuracy 0.9638 loss -0.834601\n",
      "Multiclass ROC 0.999196777778 Accuracy 0.9652 loss -0.865206\n",
      "Multiclass ROC 0.999462222222 Accuracy 0.9734 loss -0.871549\n",
      "Multiclass ROC 0.999613777778 Accuracy 0.975 loss -0.871703\n",
      "Multiclass ROC 0.999556533333 Accuracy 0.979 loss -0.858793\n",
      "Multiclass ROC 0.999383133333 Accuracy 0.9734 loss -0.873218\n",
      "Multiclass ROC 0.999612888889 Accuracy 0.9726 loss -0.849753\n",
      "Multiclass ROC 0.999739933333 Accuracy 0.9858 loss -0.869113\n",
      "Multiclass ROC 0.999749866667 Accuracy 0.987 loss -0.879146\n",
      "Multiclass ROC 0.999642266667 Accuracy 0.977 loss -0.85865\n",
      "Multiclass ROC 0.999545822222 Accuracy 0.9826 loss -0.878992\n",
      "Multiclass ROC 0.999885422222 Accuracy 0.988 loss -0.872958\n",
      "Multiclass ROC 0.999834133333 Accuracy 0.9854 loss -0.870594\n",
      "Multiclass ROC 0.999745777778 Accuracy 0.984 loss -0.875422\n",
      "Multiclass ROC 0.999876355556 Accuracy 0.9894 loss -0.879862\n",
      "Multiclass ROC 0.999852755556 Accuracy 0.9894 loss -0.879364\n",
      "Multiclass ROC 0.9997336 Accuracy 0.9866 loss -0.872695\n",
      "Multiclass ROC 0.999812977778 Accuracy 0.9874 loss -0.870335\n"
     ]
    },
    {
     "data": {
      "application/vnd.jupyter.widget-view+json": {
       "model_id": "ee108092445144b2ad23fbc99264a758",
       "version_major": 2,
       "version_minor": 0
      },
      "text/plain": [
       "A Jupyter Widget"
      ]
     },
     "metadata": {},
     "output_type": "display_data"
    },
    {
     "name": "stdout",
     "output_type": "stream",
     "text": [
      "Multiclass ROC 0.991890577778 Accuracy 0.9048 loss 1.52553\n",
      "Multiclass ROC 0.996110377778 Accuracy 0.942 loss 1.51732\n",
      "Multiclass ROC 0.9972974 Accuracy 0.9526 loss 1.55285\n",
      "Multiclass ROC 0.998447488889 Accuracy 0.9682 loss 1.50193\n",
      "Multiclass ROC 0.998842088889 Accuracy 0.9622 loss 1.49126\n",
      "Multiclass ROC 0.999084377778 Accuracy 0.9756 loss 1.50816\n",
      "Multiclass ROC 0.999552111111 Accuracy 0.9792 loss 1.50702\n",
      "Multiclass ROC 0.999654844444 Accuracy 0.9816 loss 1.48496\n",
      "Multiclass ROC 0.999696422222 Accuracy 0.9776 loss 1.50771\n",
      "Multiclass ROC 0.999792111111 Accuracy 0.9854 loss 1.46967\n",
      "Multiclass ROC 0.999820177778 Accuracy 0.986 loss 1.49005\n",
      "Multiclass ROC 0.999844577778 Accuracy 0.9854 loss 1.46974\n",
      "Multiclass ROC 0.999898133333 Accuracy 0.989 loss 1.4632\n",
      "\n",
      "Multiclass ROC 0.999866444444 Accuracy 0.9914 loss 1.47833\n",
      "Multiclass ROC 0.999823155556 Accuracy 0.9866 loss 1.46238\n",
      "Multiclass ROC 0.999923222222 Accuracy 0.993 loss 1.46845\n",
      "Multiclass ROC 0.999856 Accuracy 0.9904 loss 1.46301\n",
      "Multiclass ROC 0.999803622222 Accuracy 0.9876 loss 1.47832\n",
      "Multiclass ROC 0.999824711111 Accuracy 0.9862 loss 1.49168\n",
      "Multiclass ROC 0.999898733333 Accuracy 0.9942 loss 1.46141\n"
     ]
    },
    {
     "data": {
      "application/vnd.jupyter.widget-view+json": {
       "model_id": "206fb51ca0f5486f9ab6b51a098c75da",
       "version_major": 2,
       "version_minor": 0
      },
      "text/plain": [
       "A Jupyter Widget"
      ]
     },
     "metadata": {},
     "output_type": "display_data"
    },
    {
     "name": "stdout",
     "output_type": "stream",
     "text": [
      "Multiclass ROC 0.994193377778 Accuracy 0.917 loss -0.871783\n",
      "\n",
      "Multiclass ROC 0.997411888889 Accuracy 0.9426 loss -0.854784\n",
      "Multiclass ROC 0.998671333333 Accuracy 0.9598 loss -0.869879\n",
      "Multiclass ROC 0.998447022222 Accuracy 0.9508 loss -0.856644\n",
      "Multiclass ROC 0.999341511111 Accuracy 0.9736 loss -0.873939\n",
      "Multiclass ROC 0.999524755556 Accuracy 0.977 loss -0.86419\n",
      "Multiclass ROC 0.999539066667 Accuracy 0.9762 loss -0.870732\n",
      "Multiclass ROC 0.999408022222 Accuracy 0.9722 loss -0.867389\n",
      "Multiclass ROC 0.999730733333 Accuracy 0.9852 loss -0.874111\n",
      "Multiclass ROC 0.999720933333 Accuracy 0.9858 loss -0.846506\n",
      "Multiclass ROC 0.999729111111 Accuracy 0.977 loss -0.880182\n",
      "Multiclass ROC 0.999632444444 Accuracy 0.9836 loss -0.867414\n",
      "Multiclass ROC 0.999798177778 Accuracy 0.984 loss -0.87871\n",
      "Multiclass ROC 0.999877288889 Accuracy 0.9874 loss -0.873112\n",
      "Multiclass ROC 0.999707933333 Accuracy 0.9826 loss -0.871555\n",
      "Multiclass ROC 0.999722977778 Accuracy 0.9908 loss -0.877564\n",
      "Multiclass ROC 0.999765822222 Accuracy 0.9852 loss -0.869979\n",
      "Multiclass ROC 0.999799511111 Accuracy 0.9898 loss -0.879588\n",
      "Multiclass ROC 0.999761911111 Accuracy 0.9862 loss -0.874698\n",
      "Multiclass ROC 0.999754822222 Accuracy 0.9882 loss -0.8755\n"
     ]
    },
    {
     "data": {
      "application/vnd.jupyter.widget-view+json": {
       "model_id": "676d38ffb394427f9ba87bd93d697276",
       "version_major": 2,
       "version_minor": 0
      },
      "text/plain": [
       "A Jupyter Widget"
      ]
     },
     "metadata": {},
     "output_type": "display_data"
    },
    {
     "name": "stdout",
     "output_type": "stream",
     "text": [
      "Multiclass ROC 0.991699688889 Accuracy 0.8962 loss 1.5711\n",
      "Multiclass ROC 0.997377511111 Accuracy 0.9462 loss 1.51899\n",
      "Multiclass ROC 0.998495155556 Accuracy 0.9614 loss 1.50798\n",
      "Multiclass ROC 0.999006488889 Accuracy 0.9644 loss 1.51167\n",
      "Multiclass ROC 0.999407177778 Accuracy 0.9762 loss 1.51764\n",
      "Multiclass ROC 0.999452911111 Accuracy 0.9768 loss 1.4709\n",
      "Multiclass ROC 0.999437822222 Accuracy 0.9776 loss 1.46903\n",
      "Multiclass ROC 0.999632866667 Accuracy 0.9794 loss 1.47515\n",
      "Multiclass ROC 0.999702888889 Accuracy 0.9832 loss 1.49346\n",
      "Multiclass ROC 0.999490244444 Accuracy 0.9786 loss 1.47746\n",
      "Multiclass ROC 0.999643644444 Accuracy 0.983 loss 1.46239\n",
      "Multiclass ROC 0.999532044444 Accuracy 0.976 loss 1.49683\n",
      "Multiclass ROC 0.999807911111 Accuracy 0.9834 loss 1.46236\n",
      "Multiclass ROC 0.999751 Accuracy 0.9868 loss 1.47958\n",
      "Multiclass ROC 0.999858933333 Accuracy 0.9904 loss 1.48266\n",
      "Multiclass ROC 0.9998316 Accuracy 0.9862 loss 1.4769\n",
      "Multiclass ROC 0.999691577778 Accuracy 0.9826 loss 1.47929\n",
      "Multiclass ROC 0.999837911111 Accuracy 0.9894 loss 1.46436\n",
      "Multiclass ROC 0.999936444444 Accuracy 0.9922 loss 1.46394\n",
      "\n",
      "Multiclass ROC 0.999893377778 Accuracy 0.9918 loss 1.46726\n"
     ]
    },
    {
     "data": {
      "application/vnd.jupyter.widget-view+json": {
       "model_id": "ee1ab6ce49f344f1a122337ee4e4155e",
       "version_major": 2,
       "version_minor": 0
      },
      "text/plain": [
       "A Jupyter Widget"
      ]
     },
     "metadata": {},
     "output_type": "display_data"
    },
    {
     "name": "stdout",
     "output_type": "stream",
     "text": [
      "\n",
      "Multiclass ROC 0.993181422222 Accuracy 0.9082 loss -0.852088\n",
      "Multiclass ROC 0.997813644444 Accuracy 0.9488 loss -0.866385\n",
      "Multiclass ROC 0.998953688889 Accuracy 0.962 loss -0.868604\n",
      "Multiclass ROC 0.999083511111 Accuracy 0.9672 loss -0.86581\n",
      "Multiclass ROC 0.999426488889 Accuracy 0.9762 loss -0.876926\n",
      "Multiclass ROC 0.999449066667 Accuracy 0.9746 loss -0.873787\n",
      "Multiclass ROC 0.999699733333 Accuracy 0.9778 loss -0.869873\n",
      "Multiclass ROC 0.999293555556 Accuracy 0.9636 loss -0.859774\n",
      "Multiclass ROC 0.999605422222 Accuracy 0.979 loss -0.871975\n",
      "Multiclass ROC 0.999612466667 Accuracy 0.9788 loss -0.870596\n",
      "Multiclass ROC 0.999738088889 Accuracy 0.982 loss -0.87065\n",
      "Multiclass ROC 0.999826622222 Accuracy 0.9868 loss -0.879333\n",
      "Multiclass ROC 0.9998552 Accuracy 0.9848 loss -0.87257\n",
      "Multiclass ROC 0.999786711111 Accuracy 0.9826 loss -0.869454\n",
      "Multiclass ROC 0.999811155556 Accuracy 0.9868 loss -0.86968\n",
      "Multiclass ROC 0.999837866667 Accuracy 0.99 loss -0.872445\n",
      "Multiclass ROC 0.999851466667 Accuracy 0.9894 loss -0.88003\n",
      "Multiclass ROC 0.999806888889 Accuracy 0.9854 loss -0.875188\n",
      "Multiclass ROC 0.9998728 Accuracy 0.9884 loss -0.878175\n",
      "Multiclass ROC 0.999871355556 Accuracy 0.987 loss -0.865615\n"
     ]
    },
    {
     "data": {
      "application/vnd.jupyter.widget-view+json": {
       "model_id": "00a661b89fad482fa521752273034056",
       "version_major": 2,
       "version_minor": 0
      },
      "text/plain": [
       "A Jupyter Widget"
      ]
     },
     "metadata": {},
     "output_type": "display_data"
    },
    {
     "name": "stdout",
     "output_type": "stream",
     "text": [
      "Multiclass ROC 0.993793755556 Accuracy 0.9138 loss 1.54813\n",
      "Multiclass ROC 0.996354822222 Accuracy 0.9374 loss 1.55294\n",
      "Multiclass ROC 0.998267488889 Accuracy 0.953 loss 1.54444\n",
      "Multiclass ROC 0.999191955556 Accuracy 0.966 loss 1.50589\n",
      "Multiclass ROC 0.999510733333 Accuracy 0.975 loss 1.46132\n",
      "Multiclass ROC 0.999459288889 Accuracy 0.9718 loss 1.49847\n",
      "Multiclass ROC 0.999551822222 Accuracy 0.9766 loss 1.4746\n",
      "Multiclass ROC 0.9996632 Accuracy 0.9828 loss 1.4777\n",
      "Multiclass ROC 0.9996932 Accuracy 0.978 loss 1.47311\n",
      "Multiclass ROC 0.9998072 Accuracy 0.9834 loss 1.48153\n",
      "Multiclass ROC 0.999698977778 Accuracy 0.9808 loss 1.49516\n",
      "Multiclass ROC 0.999807511111 Accuracy 0.9834 loss 1.47744\n",
      "Multiclass ROC 0.999843 Accuracy 0.9876 loss 1.46347\n",
      "Multiclass ROC 0.999798488889 Accuracy 0.9852 loss 1.52935\n",
      "Multiclass ROC 0.999852355556 Accuracy 0.9886 loss 1.4824\n",
      "Multiclass ROC 0.999880444444 Accuracy 0.9916 loss 1.4638\n",
      "\n",
      "Multiclass ROC 0.999856644444 Accuracy 0.9904 loss 1.46569\n",
      "Multiclass ROC 0.999895933333 Accuracy 0.988 loss 1.48193\n",
      "Multiclass ROC 0.999791088889 Accuracy 0.987 loss 1.47733\n",
      "Multiclass ROC 0.999931466667 Accuracy 0.9936 loss 1.46838\n",
      "[10, 10, 10, 10, 10, 10, 10, 10, 5000, 5000]\n"
     ]
    },
    {
     "data": {
      "application/vnd.jupyter.widget-view+json": {
       "model_id": "9cf4b64732124b3884943716967b6413",
       "version_major": 2,
       "version_minor": 0
      },
      "text/plain": [
       "A Jupyter Widget"
      ]
     },
     "metadata": {},
     "output_type": "display_data"
    },
    {
     "name": "stdout",
     "output_type": "stream",
     "text": [
      "Multiclass ROC 0.973931133333 Accuracy 0.781 loss -0.868537\n",
      "\n",
      "Multiclass ROC 0.977235644444 Accuracy 0.7888 loss -0.859262\n",
      "Multiclass ROC 0.973430555556 Accuracy 0.7866 loss -0.871707\n",
      "Multiclass ROC 0.979047666667 Accuracy 0.793 loss -0.866266\n",
      "Multiclass ROC 0.981265333333 Accuracy 0.7794 loss -0.874855\n",
      "Multiclass ROC 0.986243511111 Accuracy 0.8346 loss -0.868105\n",
      "Multiclass ROC 0.981957066667 Accuracy 0.77 loss -0.873272\n",
      "Multiclass ROC 0.9832348 Accuracy 0.7848 loss -0.862971\n",
      "Multiclass ROC 0.982985777778 Accuracy 0.7896 loss -0.879965\n",
      "Multiclass ROC 0.979839377778 Accuracy 0.791 loss -0.87979\n",
      "Multiclass ROC 0.984608266667 Accuracy 0.8008 loss -0.87588\n",
      "Multiclass ROC 0.9862512 Accuracy 0.8188 loss -0.87992\n",
      "Multiclass ROC 0.982250422222 Accuracy 0.783 loss -0.878865\n",
      "Multiclass ROC 0.985574288889 Accuracy 0.7984 loss -0.880225\n",
      "Multiclass ROC 0.986818866667 Accuracy 0.8144 loss -0.874494\n",
      "Multiclass ROC 0.988009422222 Accuracy 0.8246 loss -0.880604\n",
      "Multiclass ROC 0.990045555556 Accuracy 0.8574 loss -0.880318\n",
      "Multiclass ROC 0.986705844444 Accuracy 0.8132 loss -0.878524\n",
      "Multiclass ROC 0.984512177778 Accuracy 0.8064 loss -0.880545\n",
      "Multiclass ROC 0.988854044444 Accuracy 0.8168 loss -0.88049\n"
     ]
    },
    {
     "data": {
      "application/vnd.jupyter.widget-view+json": {
       "model_id": "2fd04c98f3144747bde93dc9bbb077eb",
       "version_major": 2,
       "version_minor": 0
      },
      "text/plain": [
       "A Jupyter Widget"
      ]
     },
     "metadata": {},
     "output_type": "display_data"
    },
    {
     "name": "stdout",
     "output_type": "stream",
     "text": [
      "Multiclass ROC 0.972442177778 Accuracy 0.7636 loss 1.53035\n",
      "Multiclass ROC 0.976658088889 Accuracy 0.7792 loss 1.52403\n",
      "\n",
      "Multiclass ROC 0.975124622222 Accuracy 0.7644 loss 1.52616\n",
      "Multiclass ROC 0.973719044444 Accuracy 0.7696 loss 1.4831\n",
      "Multiclass ROC 0.969136133333 Accuracy 0.7508 loss 1.47706\n",
      "Multiclass ROC 0.981721111111 Accuracy 0.8014 loss 1.50845\n",
      "Multiclass ROC 0.978627422222 Accuracy 0.7864 loss 1.51027\n",
      "Multiclass ROC 0.981229066667 Accuracy 0.7976 loss 1.46222\n",
      "Multiclass ROC 0.981470311111 Accuracy 0.8074 loss 1.46145\n",
      "Multiclass ROC 0.976459488889 Accuracy 0.765 loss 1.46354\n",
      "Multiclass ROC 0.974166955556 Accuracy 0.7602 loss 1.4623\n",
      "Multiclass ROC 0.977086644444 Accuracy 0.7622 loss 1.47693\n",
      "Multiclass ROC 0.9751722 Accuracy 0.7732 loss 1.46313\n",
      "Multiclass ROC 0.973733511111 Accuracy 0.7216 loss 1.46197\n",
      "Multiclass ROC 0.975639822222 Accuracy 0.767 loss 1.4623\n",
      "Multiclass ROC 0.973578733333 Accuracy 0.769 loss 1.46227\n",
      "Multiclass ROC 0.976057066667 Accuracy 0.77 loss 1.4618\n",
      "Multiclass ROC 0.973707933333 Accuracy 0.7684 loss 1.47768\n",
      "Multiclass ROC 0.981976133333 Accuracy 0.7922 loss 1.47679\n",
      "Multiclass ROC 0.980576622222 Accuracy 0.7806 loss 1.47726\n"
     ]
    },
    {
     "data": {
      "application/vnd.jupyter.widget-view+json": {
       "model_id": "6532c6bfcc854bc09f30ad09a00f167f",
       "version_major": 2,
       "version_minor": 0
      },
      "text/plain": [
       "A Jupyter Widget"
      ]
     },
     "metadata": {},
     "output_type": "display_data"
    },
    {
     "name": "stdout",
     "output_type": "stream",
     "text": [
      "\n",
      "Multiclass ROC 0.979745111111 Accuracy 0.7996 loss -0.862001\n",
      "Multiclass ROC 0.979734511111 Accuracy 0.8004 loss -0.867371\n",
      "Multiclass ROC 0.974144622222 Accuracy 0.7722 loss -0.877846\n",
      "Multiclass ROC 0.981203044444 Accuracy 0.8248 loss -0.878676\n",
      "Multiclass ROC 0.9867626 Accuracy 0.8272 loss -0.880614\n",
      "Multiclass ROC 0.982432822222 Accuracy 0.8004 loss -0.88042\n",
      "Multiclass ROC 0.986486977778 Accuracy 0.807 loss -0.880099\n",
      "Multiclass ROC 0.981487666667 Accuracy 0.785 loss -0.879796\n",
      "Multiclass ROC 0.986030511111 Accuracy 0.8184 loss -0.880125\n",
      "Multiclass ROC 0.984273355556 Accuracy 0.824 loss -0.880285\n",
      "Multiclass ROC 0.981158222222 Accuracy 0.8038 loss -0.870774\n",
      "Multiclass ROC 0.985353177778 Accuracy 0.8252 loss -0.880514\n",
      "Multiclass ROC 0.9828526 Accuracy 0.8266 loss -0.880047\n",
      "Multiclass ROC 0.985411422222 Accuracy 0.8284 loss -0.880132\n",
      "Multiclass ROC 0.987252311111 Accuracy 0.8258 loss -0.875428\n",
      "Multiclass ROC 0.988005866667 Accuracy 0.8146 loss -0.880108\n",
      "Multiclass ROC 0.987560866667 Accuracy 0.8262 loss -0.880457\n",
      "Multiclass ROC 0.977347022222 Accuracy 0.7744 loss -0.876495\n",
      "Multiclass ROC 0.9835676 Accuracy 0.8082 loss -0.880104\n",
      "Multiclass ROC 0.987406377778 Accuracy 0.834 loss -0.880409\n"
     ]
    },
    {
     "data": {
      "application/vnd.jupyter.widget-view+json": {
       "model_id": "1961d1f7e6244720b2843e6dab660f50",
       "version_major": 2,
       "version_minor": 0
      },
      "text/plain": [
       "A Jupyter Widget"
      ]
     },
     "metadata": {},
     "output_type": "display_data"
    },
    {
     "name": "stdout",
     "output_type": "stream",
     "text": [
      "Multiclass ROC 0.976967288889 Accuracy 0.789 loss 1.46393\n",
      "Multiclass ROC 0.978860555556 Accuracy 0.8072 loss 1.4614\n",
      "Multiclass ROC 0.981960822222 Accuracy 0.8278 loss 1.46127\n",
      "Multiclass ROC 0.980082111111 Accuracy 0.7942 loss 1.4656\n",
      "Multiclass ROC 0.983563333333 Accuracy 0.8188 loss 1.46152\n",
      "Multiclass ROC 0.984254622222 Accuracy 0.8258 loss 1.46137\n",
      "Multiclass ROC 0.985870644444 Accuracy 0.8364 loss 1.46129\n",
      "Multiclass ROC 0.984472288889 Accuracy 0.801 loss 1.46152\n",
      "Multiclass ROC 0.983269088889 Accuracy 0.837 loss 1.46198\n",
      "Multiclass ROC 0.987019644444 Accuracy 0.8382 loss 1.46121\n",
      "Multiclass ROC 0.983137133333 Accuracy 0.8222 loss 1.47701\n",
      "Multiclass ROC 0.982913933333 Accuracy 0.8132 loss 1.48753\n",
      "Multiclass ROC 0.982652644444 Accuracy 0.8058 loss 1.46248\n",
      "Multiclass ROC 0.984958755556 Accuracy 0.797 loss 1.46182\n",
      "Multiclass ROC 0.983808177778 Accuracy 0.7898 loss 1.46177\n",
      "Multiclass ROC 0.985059666667 Accuracy 0.8178 loss 1.46157\n",
      "Multiclass ROC 0.979646555556 Accuracy 0.7806 loss 1.46141\n",
      "Multiclass ROC 0.979871777778 Accuracy 0.7664 loss 1.46457\n",
      "Multiclass ROC 0.985232777778 Accuracy 0.8298 loss 1.46154\n",
      "Multiclass ROC 0.985788155556 Accuracy 0.8134 loss 1.46177\n"
     ]
    },
    {
     "data": {
      "application/vnd.jupyter.widget-view+json": {
       "model_id": "7bb2e60737c5418cbdea2aa28d4668cb",
       "version_major": 2,
       "version_minor": 0
      },
      "text/plain": [
       "A Jupyter Widget"
      ]
     },
     "metadata": {},
     "output_type": "display_data"
    },
    {
     "name": "stdout",
     "output_type": "stream",
     "text": [
      "\n",
      "Multiclass ROC 0.982493511111 Accuracy 0.815 loss -0.870839\n",
      "Multiclass ROC 0.984674844444 Accuracy 0.8336 loss -0.855447\n",
      "Multiclass ROC 0.984540177778 Accuracy 0.8294 loss -0.880068\n",
      "Multiclass ROC 0.985138311111 Accuracy 0.8262 loss -0.871725\n",
      "Multiclass ROC 0.984711222222 Accuracy 0.8274 loss -0.879837\n",
      "Multiclass ROC 0.984311444444 Accuracy 0.8198 loss -0.876269\n",
      "Multiclass ROC 0.985625777778 Accuracy 0.8316 loss -0.873332\n",
      "Multiclass ROC 0.981889844444 Accuracy 0.7846 loss -0.874118\n",
      "Multiclass ROC 0.989736955556 Accuracy 0.8606 loss -0.872084\n",
      "Multiclass ROC 0.986268244444 Accuracy 0.8298 loss -0.876068\n",
      "Multiclass ROC 0.977769288889 Accuracy 0.782 loss -0.880417\n",
      "Multiclass ROC 0.979934222222 Accuracy 0.8012 loss -0.879496\n",
      "Multiclass ROC 0.988511555556 Accuracy 0.8426 loss -0.872436\n",
      "Multiclass ROC 0.985557488889 Accuracy 0.8308 loss -0.880545\n",
      "Multiclass ROC 0.981477333333 Accuracy 0.7952 loss -0.873278\n",
      "Multiclass ROC 0.979932933333 Accuracy 0.814 loss -0.876746\n",
      "Multiclass ROC 0.978820266667 Accuracy 0.7702 loss -0.879813\n",
      "Multiclass ROC 0.984360577778 Accuracy 0.824 loss -0.880319\n",
      "Multiclass ROC 0.983364911111 Accuracy 0.8094 loss -0.868499\n",
      "Multiclass ROC 0.978675244444 Accuracy 0.7972 loss -0.873259\n"
     ]
    },
    {
     "data": {
      "application/vnd.jupyter.widget-view+json": {
       "model_id": "6afe0271f8c444d0ad437cd687c3441b",
       "version_major": 2,
       "version_minor": 0
      },
      "text/plain": [
       "A Jupyter Widget"
      ]
     },
     "metadata": {},
     "output_type": "display_data"
    },
    {
     "name": "stdout",
     "output_type": "stream",
     "text": [
      "Multiclass ROC 0.982280866667 Accuracy 0.7812 loss 1.47953\n",
      "Multiclass ROC 0.980307444444 Accuracy 0.8036 loss 1.48967\n",
      "Multiclass ROC 0.982774111111 Accuracy 0.8068 loss 1.49249\n",
      "Multiclass ROC 0.985334488889 Accuracy 0.8368 loss 1.46133\n",
      "Multiclass ROC 0.985352244444 Accuracy 0.8256 loss 1.46774\n",
      "Multiclass ROC 0.986725066667 Accuracy 0.822 loss 1.47734\n",
      "Multiclass ROC 0.982602444444 Accuracy 0.8074 loss 1.46453\n",
      "Multiclass ROC 0.976276333333 Accuracy 0.7414 loss 1.49238\n",
      "Multiclass ROC 0.981503488889 Accuracy 0.8024 loss 1.47711\n",
      "Multiclass ROC 0.978927377778 Accuracy 0.7638 loss 1.47699\n",
      "Multiclass ROC 0.986833044444 Accuracy 0.828 loss 1.49427\n",
      "Multiclass ROC 0.986622888889 Accuracy 0.8258 loss 1.46188\n",
      "Multiclass ROC 0.978593155556 Accuracy 0.7748 loss 1.50793\n",
      "Multiclass ROC 0.978178755556 Accuracy 0.7594 loss 1.49189\n",
      "Multiclass ROC 0.9859156 Accuracy 0.8396 loss 1.46118\n",
      "Multiclass ROC 0.981721511111 Accuracy 0.796 loss 1.47763\n",
      "Multiclass ROC 0.986253533333 Accuracy 0.83 loss 1.46135\n",
      "Multiclass ROC 0.978717577778 Accuracy 0.7888 loss 1.51001\n",
      "Multiclass ROC 0.983628288889 Accuracy 0.829 loss 1.46161\n",
      "Multiclass ROC 0.976405666667 Accuracy 0.7564 loss 1.46244\n",
      "[5, 5, 5, 5, 5, 5, 5, 5, 5000, 5000]\n"
     ]
    },
    {
     "data": {
      "application/vnd.jupyter.widget-view+json": {
       "model_id": "d77682528cbc4c5b96909bdd3c74e1e1",
       "version_major": 2,
       "version_minor": 0
      },
      "text/plain": [
       "A Jupyter Widget"
      ]
     },
     "metadata": {},
     "output_type": "display_data"
    },
    {
     "name": "stdout",
     "output_type": "stream",
     "text": [
      "\n",
      "Multiclass ROC 0.958756755556 Accuracy 0.716 loss -0.873982\n",
      "Multiclass ROC 0.956706977778 Accuracy 0.681 loss -0.878749\n",
      "Multiclass ROC 0.958711044444 Accuracy 0.7446 loss -0.880627\n",
      "Multiclass ROC 0.956888155556 Accuracy 0.669 loss -0.880085\n",
      "Multiclass ROC 0.954079466667 Accuracy 0.6828 loss -0.880567\n",
      "Multiclass ROC 0.955203888889 Accuracy 0.6796 loss -0.875915\n",
      "Multiclass ROC 0.947443177778 Accuracy 0.6546 loss -0.874731\n",
      "Multiclass ROC 0.953412355556 Accuracy 0.6738 loss -0.879686\n",
      "Multiclass ROC 0.946134933333 Accuracy 0.6644 loss -0.880402\n",
      "Multiclass ROC 0.958520377778 Accuracy 0.677 loss -0.878044\n",
      "Multiclass ROC 0.946487888889 Accuracy 0.6788 loss -0.875412\n",
      "Multiclass ROC 0.961328733333 Accuracy 0.7154 loss -0.880675\n",
      "Multiclass ROC 0.957231444444 Accuracy 0.6936 loss -0.880509\n",
      "Multiclass ROC 0.966139977778 Accuracy 0.7446 loss -0.880176\n",
      "Multiclass ROC 0.950421844444 Accuracy 0.7068 loss -0.875131\n",
      "Multiclass ROC 0.947524733333 Accuracy 0.6698 loss -0.874339\n",
      "Multiclass ROC 0.9657292 Accuracy 0.7148 loss -0.88005\n",
      "Multiclass ROC 0.9594376 Accuracy 0.6944 loss -0.880489\n",
      "Multiclass ROC 0.959673533333 Accuracy 0.7092 loss -0.880414\n",
      "Multiclass ROC 0.953642311111 Accuracy 0.685 loss -0.879889\n"
     ]
    },
    {
     "data": {
      "application/vnd.jupyter.widget-view+json": {
       "model_id": "a0230f9365324b6b961893249f7e82bd",
       "version_major": 2,
       "version_minor": 0
      },
      "text/plain": [
       "A Jupyter Widget"
      ]
     },
     "metadata": {},
     "output_type": "display_data"
    },
    {
     "name": "stdout",
     "output_type": "stream",
     "text": [
      "Multiclass ROC 0.953409266667 Accuracy 0.6352 loss 1.47741\n",
      "Multiclass ROC 0.959967155556 Accuracy 0.669 loss 1.47506\n",
      "Multiclass ROC 0.963799733333 Accuracy 0.721 loss 1.46143\n",
      "Multiclass ROC 0.967009955556 Accuracy 0.7204 loss 1.47303\n",
      "Multiclass ROC 0.959941622222 Accuracy 0.674 loss 1.46837\n",
      "Multiclass ROC 0.960224466667 Accuracy 0.6374 loss 1.46416\n",
      "Multiclass ROC 0.963794533333 Accuracy 0.7224 loss 1.46137\n",
      "Multiclass ROC 0.953803933333 Accuracy 0.6538 loss 1.46205\n",
      "Multiclass ROC 0.952781444444 Accuracy 0.6206 loss 1.46529\n",
      "Multiclass ROC 0.964691 Accuracy 0.683 loss 1.46138\n",
      "Multiclass ROC 0.950679333333 Accuracy 0.6814 loss 1.46222\n",
      "Multiclass ROC 0.957514822222 Accuracy 0.6744 loss 1.46139\n",
      "Multiclass ROC 0.9514466 Accuracy 0.6636 loss 1.46159\n",
      "Multiclass ROC 0.960196644444 Accuracy 0.6668 loss 1.46139\n",
      "Multiclass ROC 0.945262977778 Accuracy 0.6834 loss 1.49039\n",
      "Multiclass ROC 0.950443777778 Accuracy 0.6396 loss 1.47673\n",
      "Multiclass ROC 0.962988133333 Accuracy 0.6986 loss 1.46157\n",
      "Multiclass ROC 0.949456044444 Accuracy 0.6774 loss 1.46132\n",
      "Multiclass ROC 0.954442155556 Accuracy 0.672 loss 1.46147\n",
      "Multiclass ROC 0.952500533333 Accuracy 0.6498 loss 1.46174\n"
     ]
    },
    {
     "data": {
      "application/vnd.jupyter.widget-view+json": {
       "model_id": "45384f685c1e4d72bff36adb9d218eb9",
       "version_major": 2,
       "version_minor": 0
      },
      "text/plain": [
       "A Jupyter Widget"
      ]
     },
     "metadata": {},
     "output_type": "display_data"
    },
    {
     "name": "stdout",
     "output_type": "stream",
     "text": [
      "Multiclass ROC 0.972296688889 Accuracy 0.7292 loss -0.879968\n",
      "\n",
      "Multiclass ROC 0.9780258 Accuracy 0.7714 loss -0.859442\n",
      "Multiclass ROC 0.980851377778 Accuracy 0.7708 loss -0.880178\n",
      "Multiclass ROC 0.971140844444 Accuracy 0.7392 loss -0.879889\n",
      "Multiclass ROC 0.978793822222 Accuracy 0.7824 loss -0.878416\n",
      "Multiclass ROC 0.980461844444 Accuracy 0.7712 loss -0.880102\n",
      "Multiclass ROC 0.982126133333 Accuracy 0.802 loss -0.87347\n",
      "Multiclass ROC 0.974914666667 Accuracy 0.7332 loss -0.873386\n",
      "Multiclass ROC 0.9769708 Accuracy 0.7444 loss -0.879849\n",
      "Multiclass ROC 0.971494888889 Accuracy 0.7788 loss -0.880109\n",
      "Multiclass ROC 0.972058711111 Accuracy 0.7506 loss -0.880413\n",
      "Multiclass ROC 0.974137044444 Accuracy 0.7424 loss -0.878157\n",
      "Multiclass ROC 0.978800422222 Accuracy 0.7736 loss -0.88067\n",
      "Multiclass ROC 0.983143888889 Accuracy 0.792 loss -0.880339\n",
      "Multiclass ROC 0.978502488889 Accuracy 0.7688 loss -0.880533\n",
      "Multiclass ROC 0.980168244444 Accuracy 0.8104 loss -0.880571\n",
      "Multiclass ROC 0.976040911111 Accuracy 0.8006 loss -0.88074\n",
      "Multiclass ROC 0.9746618 Accuracy 0.77 loss -0.878875\n",
      "Multiclass ROC 0.982656977778 Accuracy 0.7918 loss -0.88053\n",
      "Multiclass ROC 0.974513511111 Accuracy 0.7484 loss -0.873752\n"
     ]
    },
    {
     "data": {
      "application/vnd.jupyter.widget-view+json": {
       "model_id": "f603459d98b04b098b7444753f03ad9e",
       "version_major": 2,
       "version_minor": 0
      },
      "text/plain": [
       "A Jupyter Widget"
      ]
     },
     "metadata": {},
     "output_type": "display_data"
    },
    {
     "name": "stdout",
     "output_type": "stream",
     "text": [
      "Multiclass ROC 0.969547422222 Accuracy 0.7086 loss 1.4695\n",
      "Multiclass ROC 0.973395866667 Accuracy 0.7144 loss 1.47594\n",
      "Multiclass ROC 0.975634422222 Accuracy 0.7642 loss 1.46159\n",
      "Multiclass ROC 0.968824688889 Accuracy 0.7288 loss 1.47737\n",
      "Multiclass ROC 0.972865577778 Accuracy 0.752 loss 1.46265\n",
      "Multiclass ROC 0.972409688889 Accuracy 0.76 loss 1.46701\n",
      "Multiclass ROC 0.969264288889 Accuracy 0.7538 loss 1.46158\n",
      "Multiclass ROC 0.971052133333 Accuracy 0.7368 loss 1.46133\n",
      "Multiclass ROC 0.969899577778 Accuracy 0.7192 loss 1.46189\n",
      "Multiclass ROC 0.976159844444 Accuracy 0.7452 loss 1.46517\n",
      "Multiclass ROC 0.974553822222 Accuracy 0.7916 loss 1.48337\n",
      "Multiclass ROC 0.966181244444 Accuracy 0.7548 loss 1.4647\n",
      "Multiclass ROC 0.9672896 Accuracy 0.729 loss 1.46171\n",
      "Multiclass ROC 0.974289533333 Accuracy 0.7622 loss 1.46124\n",
      "Multiclass ROC 0.971259666667 Accuracy 0.7418 loss 1.46128\n",
      "Multiclass ROC 0.960604244444 Accuracy 0.7144 loss 1.47323\n",
      "Multiclass ROC 0.975741088889 Accuracy 0.755 loss 1.48319\n",
      "Multiclass ROC 0.963088688889 Accuracy 0.7248 loss 1.46153\n",
      "\n",
      "Multiclass ROC 0.972097822222 Accuracy 0.7612 loss 1.48708\n",
      "Multiclass ROC 0.961335555556 Accuracy 0.7144 loss 1.46136\n"
     ]
    },
    {
     "data": {
      "application/vnd.jupyter.widget-view+json": {
       "model_id": "6b6ba10c1d4e48b4846e5ba94e5f86f3",
       "version_major": 2,
       "version_minor": 0
      },
      "text/plain": [
       "A Jupyter Widget"
      ]
     },
     "metadata": {},
     "output_type": "display_data"
    },
    {
     "name": "stdout",
     "output_type": "stream",
     "text": [
      "Multiclass ROC 0.951493888889 Accuracy 0.6674 loss -0.839096\n",
      "\n",
      "Multiclass ROC 0.972941066667 Accuracy 0.713 loss -0.871346\n",
      "Multiclass ROC 0.9728696 Accuracy 0.7352 loss -0.876714\n",
      "Multiclass ROC 0.977170933333 Accuracy 0.7578 loss -0.880408\n",
      "Multiclass ROC 0.974278311111 Accuracy 0.7464 loss -0.875456\n",
      "Multiclass ROC 0.971908444444 Accuracy 0.7258 loss -0.87384\n",
      "Multiclass ROC 0.968385022222 Accuracy 0.7142 loss -0.880217\n",
      "Multiclass ROC 0.969733022222 Accuracy 0.7298 loss -0.875302\n",
      "Multiclass ROC 0.966275355556 Accuracy 0.7204 loss -0.880385\n",
      "Multiclass ROC 0.974202111111 Accuracy 0.7418 loss -0.880262\n",
      "Multiclass ROC 0.973529111111 Accuracy 0.7336 loss -0.87987\n",
      "Multiclass ROC 0.976699111111 Accuracy 0.7584 loss -0.880648\n",
      "Multiclass ROC 0.977645666667 Accuracy 0.7704 loss -0.880576\n",
      "Multiclass ROC 0.968581288889 Accuracy 0.718 loss -0.876189\n",
      "Multiclass ROC 0.9770092 Accuracy 0.774 loss -0.88043\n",
      "Multiclass ROC 0.972573088889 Accuracy 0.7282 loss -0.880543\n",
      "Multiclass ROC 0.9761856 Accuracy 0.7648 loss -0.874822\n",
      "Multiclass ROC 0.967618422222 Accuracy 0.709 loss -0.880097\n",
      "Multiclass ROC 0.974081177778 Accuracy 0.7602 loss -0.880286\n",
      "Multiclass ROC 0.964475133333 Accuracy 0.7038 loss -0.879965\n"
     ]
    },
    {
     "data": {
      "application/vnd.jupyter.widget-view+json": {
       "model_id": "9add8fd2977147bfacfe2864027f1845",
       "version_major": 2,
       "version_minor": 0
      },
      "text/plain": [
       "A Jupyter Widget"
      ]
     },
     "metadata": {},
     "output_type": "display_data"
    },
    {
     "name": "stdout",
     "output_type": "stream",
     "text": [
      "Multiclass ROC 0.969454711111 Accuracy 0.7442 loss 1.48326\n",
      "Multiclass ROC 0.972976311111 Accuracy 0.7418 loss 1.4754\n",
      "Multiclass ROC 0.968924866667 Accuracy 0.7414 loss 1.46309\n",
      "Multiclass ROC 0.962751844444 Accuracy 0.692 loss 1.4766\n",
      "Multiclass ROC 0.953195688889 Accuracy 0.684 loss 1.47824\n",
      "Multiclass ROC 0.96896 Accuracy 0.7344 loss 1.4766\n",
      "Multiclass ROC 0.962697288889 Accuracy 0.6934 loss 1.46138\n",
      "Multiclass ROC 0.966853755556 Accuracy 0.7252 loss 1.46129\n",
      "Multiclass ROC 0.963526288889 Accuracy 0.7066 loss 1.46169\n",
      "Multiclass ROC 0.965723777778 Accuracy 0.7364 loss 1.46206\n",
      "Multiclass ROC 0.967614711111 Accuracy 0.7164 loss 1.46229\n",
      "Multiclass ROC 0.955034888889 Accuracy 0.7332 loss 1.46143\n",
      "Multiclass ROC 0.949753955556 Accuracy 0.6954 loss 1.46149\n",
      "Multiclass ROC 0.968861644444 Accuracy 0.747 loss 1.46121\n",
      "Multiclass ROC 0.965864866667 Accuracy 0.7414 loss 1.46132\n",
      "Multiclass ROC 0.960842822222 Accuracy 0.7088 loss 1.46126\n",
      "Multiclass ROC 0.973369711111 Accuracy 0.7484 loss 1.46188\n",
      "Multiclass ROC 0.950341688889 Accuracy 0.659 loss 1.46253\n",
      "Multiclass ROC 0.953654333333 Accuracy 0.6964 loss 1.46448\n",
      "Multiclass ROC 0.965251822222 Accuracy 0.731 loss 1.46128\n",
      "[2, 2, 2, 2, 2, 2, 2, 2, 5000, 5000]\n"
     ]
    },
    {
     "data": {
      "application/vnd.jupyter.widget-view+json": {
       "model_id": "6d08380f8eb04206b99614fbdb2642aa",
       "version_major": 2,
       "version_minor": 0
      },
      "text/plain": [
       "A Jupyter Widget"
      ]
     },
     "metadata": {},
     "output_type": "display_data"
    },
    {
     "name": "stdout",
     "output_type": "stream",
     "text": [
      "\n",
      "Multiclass ROC 0.929322244444 Accuracy 0.5284 loss -0.876569\n",
      "Multiclass ROC 0.938559266667 Accuracy 0.549 loss -0.878836\n",
      "Multiclass ROC 0.940457488889 Accuracy 0.559 loss -0.876907\n",
      "Multiclass ROC 0.943483866667 Accuracy 0.5484 loss -0.879399\n",
      "Multiclass ROC 0.930678044444 Accuracy 0.5882 loss -0.879697\n",
      "Multiclass ROC 0.935514644444 Accuracy 0.5498 loss -0.879518\n",
      "Multiclass ROC 0.920558955556 Accuracy 0.5168 loss -0.880685\n",
      "Multiclass ROC 0.928889377778 Accuracy 0.5624 loss -0.880278\n",
      "Multiclass ROC 0.930280133333 Accuracy 0.524 loss -0.880607\n",
      "Multiclass ROC 0.931234666667 Accuracy 0.5286 loss -0.879872\n",
      "Multiclass ROC 0.933914 Accuracy 0.5198 loss -0.880659\n",
      "Multiclass ROC 0.937765622222 Accuracy 0.5484 loss -0.880045\n",
      "Multiclass ROC 0.930138244444 Accuracy 0.5606 loss -0.880224\n",
      "Multiclass ROC 0.939922777778 Accuracy 0.6068 loss -0.88059\n",
      "Multiclass ROC 0.929425 Accuracy 0.5806 loss -0.880573\n",
      "Multiclass ROC 0.9250292 Accuracy 0.4938 loss -0.876668\n",
      "Multiclass ROC 0.922092533333 Accuracy 0.5002 loss -0.879398\n",
      "Multiclass ROC 0.924112355556 Accuracy 0.4956 loss -0.880073\n",
      "Multiclass ROC 0.943271444444 Accuracy 0.5674 loss -0.875851\n",
      "Multiclass ROC 0.918442533333 Accuracy 0.5396 loss -0.88062\n"
     ]
    },
    {
     "data": {
      "application/vnd.jupyter.widget-view+json": {
       "model_id": "b30d8e74876c45c7946fed3ec5c7a5dc",
       "version_major": 2,
       "version_minor": 0
      },
      "text/plain": [
       "A Jupyter Widget"
      ]
     },
     "metadata": {},
     "output_type": "display_data"
    },
    {
     "name": "stdout",
     "output_type": "stream",
     "text": [
      "Multiclass ROC 0.941346177778 Accuracy 0.5028 loss 1.46482\n",
      "Multiclass ROC 0.925323355556 Accuracy 0.4764 loss 1.47667\n",
      "Multiclass ROC 0.935577911111 Accuracy 0.5362 loss 1.46122\n",
      "Multiclass ROC 0.9305374 Accuracy 0.508 loss 1.46188\n",
      "Multiclass ROC 0.9089532 Accuracy 0.4566 loss 1.46154\n",
      "Multiclass ROC 0.9309 Accuracy 0.5682 loss 1.4749\n",
      "Multiclass ROC 0.920365555556 Accuracy 0.5022 loss 1.46138\n",
      "Multiclass ROC 0.93432 Accuracy 0.5302 loss 1.46482\n",
      "Multiclass ROC 0.911698422222 Accuracy 0.5134 loss 1.47662\n",
      "Multiclass ROC 0.891316133333 Accuracy 0.476 loss 1.47807\n",
      "Multiclass ROC 0.917269822222 Accuracy 0.5212 loss 1.46355\n",
      "Multiclass ROC 0.918328066667 Accuracy 0.5054 loss 1.46144\n",
      "Multiclass ROC 0.909241488889 Accuracy 0.48 loss 1.46146\n",
      "\n",
      "Multiclass ROC 0.931692488889 Accuracy 0.5654 loss 1.46131\n",
      "Multiclass ROC 0.927107555556 Accuracy 0.536 loss 1.46141\n",
      "Multiclass ROC 0.905859688889 Accuracy 0.47 loss 1.46136\n",
      "Multiclass ROC 0.903965111111 Accuracy 0.4684 loss 1.46314\n",
      "Multiclass ROC 0.878962777778 Accuracy 0.5082 loss 1.46132\n",
      "Multiclass ROC 0.908172488889 Accuracy 0.5218 loss 1.46149\n",
      "Multiclass ROC 0.893452444444 Accuracy 0.4862 loss 1.46262\n"
     ]
    },
    {
     "data": {
      "application/vnd.jupyter.widget-view+json": {
       "model_id": "8925b6c8ac404d4588178818f766bf41",
       "version_major": 2,
       "version_minor": 0
      },
      "text/plain": [
       "A Jupyter Widget"
      ]
     },
     "metadata": {},
     "output_type": "display_data"
    },
    {
     "name": "stdout",
     "output_type": "stream",
     "text": [
      "Multiclass ROC 0.939277022222 Accuracy 0.5716 loss -0.86658\n",
      "\n",
      "Multiclass ROC 0.933960911111 Accuracy 0.5428 loss -0.880548\n",
      "Multiclass ROC 0.928855533333 Accuracy 0.495 loss -0.877803\n",
      "Multiclass ROC 0.935429822222 Accuracy 0.5778 loss -0.880616\n",
      "Multiclass ROC 0.932684133333 Accuracy 0.5932 loss -0.875124\n",
      "Multiclass ROC 0.918801288889 Accuracy 0.579 loss -0.879493\n",
      "Multiclass ROC 0.934601488889 Accuracy 0.595 loss -0.880607\n",
      "Multiclass ROC 0.945698955556 Accuracy 0.614 loss -0.880356\n",
      "Multiclass ROC 0.928485333333 Accuracy 0.5878 loss -0.879812\n",
      "Multiclass ROC 0.917281888889 Accuracy 0.5502 loss -0.88017\n",
      "Multiclass ROC 0.948747288889 Accuracy 0.6338 loss -0.880638\n",
      "Multiclass ROC 0.921834133333 Accuracy 0.5436 loss -0.880478\n",
      "Multiclass ROC 0.935726533333 Accuracy 0.6376 loss -0.877761\n",
      "Multiclass ROC 0.9383402 Accuracy 0.6102 loss -0.880567\n",
      "Multiclass ROC 0.924099888889 Accuracy 0.6034 loss -0.880664\n",
      "Multiclass ROC 0.923958488889 Accuracy 0.589 loss -0.880581\n",
      "Multiclass ROC 0.9343018 Accuracy 0.6236 loss -0.880501\n",
      "Multiclass ROC 0.911542844444 Accuracy 0.5164 loss -0.880168\n",
      "Multiclass ROC 0.923733822222 Accuracy 0.5638 loss -0.879018\n",
      "Multiclass ROC 0.922023711111 Accuracy 0.5752 loss -0.877206\n"
     ]
    },
    {
     "data": {
      "application/vnd.jupyter.widget-view+json": {
       "model_id": "97dc1c68a029481082bde62dfa3f3a6a",
       "version_major": 2,
       "version_minor": 0
      },
      "text/plain": [
       "A Jupyter Widget"
      ]
     },
     "metadata": {},
     "output_type": "display_data"
    },
    {
     "name": "stdout",
     "output_type": "stream",
     "text": [
      "Multiclass ROC 0.941056177778 Accuracy 0.538 loss 1.46518\n",
      "Multiclass ROC 0.939384088889 Accuracy 0.5694 loss 1.46345\n",
      "Multiclass ROC 0.926920644444 Accuracy 0.532 loss 1.47702\n",
      "Multiclass ROC 0.9369224 Accuracy 0.5824 loss 1.46174\n",
      "Multiclass ROC 0.9229756 Accuracy 0.5524 loss 1.46204\n",
      "Multiclass ROC 0.9250232 Accuracy 0.5618 loss 1.46134\n",
      "Multiclass ROC 0.884599422222 Accuracy 0.508 loss 1.46208\n",
      "Multiclass ROC 0.895876066667 Accuracy 0.5182 loss 1.47591\n",
      "Multiclass ROC 0.923007111111 Accuracy 0.555 loss 1.4615\n",
      "\n",
      "Multiclass ROC 0.918832422222 Accuracy 0.561 loss 1.46123\n",
      "Multiclass ROC 0.931518155556 Accuracy 0.592 loss 1.46165\n",
      "Multiclass ROC 0.920400777778 Accuracy 0.5694 loss 1.46146\n",
      "Multiclass ROC 0.907279866667 Accuracy 0.5442 loss 1.4615\n",
      "Multiclass ROC 0.929534333333 Accuracy 0.5846 loss 1.46248\n",
      "Multiclass ROC 0.921549222222 Accuracy 0.5688 loss 1.47635\n",
      "Multiclass ROC 0.912772377778 Accuracy 0.5682 loss 1.46122\n",
      "Multiclass ROC 0.921815422222 Accuracy 0.5698 loss 1.46376\n",
      "Multiclass ROC 0.8762226 Accuracy 0.4618 loss 1.46854\n",
      "Multiclass ROC 0.896259444444 Accuracy 0.5504 loss 1.4614\n",
      "Multiclass ROC 0.910072733333 Accuracy 0.5436 loss 1.46129\n"
     ]
    },
    {
     "data": {
      "application/vnd.jupyter.widget-view+json": {
       "model_id": "588f1add0c674210bf3811e76b04c572",
       "version_major": 2,
       "version_minor": 0
      },
      "text/plain": [
       "A Jupyter Widget"
      ]
     },
     "metadata": {},
     "output_type": "display_data"
    },
    {
     "name": "stdout",
     "output_type": "stream",
     "text": [
      "\n",
      "Multiclass ROC 0.966443088889 Accuracy 0.6504 loss -0.87709\n",
      "Multiclass ROC 0.951495577778 Accuracy 0.588 loss -0.872862\n",
      "Multiclass ROC 0.9570348 Accuracy 0.5994 loss -0.876938\n",
      "Multiclass ROC 0.956971311111 Accuracy 0.6272 loss -0.880535\n",
      "Multiclass ROC 0.951037955556 Accuracy 0.611 loss -0.873646\n",
      "Multiclass ROC 0.963974355556 Accuracy 0.6792 loss -0.873917\n",
      "Multiclass ROC 0.951976266667 Accuracy 0.6262 loss -0.873033\n",
      "Multiclass ROC 0.944546755556 Accuracy 0.5936 loss -0.880511\n",
      "Multiclass ROC 0.932092288889 Accuracy 0.5742 loss -0.876038\n",
      "Multiclass ROC 0.943651488889 Accuracy 0.6088 loss -0.880341\n",
      "Multiclass ROC 0.9391918 Accuracy 0.588 loss -0.880305\n",
      "Multiclass ROC 0.950972177778 Accuracy 0.6496 loss -0.880623\n",
      "Multiclass ROC 0.9625746 Accuracy 0.709 loss -0.880679\n",
      "Multiclass ROC 0.952973866667 Accuracy 0.657 loss -0.87657\n",
      "Multiclass ROC 0.952276511111 Accuracy 0.6808 loss -0.874465\n",
      "Multiclass ROC 0.944355822222 Accuracy 0.6572 loss -0.872774\n",
      "Multiclass ROC 0.956456466667 Accuracy 0.6624 loss -0.880539\n",
      "Multiclass ROC 0.938181222222 Accuracy 0.5876 loss -0.880124\n",
      "Multiclass ROC 0.9395196 Accuracy 0.6192 loss -0.880394\n",
      "Multiclass ROC 0.951396844444 Accuracy 0.6276 loss -0.880555\n"
     ]
    },
    {
     "data": {
      "application/vnd.jupyter.widget-view+json": {
       "model_id": "ae7b293bd5f94331a2708c3ab21ca699",
       "version_major": 2,
       "version_minor": 0
      },
      "text/plain": [
       "A Jupyter Widget"
      ]
     },
     "metadata": {},
     "output_type": "display_data"
    },
    {
     "name": "stdout",
     "output_type": "stream",
     "text": [
      "Multiclass ROC 0.958334066667 Accuracy 0.5912 loss 1.47611\n",
      "Multiclass ROC 0.950481711111 Accuracy 0.585 loss 1.4615\n",
      "Multiclass ROC 0.947926133333 Accuracy 0.5684 loss 1.47668\n",
      "Multiclass ROC 0.943970933333 Accuracy 0.5568 loss 1.47189\n",
      "Multiclass ROC 0.940952511111 Accuracy 0.559 loss 1.46233\n",
      "Multiclass ROC 0.958490955556 Accuracy 0.638 loss 1.46145\n",
      "Multiclass ROC 0.943056488889 Accuracy 0.6106 loss 1.47472\n",
      "Multiclass ROC 0.939705666667 Accuracy 0.6146 loss 1.46251\n",
      "Multiclass ROC 0.928810488889 Accuracy 0.5216 loss 1.47715\n",
      "Multiclass ROC 0.926993622222 Accuracy 0.5346 loss 1.46294\n",
      "Multiclass ROC 0.940575044444 Accuracy 0.5984 loss 1.46374\n",
      "Multiclass ROC 0.923265666667 Accuracy 0.5424 loss 1.46131\n",
      "Multiclass ROC 0.931226244444 Accuracy 0.5334 loss 1.46141\n",
      "Multiclass ROC 0.936158711111 Accuracy 0.6102 loss 1.46138\n",
      "Multiclass ROC 0.929859933333 Accuracy 0.545 loss 1.46168\n",
      "Multiclass ROC 0.924226044444 Accuracy 0.5466 loss 1.46125\n",
      "Multiclass ROC 0.934740111111 Accuracy 0.5988 loss 1.46131\n",
      "Multiclass ROC 0.932592088889 Accuracy 0.5728 loss 1.46138\n",
      "Multiclass ROC 0.942336444444 Accuracy 0.6044 loss 1.46131\n",
      "Multiclass ROC 0.929386222222 Accuracy 0.5368 loss 1.46188\n",
      "[1, 1, 1, 1, 1, 1, 1, 1, 5000, 5000]\n"
     ]
    },
    {
     "data": {
      "application/vnd.jupyter.widget-view+json": {
       "model_id": "4e139a00ad6a4119ba87c09fc9ef05e4",
       "version_major": 2,
       "version_minor": 0
      },
      "text/plain": [
       "A Jupyter Widget"
      ]
     },
     "metadata": {},
     "output_type": "display_data"
    },
    {
     "name": "stdout",
     "output_type": "stream",
     "text": [
      "Multiclass ROC 0.847998555556 Accuracy 0.4018 loss -0.878682\n",
      "2000/|/100%|| 2000/2000 [03:23<00:00, 12.26it/s]\n",
      "Multiclass ROC 0.832625444444 Accuracy 0.4 loss -0.880457\n",
      "Multiclass ROC 0.818884288889 Accuracy 0.369 loss -0.873684\n",
      "Multiclass ROC 0.854815111111 Accuracy 0.4412 loss -0.874806\n",
      "Multiclass ROC 0.849103111111 Accuracy 0.4112 loss -0.880695\n",
      "Multiclass ROC 0.843406377778 Accuracy 0.4102 loss -0.880488\n",
      "Multiclass ROC 0.810497888889 Accuracy 0.3514 loss -0.874028\n",
      "Multiclass ROC 0.825733777778 Accuracy 0.339 loss -0.88023\n",
      "Multiclass ROC 0.850263355556 Accuracy 0.4324 loss -0.880213\n",
      "Multiclass ROC 0.853468155556 Accuracy 0.4046 loss -0.880334\n",
      "Multiclass ROC 0.851424666667 Accuracy 0.418 loss -0.880647\n",
      "Multiclass ROC 0.827573155556 Accuracy 0.3696 loss -0.880352\n",
      "Multiclass ROC 0.852780222222 Accuracy 0.411 loss -0.88068\n",
      "Multiclass ROC 0.842013244444 Accuracy 0.41 loss -0.880682\n",
      "Multiclass ROC 0.820936777778 Accuracy 0.3716 loss -0.875127\n",
      "Multiclass ROC 0.831180044444 Accuracy 0.3756 loss -0.878897\n",
      "Multiclass ROC 0.841246933333 Accuracy 0.4008 loss -0.878998\n",
      "Multiclass ROC 0.835737022222 Accuracy 0.3994 loss -0.88063\n",
      "Multiclass ROC 0.853772355556 Accuracy 0.43 loss -0.874289\n",
      "Multiclass ROC 0.856978155556 Accuracy 0.4202 loss -0.880685\n"
     ]
    },
    {
     "data": {
      "application/vnd.jupyter.widget-view+json": {
       "model_id": "76fd46ff93c24be0a8b49f6f5e706c47",
       "version_major": 2,
       "version_minor": 0
      },
      "text/plain": [
       "A Jupyter Widget"
      ]
     },
     "metadata": {},
     "output_type": "display_data"
    },
    {
     "name": "stdout",
     "output_type": "stream",
     "text": [
      "Multiclass ROC 0.862404533333 Accuracy 0.3868 loss 1.47687\n",
      "Multiclass ROC 0.873191777778 Accuracy 0.4424 loss 1.46124\n",
      "\n",
      "Multiclass ROC 0.867343644444 Accuracy 0.4072 loss 1.46137\n",
      "Multiclass ROC 0.857252666667 Accuracy 0.3984 loss 1.46129\n",
      "Multiclass ROC 0.848840222222 Accuracy 0.4102 loss 1.46126\n",
      "Multiclass ROC 0.831326733333 Accuracy 0.3496 loss 1.47717\n",
      "Multiclass ROC 0.840039377778 Accuracy 0.3782 loss 1.4614\n",
      "Multiclass ROC 0.827047688889 Accuracy 0.3552 loss 1.46484\n",
      "Multiclass ROC 0.829332488889 Accuracy 0.3816 loss 1.46127\n",
      "Multiclass ROC 0.793002688889 Accuracy 0.3548 loss 1.46237\n",
      "Multiclass ROC 0.846691111111 Accuracy 0.4286 loss 1.46269\n",
      "Multiclass ROC 0.848150755556 Accuracy 0.4142 loss 1.46128\n",
      "Multiclass ROC 0.814167488889 Accuracy 0.3434 loss 1.46183\n",
      "Multiclass ROC 0.820867488889 Accuracy 0.3512 loss 1.4613\n",
      "Multiclass ROC 0.835658555556 Accuracy 0.4258 loss 1.46148\n",
      "Multiclass ROC 0.814146622222 Accuracy 0.3808 loss 1.46132\n",
      "Multiclass ROC 0.8390908 Accuracy 0.408 loss 1.46168\n",
      "Multiclass ROC 0.831667 Accuracy 0.408 loss 1.46304\n",
      "Multiclass ROC 0.827458288889 Accuracy 0.4136 loss 1.46148\n",
      "Multiclass ROC 0.816187533333 Accuracy 0.3782 loss 1.474\n"
     ]
    },
    {
     "data": {
      "application/vnd.jupyter.widget-view+json": {
       "model_id": "947f2e0e47c94024a5120677e82b7ec2",
       "version_major": 2,
       "version_minor": 0
      },
      "text/plain": [
       "A Jupyter Widget"
      ]
     },
     "metadata": {},
     "output_type": "display_data"
    },
    {
     "name": "stdout",
     "output_type": "stream",
     "text": [
      "\n",
      "Multiclass ROC 0.928421911111 Accuracy 0.4508 loss -0.868129\n",
      "Multiclass ROC 0.933106888889 Accuracy 0.498 loss -0.880602\n",
      "Multiclass ROC 0.908638933333 Accuracy 0.42 loss -0.879852\n",
      "Multiclass ROC 0.906635511111 Accuracy 0.4056 loss -0.873725\n",
      "Multiclass ROC 0.907738533333 Accuracy 0.4356 loss -0.880308\n",
      "Multiclass ROC 0.907915577778 Accuracy 0.4528 loss -0.880706\n",
      "Multiclass ROC 0.906642888889 Accuracy 0.4638 loss -0.88045\n",
      "Multiclass ROC 0.877384066667 Accuracy 0.4042 loss -0.880501\n",
      "Multiclass ROC 0.898708844444 Accuracy 0.45 loss -0.877032\n",
      "Multiclass ROC 0.870225288889 Accuracy 0.4406 loss -0.879451\n",
      "Multiclass ROC 0.884213844444 Accuracy 0.4002 loss -0.880507\n",
      "Multiclass ROC 0.891547177778 Accuracy 0.427 loss -0.880523\n",
      "Multiclass ROC 0.904132688889 Accuracy 0.4706 loss -0.873688\n",
      "Multiclass ROC 0.878270466667 Accuracy 0.3972 loss -0.880659\n",
      "Multiclass ROC 0.846955755556 Accuracy 0.385 loss -0.880445\n",
      "Multiclass ROC 0.838850911111 Accuracy 0.3442 loss -0.879943\n",
      "Multiclass ROC 0.8688596 Accuracy 0.3978 loss -0.879532\n",
      "Multiclass ROC 0.869903222222 Accuracy 0.3598 loss -0.880176\n",
      "Multiclass ROC 0.862640355556 Accuracy 0.3876 loss -0.880612\n",
      "Multiclass ROC 0.8968718 Accuracy 0.4938 loss -0.88042\n"
     ]
    },
    {
     "data": {
      "application/vnd.jupyter.widget-view+json": {
       "model_id": "d2e129da059e40f5b2f90eae81928851",
       "version_major": 2,
       "version_minor": 0
      },
      "text/plain": [
       "A Jupyter Widget"
      ]
     },
     "metadata": {},
     "output_type": "display_data"
    },
    {
     "name": "stdout",
     "output_type": "stream",
     "text": [
      "Multiclass ROC 0.9105482 Accuracy 0.3168 loss 1.49412\n",
      "Multiclass ROC 0.897061777778 Accuracy 0.3602 loss 1.46197\n",
      "Multiclass ROC 0.893156 Accuracy 0.3604 loss 1.46154\n",
      "Multiclass ROC 0.876896466667 Accuracy 0.3878 loss 1.46141\n",
      "Multiclass ROC 0.880601177778 Accuracy 0.3918 loss 1.46198\n",
      "Multiclass ROC 0.896356844444 Accuracy 0.4314 loss 1.47574\n",
      "Multiclass ROC 0.882814444444 Accuracy 0.371 loss 1.46253\n",
      "Multiclass ROC 0.860838422222 Accuracy 0.3624 loss 1.46204\n",
      "Multiclass ROC 0.869640244444 Accuracy 0.3398 loss 1.47359\n",
      "Multiclass ROC 0.848045244444 Accuracy 0.3426 loss 1.46128\n",
      "Multiclass ROC 0.8578604 Accuracy 0.3598 loss 1.46137\n",
      "Multiclass ROC 0.885327577778 Accuracy 0.431 loss 1.46142\n",
      "Multiclass ROC 0.878125133333 Accuracy 0.4412 loss 1.46128\n",
      "Multiclass ROC 0.870766733333 Accuracy 0.4324 loss 1.46124\n",
      "Multiclass ROC 0.8537248 Accuracy 0.3698 loss 1.46127\n",
      "Multiclass ROC 0.868462377778 Accuracy 0.4006 loss 1.46622\n",
      "Multiclass ROC 0.878008711111 Accuracy 0.4074 loss 1.4615\n",
      "Multiclass ROC 0.871908511111 Accuracy 0.4012 loss 1.46127\n",
      "\n",
      "Multiclass ROC 0.872939866667 Accuracy 0.4158 loss 1.46145\n",
      "Multiclass ROC 0.878089088889 Accuracy 0.4178 loss 1.46981\n"
     ]
    },
    {
     "data": {
      "application/vnd.jupyter.widget-view+json": {
       "model_id": "3eda5a5920c9486a81a7e2b6a48aebba",
       "version_major": 2,
       "version_minor": 0
      },
      "text/plain": [
       "A Jupyter Widget"
      ]
     },
     "metadata": {},
     "output_type": "display_data"
    },
    {
     "name": "stdout",
     "output_type": "stream",
     "text": [
      "2000/|/100%|| 2000/2000 [00:17<00:00, 236.72it/s]\n",
      "Multiclass ROC 0.870517133333 Accuracy 0.36 loss -0.87212\n",
      "Multiclass ROC 0.863209266667 Accuracy 0.3668 loss -0.876197\n",
      "Multiclass ROC 0.894542466667 Accuracy 0.4428 loss -0.880608\n",
      "Multiclass ROC 0.864851777778 Accuracy 0.3938 loss -0.879355\n",
      "Multiclass ROC 0.853419755556 Accuracy 0.372 loss -0.879515\n",
      "Multiclass ROC 0.878951955556 Accuracy 0.4968 loss -0.879413\n",
      "Multiclass ROC 0.867899266667 Accuracy 0.4438 loss -0.879723\n",
      "Multiclass ROC 0.880190066667 Accuracy 0.444 loss -0.880415\n",
      "Multiclass ROC 0.860537733333 Accuracy 0.3968 loss -0.88055\n",
      "Multiclass ROC 0.855045044444 Accuracy 0.423 loss -0.878497\n",
      "Multiclass ROC 0.861839933333 Accuracy 0.4414 loss -0.880478\n",
      "Multiclass ROC 0.835408488889 Accuracy 0.371 loss -0.874146\n",
      "Multiclass ROC 0.860968688889 Accuracy 0.4266 loss -0.880442\n",
      "Multiclass ROC 0.856565044444 Accuracy 0.4526 loss -0.880705\n",
      "Multiclass ROC 0.876271911111 Accuracy 0.425 loss -0.880579\n",
      "Multiclass ROC 0.843287844444 Accuracy 0.4076 loss -0.87379\n",
      "Multiclass ROC 0.854267866667 Accuracy 0.408 loss -0.880271\n",
      "Multiclass ROC 0.869573977778 Accuracy 0.4874 loss -0.88069\n",
      "Multiclass ROC 0.879880155556 Accuracy 0.4506 loss -0.874565\n",
      "Multiclass ROC 0.894957733333 Accuracy 0.5094 loss -0.880697\n"
     ]
    },
    {
     "data": {
      "application/vnd.jupyter.widget-view+json": {
       "model_id": "024cf880a58a492faf443e7b841a6c77",
       "version_major": 2,
       "version_minor": 0
      },
      "text/plain": [
       "A Jupyter Widget"
      ]
     },
     "metadata": {},
     "output_type": "display_data"
    },
    {
     "name": "stdout",
     "output_type": "stream",
     "text": [
      "Multiclass ROC 0.809363044444 Accuracy 0.35 loss 1.6432\n",
      "Multiclass ROC 0.861661666667 Accuracy 0.3674 loss 1.47066\n",
      "Multiclass ROC 0.862942422222 Accuracy 0.4136 loss 1.46128\n",
      "Multiclass ROC 0.821442866667 Accuracy 0.3396 loss 1.47351\n",
      "Multiclass ROC 0.828797888889 Accuracy 0.3776 loss 1.46145\n",
      "Multiclass ROC 0.865747555556 Accuracy 0.446 loss 1.46135\n",
      "Multiclass ROC 0.880882711111 Accuracy 0.4646 loss 1.48875\n",
      "Multiclass ROC 0.847425888889 Accuracy 0.3626 loss 1.46285\n",
      "Multiclass ROC 0.807700822222 Accuracy 0.308 loss 1.46555\n",
      "Multiclass ROC 0.804786244444 Accuracy 0.4196 loss 1.4644\n",
      "Multiclass ROC 0.837618466667 Accuracy 0.4168 loss 1.46696\n",
      "\n",
      "Multiclass ROC 0.847247088889 Accuracy 0.3682 loss 1.46177\n",
      "Multiclass ROC 0.855894333333 Accuracy 0.4096 loss 1.46124\n",
      "Multiclass ROC 0.819552777778 Accuracy 0.4114 loss 1.4714\n",
      "Multiclass ROC 0.838508955556 Accuracy 0.4094 loss 1.46124\n",
      "Multiclass ROC 0.855506755556 Accuracy 0.4522 loss 1.4769\n",
      "Multiclass ROC 0.841302911111 Accuracy 0.451 loss 1.46691\n",
      "Multiclass ROC 0.857427355556 Accuracy 0.4346 loss 1.4614\n",
      "Multiclass ROC 0.839130244444 Accuracy 0.3832 loss 1.4613\n",
      "Multiclass ROC 0.849194377778 Accuracy 0.3976 loss 1.46135\n",
      "2000/|/100%|| 2000/2000 [00:25<00:00, 231.51it/s]"
     ]
    }
   ],
   "source": [
    "import numpy as np\n",
    "flatten = lambda l: np.array([item for sublist in l for item in sublist])   \n",
    "wmwaucs_sig = []\n",
    "ceaucs_sig = []\n",
    "\n",
    "\n",
    "for mu in [0.2,0.5,0.8]:\n",
    "    for p in [1,500,1000,2500,5000]:\n",
    "        class_nums = []\n",
    "        for i in range(10):\n",
    "            n = 5000\n",
    "            if i < mu*10:\n",
    "                n /= p\n",
    "            class_nums.append(int(n))\n",
    "        print (class_nums)\n",
    "        for count in range(3):                     \n",
    "            \n",
    "            random.seed(count)\n",
    "            torch.cuda.manual_seed(count)        \n",
    "            np.random.seed(count)            \n",
    "            train_input_balanced, train_targets_balanced = randomize(test_input, test_targets)\n",
    "            train_input_balanced = flatten([train_input_balanced[train_targets_balanced == i][:class_nums[int(i)]] for i in range(10)])\n",
    "            train_targets_balanced = flatten([train_targets_balanced[train_targets_balanced == i][:class_nums[int(i)]] for i in range(10)])  \n",
    "            \n",
    "            \n",
    "            test_nums = [500,500,500,500,500,500,500,500,500,500]\n",
    "            test_input_r, test_targets_r = randomize(test_input, test_targets)\n",
    "            test_input_balanced = flatten([test_input_r[test_targets_r == i][:test_nums[int(i)]] for i in range(10)])\n",
    "            test_targets_balanced = flatten([test_targets_r[test_targets_r == i][:test_nums[int(i)]] for i in range(10)])\n",
    "\n",
    "            train_input_balanced_np, train_targets_balanced_np = randomize(train_input_balanced, train_targets_balanced)\n",
    "            test_input_balanced_np, test_targets_balanced_np = randomize(test_input_balanced, test_targets_balanced)\n",
    "\n",
    "            from torch.autograd import Variable\n",
    "            train_input_balanced = torch.utils.data.TensorDataset(torch.from_numpy(train_input_balanced_np), \n",
    "                                                                  torch.from_numpy(train_targets_balanced_np))\n",
    "            test_input_balanced = torch.utils.data.TensorDataset(torch.from_numpy(test_input_balanced_np), \n",
    "                                                                  torch.from_numpy(test_targets_balanced_np))\n",
    "\n",
    "\n",
    "            sampler = StratifiedSampler(torch.from_numpy(train_targets_balanced_np))\n",
    "            train_loader = torch.utils.data.DataLoader(\n",
    "                         dataset=train_input_balanced,sampler=sampler,batch_size=64,\n",
    "                         shuffle=False, num_workers=int(0), pin_memory=True, drop_last=True)\n",
    "            test_loader = torch.utils.data.DataLoader(\n",
    "                         dataset=test_input_balanced,batch_size=65536,\n",
    "                         shuffle=False, num_workers=int(0), pin_memory=True, drop_last=True)\n",
    "\n",
    "            test_input_balanced = Variable(torch.from_numpy(test_input_balanced_np).cuda(), volatile=True)\n",
    "            test_targets_balanced = Variable(torch.from_numpy(test_targets_balanced_np).cuda(), volatile=True)\n",
    "            \n",
    "            wmwaucs_sig.append(train(makeOvoSig(2.0), 2000))\n",
    "            ceaucs_sig.append(train(nn.CrossEntropyLoss(size_average = True),2000))\n",
    "            \n"
   ]
  },
  {
   "cell_type": "code",
   "execution_count": 23,
   "metadata": {},
   "outputs": [
    {
     "data": {
      "text/plain": [
       "<matplotlib.legend.Legend at 0x7f621639d240>"
      ]
     },
     "execution_count": 23,
     "metadata": {},
     "output_type": "execute_result"
    },
    {
     "data": {
      "image/png": "[encoded data removed]",
      "text/plain": [
       "<matplotlib.figure.Figure at 0x7f62466a7048>"
      ]
     },
     "metadata": {},
     "output_type": "display_data"
    }
   ],
   "source": [
    "%matplotlib inline\n",
    "wmwaucs_sig_np_bal = np.array([l[0] for l in wmwaucs_sig]).reshape((3,5,3,20,3)) #mu, p, count, iter, (testauc, accuracy, loss)\n",
    "ceaucs_sig_np_bal = np.array([l[0] for l in ceaucs_sig]).reshape((3,5,3,20,3))\n",
    "def plot(t,label=None):\n",
    "    plt.plot(range(len(t)),t, label=label)\n",
    "i=-1\n",
    "plt.plot([1,500,1000,2500,5000],wmwaucs_sig_np_bal[2,:,:,i,0].mean(axis=1), label='wmw'+str(0))\n",
    "plt.plot([1,500,1000,2500,5000],ceaucs_sig_np_bal[2,:,:,i,0].mean(axis=1), label='cross entropy')\n",
    "plt.legend()"
   ]
  },
  {
   "cell_type": "code",
   "execution_count": 7,
   "metadata": {},
   "outputs": [
    {
     "data": {
      "text/plain": [
       "<matplotlib.legend.Legend at 0x7f62465aa940>"
      ]
     },
     "execution_count": 7,
     "metadata": {},
     "output_type": "execute_result"
    },
    {
     "data": {
      "image/png": "[encoded data removed]",
      "text/plain": [
       "<matplotlib.figure.Figure at 0x7f62466e03c8>"
      ]
     },
     "metadata": {},
     "output_type": "display_data"
    }
   ],
   "source": [
    "%matplotlib inline\n",
    "def plot(t,label=None):\n",
    "    plt.plot(range(len(t)),t, label=label)\n",
    "i=-1\n",
    "plt.plot([1,500,1000,2500,5000],wmwaucs_sig_np[2,:,:,i,0].mean(axis=1), label='wmw'+str(0))\n",
    "plt.plot([1,500,1000,2500,5000],ceaucs_sig_np[2,:,:,i,0].mean(axis=1), label='cross entropy')\n",
    "plt.legend()"
   ]
  }
 ],
 "metadata": {
  "kernelspec": {
   "display_name": "Python 3",
   "language": "python",
   "name": "python3"
  },
  "language_info": {
   "codemirror_mode": {
    "name": "ipython",
    "version": 3
   },
   "file_extension": ".py",
   "mimetype": "text/x-python",
   "name": "python",
   "nbconvert_exporter": "python",
   "pygments_lexer": "ipython3",
   "version": "3.6.1"
  }
 },
 "nbformat": 4,
 "nbformat_minor": 2
}
